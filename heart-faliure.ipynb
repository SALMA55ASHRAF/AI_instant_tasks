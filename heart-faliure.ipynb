{
 "cells": [
  {
   "cell_type": "code",
   "execution_count": 1,
   "id": "004d4b02",
   "metadata": {
    "_cell_guid": "b1076dfc-b9ad-4769-8c92-a6c4dae69d19",
    "_uuid": "8f2839f25d086af736a60e9eeb907d3b93b6e0e5",
    "execution": {
     "iopub.execute_input": "2024-03-12T19:25:18.952152Z",
     "iopub.status.busy": "2024-03-12T19:25:18.951280Z",
     "iopub.status.idle": "2024-03-12T19:25:19.994332Z",
     "shell.execute_reply": "2024-03-12T19:25:19.992224Z"
    },
    "papermill": {
     "duration": 1.058482,
     "end_time": "2024-03-12T19:25:19.997577",
     "exception": false,
     "start_time": "2024-03-12T19:25:18.939095",
     "status": "completed"
    },
    "tags": []
   },
   "outputs": [
    {
     "name": "stdout",
     "output_type": "stream",
     "text": [
      "/kaggle/input/heart-failure-clinical-data/heart_failure_clinical_records_dataset.csv\n"
     ]
    }
   ],
   "source": [
    "# This Python 3 environment comes with many helpful analytics libraries installed\n",
    "# It is defined by the kaggle/python Docker image: https://github.com/kaggle/docker-python\n",
    "# For example, here's several helpful packages to load\n",
    "\n",
    "import numpy as np # linear algebra\n",
    "import pandas as pd # data processing, CSV file I/O (e.g. pd.read_csv)\n",
    "\n",
    "# Input data files are available in the read-only \"../input/\" directory\n",
    "# For example, running this (by clicking run or pressing Shift+Enter) will list all files under the input directory\n",
    "\n",
    "import os\n",
    "for dirname, _, filenames in os.walk('/kaggle/input'):\n",
    "    for filename in filenames:\n",
    "        print(os.path.join(dirname, filename))\n",
    "\n",
    "# You can write up to 20GB to the current directory (/kaggle/working/) that gets preserved as output when you create a version using \"Save & Run All\" \n",
    "# You can also write temporary files to /kaggle/temp/, but they won't be saved outside of the current session"
   ]
  },
  {
   "cell_type": "code",
   "execution_count": 2,
   "id": "d8d7e94a",
   "metadata": {
    "execution": {
     "iopub.execute_input": "2024-03-12T19:25:20.019265Z",
     "iopub.status.busy": "2024-03-12T19:25:20.018693Z",
     "iopub.status.idle": "2024-03-12T19:25:21.730839Z",
     "shell.execute_reply": "2024-03-12T19:25:21.729749Z"
    },
    "papermill": {
     "duration": 1.726778,
     "end_time": "2024-03-12T19:25:21.734363",
     "exception": false,
     "start_time": "2024-03-12T19:25:20.007585",
     "status": "completed"
    },
    "tags": []
   },
   "outputs": [
    {
     "data": {
      "text/html": [
       "<div>\n",
       "<style scoped>\n",
       "    .dataframe tbody tr th:only-of-type {\n",
       "        vertical-align: middle;\n",
       "    }\n",
       "\n",
       "    .dataframe tbody tr th {\n",
       "        vertical-align: top;\n",
       "    }\n",
       "\n",
       "    .dataframe thead th {\n",
       "        text-align: right;\n",
       "    }\n",
       "</style>\n",
       "<table border=\"1\" class=\"dataframe\">\n",
       "  <thead>\n",
       "    <tr style=\"text-align: right;\">\n",
       "      <th></th>\n",
       "      <th>age</th>\n",
       "      <th>anaemia</th>\n",
       "      <th>creatinine_phosphokinase</th>\n",
       "      <th>diabetes</th>\n",
       "      <th>ejection_fraction</th>\n",
       "      <th>high_blood_pressure</th>\n",
       "      <th>platelets</th>\n",
       "      <th>serum_creatinine</th>\n",
       "      <th>serum_sodium</th>\n",
       "      <th>sex</th>\n",
       "      <th>smoking</th>\n",
       "      <th>time</th>\n",
       "      <th>DEATH_EVENT</th>\n",
       "    </tr>\n",
       "  </thead>\n",
       "  <tbody>\n",
       "    <tr>\n",
       "      <th>0</th>\n",
       "      <td>75.0</td>\n",
       "      <td>0</td>\n",
       "      <td>582</td>\n",
       "      <td>0</td>\n",
       "      <td>20</td>\n",
       "      <td>1</td>\n",
       "      <td>265000.00</td>\n",
       "      <td>1.9</td>\n",
       "      <td>130</td>\n",
       "      <td>1</td>\n",
       "      <td>0</td>\n",
       "      <td>4</td>\n",
       "      <td>1</td>\n",
       "    </tr>\n",
       "    <tr>\n",
       "      <th>1</th>\n",
       "      <td>55.0</td>\n",
       "      <td>0</td>\n",
       "      <td>7861</td>\n",
       "      <td>0</td>\n",
       "      <td>38</td>\n",
       "      <td>0</td>\n",
       "      <td>263358.03</td>\n",
       "      <td>1.1</td>\n",
       "      <td>136</td>\n",
       "      <td>1</td>\n",
       "      <td>0</td>\n",
       "      <td>6</td>\n",
       "      <td>1</td>\n",
       "    </tr>\n",
       "    <tr>\n",
       "      <th>2</th>\n",
       "      <td>65.0</td>\n",
       "      <td>0</td>\n",
       "      <td>146</td>\n",
       "      <td>0</td>\n",
       "      <td>20</td>\n",
       "      <td>0</td>\n",
       "      <td>162000.00</td>\n",
       "      <td>1.3</td>\n",
       "      <td>129</td>\n",
       "      <td>1</td>\n",
       "      <td>1</td>\n",
       "      <td>7</td>\n",
       "      <td>1</td>\n",
       "    </tr>\n",
       "    <tr>\n",
       "      <th>3</th>\n",
       "      <td>50.0</td>\n",
       "      <td>1</td>\n",
       "      <td>111</td>\n",
       "      <td>0</td>\n",
       "      <td>20</td>\n",
       "      <td>0</td>\n",
       "      <td>210000.00</td>\n",
       "      <td>1.9</td>\n",
       "      <td>137</td>\n",
       "      <td>1</td>\n",
       "      <td>0</td>\n",
       "      <td>7</td>\n",
       "      <td>1</td>\n",
       "    </tr>\n",
       "    <tr>\n",
       "      <th>4</th>\n",
       "      <td>65.0</td>\n",
       "      <td>1</td>\n",
       "      <td>160</td>\n",
       "      <td>1</td>\n",
       "      <td>20</td>\n",
       "      <td>0</td>\n",
       "      <td>327000.00</td>\n",
       "      <td>2.7</td>\n",
       "      <td>116</td>\n",
       "      <td>0</td>\n",
       "      <td>0</td>\n",
       "      <td>8</td>\n",
       "      <td>1</td>\n",
       "    </tr>\n",
       "  </tbody>\n",
       "</table>\n",
       "</div>"
      ],
      "text/plain": [
       "    age  anaemia  creatinine_phosphokinase  diabetes  ejection_fraction  \\\n",
       "0  75.0        0                       582         0                 20   \n",
       "1  55.0        0                      7861         0                 38   \n",
       "2  65.0        0                       146         0                 20   \n",
       "3  50.0        1                       111         0                 20   \n",
       "4  65.0        1                       160         1                 20   \n",
       "\n",
       "   high_blood_pressure  platelets  serum_creatinine  serum_sodium  sex  \\\n",
       "0                    1  265000.00               1.9           130    1   \n",
       "1                    0  263358.03               1.1           136    1   \n",
       "2                    0  162000.00               1.3           129    1   \n",
       "3                    0  210000.00               1.9           137    1   \n",
       "4                    0  327000.00               2.7           116    0   \n",
       "\n",
       "   smoking  time  DEATH_EVENT  \n",
       "0        0     4            1  \n",
       "1        0     6            1  \n",
       "2        1     7            1  \n",
       "3        0     7            1  \n",
       "4        0     8            1  "
      ]
     },
     "execution_count": 2,
     "metadata": {},
     "output_type": "execute_result"
    }
   ],
   "source": [
    "import matplotlib.pyplot as plt\n",
    "import seaborn as sns\n",
    "df=pd.read_csv(\"/kaggle/input/heart-failure-clinical-data/heart_failure_clinical_records_dataset.csv\")\n",
    "df.head()"
   ]
  },
  {
   "cell_type": "code",
   "execution_count": 3,
   "id": "4e67c153",
   "metadata": {
    "execution": {
     "iopub.execute_input": "2024-03-12T19:25:21.761140Z",
     "iopub.status.busy": "2024-03-12T19:25:21.760195Z",
     "iopub.status.idle": "2024-03-12T19:25:21.800477Z",
     "shell.execute_reply": "2024-03-12T19:25:21.799414Z"
    },
    "papermill": {
     "duration": 0.056691,
     "end_time": "2024-03-12T19:25:21.804090",
     "exception": false,
     "start_time": "2024-03-12T19:25:21.747399",
     "status": "completed"
    },
    "tags": []
   },
   "outputs": [
    {
     "name": "stdout",
     "output_type": "stream",
     "text": [
      "<class 'pandas.core.frame.DataFrame'>\n",
      "RangeIndex: 299 entries, 0 to 298\n",
      "Data columns (total 13 columns):\n",
      " #   Column                    Non-Null Count  Dtype  \n",
      "---  ------                    --------------  -----  \n",
      " 0   age                       299 non-null    float64\n",
      " 1   anaemia                   299 non-null    int64  \n",
      " 2   creatinine_phosphokinase  299 non-null    int64  \n",
      " 3   diabetes                  299 non-null    int64  \n",
      " 4   ejection_fraction         299 non-null    int64  \n",
      " 5   high_blood_pressure       299 non-null    int64  \n",
      " 6   platelets                 299 non-null    float64\n",
      " 7   serum_creatinine          299 non-null    float64\n",
      " 8   serum_sodium              299 non-null    int64  \n",
      " 9   sex                       299 non-null    int64  \n",
      " 10  smoking                   299 non-null    int64  \n",
      " 11  time                      299 non-null    int64  \n",
      " 12  DEATH_EVENT               299 non-null    int64  \n",
      "dtypes: float64(3), int64(10)\n",
      "memory usage: 30.5 KB\n"
     ]
    }
   ],
   "source": [
    "df.info()"
   ]
  },
  {
   "cell_type": "code",
   "execution_count": 4,
   "id": "f8111496",
   "metadata": {
    "execution": {
     "iopub.execute_input": "2024-03-12T19:25:21.832108Z",
     "iopub.status.busy": "2024-03-12T19:25:21.831572Z",
     "iopub.status.idle": "2024-03-12T19:25:21.888267Z",
     "shell.execute_reply": "2024-03-12T19:25:21.887278Z"
    },
    "papermill": {
     "duration": 0.074516,
     "end_time": "2024-03-12T19:25:21.891798",
     "exception": false,
     "start_time": "2024-03-12T19:25:21.817282",
     "status": "completed"
    },
    "tags": []
   },
   "outputs": [
    {
     "data": {
      "text/html": [
       "<div>\n",
       "<style scoped>\n",
       "    .dataframe tbody tr th:only-of-type {\n",
       "        vertical-align: middle;\n",
       "    }\n",
       "\n",
       "    .dataframe tbody tr th {\n",
       "        vertical-align: top;\n",
       "    }\n",
       "\n",
       "    .dataframe thead th {\n",
       "        text-align: right;\n",
       "    }\n",
       "</style>\n",
       "<table border=\"1\" class=\"dataframe\">\n",
       "  <thead>\n",
       "    <tr style=\"text-align: right;\">\n",
       "      <th></th>\n",
       "      <th>age</th>\n",
       "      <th>anaemia</th>\n",
       "      <th>creatinine_phosphokinase</th>\n",
       "      <th>diabetes</th>\n",
       "      <th>ejection_fraction</th>\n",
       "      <th>high_blood_pressure</th>\n",
       "      <th>platelets</th>\n",
       "      <th>serum_creatinine</th>\n",
       "      <th>serum_sodium</th>\n",
       "      <th>sex</th>\n",
       "      <th>smoking</th>\n",
       "      <th>time</th>\n",
       "      <th>DEATH_EVENT</th>\n",
       "    </tr>\n",
       "  </thead>\n",
       "  <tbody>\n",
       "    <tr>\n",
       "      <th>count</th>\n",
       "      <td>299.000000</td>\n",
       "      <td>299.000000</td>\n",
       "      <td>299.000000</td>\n",
       "      <td>299.000000</td>\n",
       "      <td>299.000000</td>\n",
       "      <td>299.000000</td>\n",
       "      <td>299.000000</td>\n",
       "      <td>299.00000</td>\n",
       "      <td>299.000000</td>\n",
       "      <td>299.000000</td>\n",
       "      <td>299.00000</td>\n",
       "      <td>299.000000</td>\n",
       "      <td>299.00000</td>\n",
       "    </tr>\n",
       "    <tr>\n",
       "      <th>mean</th>\n",
       "      <td>60.833893</td>\n",
       "      <td>0.431438</td>\n",
       "      <td>581.839465</td>\n",
       "      <td>0.418060</td>\n",
       "      <td>38.083612</td>\n",
       "      <td>0.351171</td>\n",
       "      <td>263358.029264</td>\n",
       "      <td>1.39388</td>\n",
       "      <td>136.625418</td>\n",
       "      <td>0.648829</td>\n",
       "      <td>0.32107</td>\n",
       "      <td>130.260870</td>\n",
       "      <td>0.32107</td>\n",
       "    </tr>\n",
       "    <tr>\n",
       "      <th>std</th>\n",
       "      <td>11.894809</td>\n",
       "      <td>0.496107</td>\n",
       "      <td>970.287881</td>\n",
       "      <td>0.494067</td>\n",
       "      <td>11.834841</td>\n",
       "      <td>0.478136</td>\n",
       "      <td>97804.236869</td>\n",
       "      <td>1.03451</td>\n",
       "      <td>4.412477</td>\n",
       "      <td>0.478136</td>\n",
       "      <td>0.46767</td>\n",
       "      <td>77.614208</td>\n",
       "      <td>0.46767</td>\n",
       "    </tr>\n",
       "    <tr>\n",
       "      <th>min</th>\n",
       "      <td>40.000000</td>\n",
       "      <td>0.000000</td>\n",
       "      <td>23.000000</td>\n",
       "      <td>0.000000</td>\n",
       "      <td>14.000000</td>\n",
       "      <td>0.000000</td>\n",
       "      <td>25100.000000</td>\n",
       "      <td>0.50000</td>\n",
       "      <td>113.000000</td>\n",
       "      <td>0.000000</td>\n",
       "      <td>0.00000</td>\n",
       "      <td>4.000000</td>\n",
       "      <td>0.00000</td>\n",
       "    </tr>\n",
       "    <tr>\n",
       "      <th>25%</th>\n",
       "      <td>51.000000</td>\n",
       "      <td>0.000000</td>\n",
       "      <td>116.500000</td>\n",
       "      <td>0.000000</td>\n",
       "      <td>30.000000</td>\n",
       "      <td>0.000000</td>\n",
       "      <td>212500.000000</td>\n",
       "      <td>0.90000</td>\n",
       "      <td>134.000000</td>\n",
       "      <td>0.000000</td>\n",
       "      <td>0.00000</td>\n",
       "      <td>73.000000</td>\n",
       "      <td>0.00000</td>\n",
       "    </tr>\n",
       "    <tr>\n",
       "      <th>50%</th>\n",
       "      <td>60.000000</td>\n",
       "      <td>0.000000</td>\n",
       "      <td>250.000000</td>\n",
       "      <td>0.000000</td>\n",
       "      <td>38.000000</td>\n",
       "      <td>0.000000</td>\n",
       "      <td>262000.000000</td>\n",
       "      <td>1.10000</td>\n",
       "      <td>137.000000</td>\n",
       "      <td>1.000000</td>\n",
       "      <td>0.00000</td>\n",
       "      <td>115.000000</td>\n",
       "      <td>0.00000</td>\n",
       "    </tr>\n",
       "    <tr>\n",
       "      <th>75%</th>\n",
       "      <td>70.000000</td>\n",
       "      <td>1.000000</td>\n",
       "      <td>582.000000</td>\n",
       "      <td>1.000000</td>\n",
       "      <td>45.000000</td>\n",
       "      <td>1.000000</td>\n",
       "      <td>303500.000000</td>\n",
       "      <td>1.40000</td>\n",
       "      <td>140.000000</td>\n",
       "      <td>1.000000</td>\n",
       "      <td>1.00000</td>\n",
       "      <td>203.000000</td>\n",
       "      <td>1.00000</td>\n",
       "    </tr>\n",
       "    <tr>\n",
       "      <th>max</th>\n",
       "      <td>95.000000</td>\n",
       "      <td>1.000000</td>\n",
       "      <td>7861.000000</td>\n",
       "      <td>1.000000</td>\n",
       "      <td>80.000000</td>\n",
       "      <td>1.000000</td>\n",
       "      <td>850000.000000</td>\n",
       "      <td>9.40000</td>\n",
       "      <td>148.000000</td>\n",
       "      <td>1.000000</td>\n",
       "      <td>1.00000</td>\n",
       "      <td>285.000000</td>\n",
       "      <td>1.00000</td>\n",
       "    </tr>\n",
       "  </tbody>\n",
       "</table>\n",
       "</div>"
      ],
      "text/plain": [
       "              age     anaemia  creatinine_phosphokinase    diabetes  \\\n",
       "count  299.000000  299.000000                299.000000  299.000000   \n",
       "mean    60.833893    0.431438                581.839465    0.418060   \n",
       "std     11.894809    0.496107                970.287881    0.494067   \n",
       "min     40.000000    0.000000                 23.000000    0.000000   \n",
       "25%     51.000000    0.000000                116.500000    0.000000   \n",
       "50%     60.000000    0.000000                250.000000    0.000000   \n",
       "75%     70.000000    1.000000                582.000000    1.000000   \n",
       "max     95.000000    1.000000               7861.000000    1.000000   \n",
       "\n",
       "       ejection_fraction  high_blood_pressure      platelets  \\\n",
       "count         299.000000           299.000000     299.000000   \n",
       "mean           38.083612             0.351171  263358.029264   \n",
       "std            11.834841             0.478136   97804.236869   \n",
       "min            14.000000             0.000000   25100.000000   \n",
       "25%            30.000000             0.000000  212500.000000   \n",
       "50%            38.000000             0.000000  262000.000000   \n",
       "75%            45.000000             1.000000  303500.000000   \n",
       "max            80.000000             1.000000  850000.000000   \n",
       "\n",
       "       serum_creatinine  serum_sodium         sex    smoking        time  \\\n",
       "count         299.00000    299.000000  299.000000  299.00000  299.000000   \n",
       "mean            1.39388    136.625418    0.648829    0.32107  130.260870   \n",
       "std             1.03451      4.412477    0.478136    0.46767   77.614208   \n",
       "min             0.50000    113.000000    0.000000    0.00000    4.000000   \n",
       "25%             0.90000    134.000000    0.000000    0.00000   73.000000   \n",
       "50%             1.10000    137.000000    1.000000    0.00000  115.000000   \n",
       "75%             1.40000    140.000000    1.000000    1.00000  203.000000   \n",
       "max             9.40000    148.000000    1.000000    1.00000  285.000000   \n",
       "\n",
       "       DEATH_EVENT  \n",
       "count    299.00000  \n",
       "mean       0.32107  \n",
       "std        0.46767  \n",
       "min        0.00000  \n",
       "25%        0.00000  \n",
       "50%        0.00000  \n",
       "75%        1.00000  \n",
       "max        1.00000  "
      ]
     },
     "execution_count": 4,
     "metadata": {},
     "output_type": "execute_result"
    }
   ],
   "source": [
    "df.describe()"
   ]
  },
  {
   "cell_type": "code",
   "execution_count": 5,
   "id": "845b7b78",
   "metadata": {
    "execution": {
     "iopub.execute_input": "2024-03-12T19:25:21.917747Z",
     "iopub.status.busy": "2024-03-12T19:25:21.916721Z",
     "iopub.status.idle": "2024-03-12T19:25:22.539948Z",
     "shell.execute_reply": "2024-03-12T19:25:22.538947Z"
    },
    "papermill": {
     "duration": 0.638075,
     "end_time": "2024-03-12T19:25:22.542324",
     "exception": false,
     "start_time": "2024-03-12T19:25:21.904249",
     "status": "completed"
    },
    "tags": []
   },
   "outputs": [
    {
     "data": {
      "image/png": "[encoded data removed]",
      "text/plain": [
       "<Figure size 640x480 with 1 Axes>"
      ]
     },
     "metadata": {},
     "output_type": "display_data"
    }
   ],
   "source": [
    "df['age'].plot(kind=\"hist\",bins=25)\n",
    "plt.xlabel(\"age\")\n",
    "plt.title(\"distrubtion of ages\");"
   ]
  },
  {
   "cell_type": "code",
   "execution_count": 6,
   "id": "a5daa2b9",
   "metadata": {
    "execution": {
     "iopub.execute_input": "2024-03-12T19:25:22.564639Z",
     "iopub.status.busy": "2024-03-12T19:25:22.563910Z",
     "iopub.status.idle": "2024-03-12T19:25:22.586405Z",
     "shell.execute_reply": "2024-03-12T19:25:22.584786Z"
    },
    "papermill": {
     "duration": 0.036887,
     "end_time": "2024-03-12T19:25:22.589142",
     "exception": false,
     "start_time": "2024-03-12T19:25:22.552255",
     "status": "completed"
    },
    "tags": []
   },
   "outputs": [
    {
     "data": {
      "text/html": [
       "<div>\n",
       "<style scoped>\n",
       "    .dataframe tbody tr th:only-of-type {\n",
       "        vertical-align: middle;\n",
       "    }\n",
       "\n",
       "    .dataframe tbody tr th {\n",
       "        vertical-align: top;\n",
       "    }\n",
       "\n",
       "    .dataframe thead th {\n",
       "        text-align: right;\n",
       "    }\n",
       "</style>\n",
       "<table border=\"1\" class=\"dataframe\">\n",
       "  <thead>\n",
       "    <tr style=\"text-align: right;\">\n",
       "      <th></th>\n",
       "      <th>age</th>\n",
       "      <th>anaemia</th>\n",
       "      <th>creatinine_phosphokinase</th>\n",
       "      <th>diabetes</th>\n",
       "      <th>ejection_fraction</th>\n",
       "      <th>high_blood_pressure</th>\n",
       "      <th>platelets</th>\n",
       "      <th>serum_creatinine</th>\n",
       "      <th>serum_sodium</th>\n",
       "      <th>sex</th>\n",
       "      <th>smoking</th>\n",
       "      <th>time</th>\n",
       "      <th>DEATH_EVENT</th>\n",
       "    </tr>\n",
       "  </thead>\n",
       "  <tbody>\n",
       "    <tr>\n",
       "      <th>26</th>\n",
       "      <td>95.0</td>\n",
       "      <td>1</td>\n",
       "      <td>112</td>\n",
       "      <td>0</td>\n",
       "      <td>40</td>\n",
       "      <td>1</td>\n",
       "      <td>196000.00</td>\n",
       "      <td>1.00</td>\n",
       "      <td>138</td>\n",
       "      <td>0</td>\n",
       "      <td>0</td>\n",
       "      <td>24</td>\n",
       "      <td>1</td>\n",
       "    </tr>\n",
       "    <tr>\n",
       "      <th>30</th>\n",
       "      <td>94.0</td>\n",
       "      <td>0</td>\n",
       "      <td>582</td>\n",
       "      <td>1</td>\n",
       "      <td>38</td>\n",
       "      <td>1</td>\n",
       "      <td>263358.03</td>\n",
       "      <td>1.83</td>\n",
       "      <td>134</td>\n",
       "      <td>1</td>\n",
       "      <td>0</td>\n",
       "      <td>27</td>\n",
       "      <td>1</td>\n",
       "    </tr>\n",
       "    <tr>\n",
       "      <th>55</th>\n",
       "      <td>95.0</td>\n",
       "      <td>1</td>\n",
       "      <td>371</td>\n",
       "      <td>0</td>\n",
       "      <td>30</td>\n",
       "      <td>0</td>\n",
       "      <td>461000.00</td>\n",
       "      <td>2.00</td>\n",
       "      <td>132</td>\n",
       "      <td>1</td>\n",
       "      <td>0</td>\n",
       "      <td>50</td>\n",
       "      <td>1</td>\n",
       "    </tr>\n",
       "  </tbody>\n",
       "</table>\n",
       "</div>"
      ],
      "text/plain": [
       "     age  anaemia  creatinine_phosphokinase  diabetes  ejection_fraction  \\\n",
       "26  95.0        1                       112         0                 40   \n",
       "30  94.0        0                       582         1                 38   \n",
       "55  95.0        1                       371         0                 30   \n",
       "\n",
       "    high_blood_pressure  platelets  serum_creatinine  serum_sodium  sex  \\\n",
       "26                    1  196000.00              1.00           138    0   \n",
       "30                    1  263358.03              1.83           134    1   \n",
       "55                    0  461000.00              2.00           132    1   \n",
       "\n",
       "    smoking  time  DEATH_EVENT  \n",
       "26        0    24            1  \n",
       "30        0    27            1  \n",
       "55        0    50            1  "
      ]
     },
     "execution_count": 6,
     "metadata": {},
     "output_type": "execute_result"
    }
   ],
   "source": [
    "df[df['age']>90]"
   ]
  },
  {
   "cell_type": "code",
   "execution_count": 7,
   "id": "a8b5d492",
   "metadata": {
    "execution": {
     "iopub.execute_input": "2024-03-12T19:25:22.611647Z",
     "iopub.status.busy": "2024-03-12T19:25:22.611191Z",
     "iopub.status.idle": "2024-03-12T19:25:22.622049Z",
     "shell.execute_reply": "2024-03-12T19:25:22.620653Z"
    },
    "papermill": {
     "duration": 0.025537,
     "end_time": "2024-03-12T19:25:22.624761",
     "exception": false,
     "start_time": "2024-03-12T19:25:22.599224",
     "status": "completed"
    },
    "tags": []
   },
   "outputs": [
    {
     "data": {
      "text/plain": [
       "age                         0\n",
       "anaemia                     0\n",
       "creatinine_phosphokinase    0\n",
       "diabetes                    0\n",
       "ejection_fraction           0\n",
       "high_blood_pressure         0\n",
       "platelets                   0\n",
       "serum_creatinine            0\n",
       "serum_sodium                0\n",
       "sex                         0\n",
       "smoking                     0\n",
       "time                        0\n",
       "DEATH_EVENT                 0\n",
       "dtype: int64"
      ]
     },
     "execution_count": 7,
     "metadata": {},
     "output_type": "execute_result"
    }
   ],
   "source": [
    "df.isnull().sum()"
   ]
  },
  {
   "cell_type": "code",
   "execution_count": 8,
   "id": "e718e82c",
   "metadata": {
    "execution": {
     "iopub.execute_input": "2024-03-12T19:25:22.649853Z",
     "iopub.status.busy": "2024-03-12T19:25:22.648448Z",
     "iopub.status.idle": "2024-03-12T19:25:23.438722Z",
     "shell.execute_reply": "2024-03-12T19:25:23.437129Z"
    },
    "papermill": {
     "duration": 0.806393,
     "end_time": "2024-03-12T19:25:23.441467",
     "exception": false,
     "start_time": "2024-03-12T19:25:22.635074",
     "status": "completed"
    },
    "tags": []
   },
   "outputs": [
    {
     "data": {
      "image/png": "[encoded data removed]",
      "text/plain": [
       "<Figure size 640x480 with 2 Axes>"
      ]
     },
     "metadata": {},
     "output_type": "display_data"
    }
   ],
   "source": [
    "sns.heatmap(df.isnull())\n",
    "plt.title(\"null values in our df\");"
   ]
  },
  {
   "cell_type": "code",
   "execution_count": 9,
   "id": "b01a03e4",
   "metadata": {
    "execution": {
     "iopub.execute_input": "2024-03-12T19:25:23.466104Z",
     "iopub.status.busy": "2024-03-12T19:25:23.465572Z",
     "iopub.status.idle": "2024-03-12T19:25:23.477461Z",
     "shell.execute_reply": "2024-03-12T19:25:23.475967Z"
    },
    "papermill": {
     "duration": 0.027801,
     "end_time": "2024-03-12T19:25:23.480170",
     "exception": false,
     "start_time": "2024-03-12T19:25:23.452369",
     "status": "completed"
    },
    "tags": []
   },
   "outputs": [
    {
     "data": {
      "text/plain": [
       "0"
      ]
     },
     "execution_count": 9,
     "metadata": {},
     "output_type": "execute_result"
    }
   ],
   "source": [
    "df.duplicated().sum()"
   ]
  },
  {
   "cell_type": "code",
   "execution_count": 10,
   "id": "79e3aaee",
   "metadata": {
    "execution": {
     "iopub.execute_input": "2024-03-12T19:25:23.506270Z",
     "iopub.status.busy": "2024-03-12T19:25:23.505674Z",
     "iopub.status.idle": "2024-03-12T19:25:23.514577Z",
     "shell.execute_reply": "2024-03-12T19:25:23.513188Z"
    },
    "papermill": {
     "duration": 0.026187,
     "end_time": "2024-03-12T19:25:23.518115",
     "exception": false,
     "start_time": "2024-03-12T19:25:23.491928",
     "status": "completed"
    },
    "tags": []
   },
   "outputs": [
    {
     "data": {
      "text/plain": [
       "Index(['age', 'anaemia', 'creatinine_phosphokinase', 'diabetes',\n",
       "       'ejection_fraction', 'high_blood_pressure', 'platelets',\n",
       "       'serum_creatinine', 'serum_sodium', 'sex', 'smoking', 'time',\n",
       "       'DEATH_EVENT'],\n",
       "      dtype='object')"
      ]
     },
     "execution_count": 10,
     "metadata": {},
     "output_type": "execute_result"
    }
   ],
   "source": [
    "df.columns"
   ]
  },
  {
   "cell_type": "code",
   "execution_count": 11,
   "id": "4398559d",
   "metadata": {
    "execution": {
     "iopub.execute_input": "2024-03-12T19:25:23.544611Z",
     "iopub.status.busy": "2024-03-12T19:25:23.544190Z",
     "iopub.status.idle": "2024-03-12T19:25:23.866934Z",
     "shell.execute_reply": "2024-03-12T19:25:23.865660Z"
    },
    "papermill": {
     "duration": 0.339742,
     "end_time": "2024-03-12T19:25:23.869426",
     "exception": false,
     "start_time": "2024-03-12T19:25:23.529684",
     "status": "completed"
    },
    "tags": []
   },
   "outputs": [
    {
     "data": {
      "image/png": "[encoded data removed]",
      "text/plain": [
       "<Figure size 640x480 with 1 Axes>"
      ]
     },
     "metadata": {},
     "output_type": "display_data"
    }
   ],
   "source": [
    "df['DEATH_EVENT'].value_counts(normalize=True).rename({0:\"will living\",1:\"will die\"}).plot(kind=\"bar\")\n",
    "plt.xlabel(\"classes\")\n",
    "plt.title(\"distrubtion of our classes\");"
   ]
  },
  {
   "cell_type": "code",
   "execution_count": 12,
   "id": "d6ea38e6",
   "metadata": {
    "execution": {
     "iopub.execute_input": "2024-03-12T19:25:23.894604Z",
     "iopub.status.busy": "2024-03-12T19:25:23.893926Z",
     "iopub.status.idle": "2024-03-12T19:25:24.963710Z",
     "shell.execute_reply": "2024-03-12T19:25:24.962429Z"
    },
    "papermill": {
     "duration": 1.087165,
     "end_time": "2024-03-12T19:25:24.967983",
     "exception": false,
     "start_time": "2024-03-12T19:25:23.880818",
     "status": "completed"
    },
    "tags": []
   },
   "outputs": [
    {
     "data": {
      "image/png": "[encoded data removed]",
      "text/plain": [
       "<Figure size 1500x600 with 2 Axes>"
      ]
     },
     "metadata": {},
     "output_type": "display_data"
    }
   ],
   "source": [
    "plt.figure(figsize=(15,6))\n",
    "sns.heatmap(df.corr().rank(axis=\"columns\"),annot=True,linewidth=.5);"
   ]
  },
  {
   "cell_type": "markdown",
   "id": "56628504",
   "metadata": {
    "papermill": {
     "duration": 0.013847,
     "end_time": "2024-03-12T19:25:24.995954",
     "exception": false,
     "start_time": "2024-03-12T19:25:24.982107",
     "status": "completed"
    },
    "tags": []
   },
   "source": [
    "as we see features that effect our target(death event) are age , anaemia , high blood pressure , serum crearine  and creatininie phosphokinase"
   ]
  },
  {
   "cell_type": "markdown",
   "id": "944b49f1",
   "metadata": {
    "papermill": {
     "duration": 0.014046,
     "end_time": "2024-03-12T19:25:25.026377",
     "exception": false,
     "start_time": "2024-03-12T19:25:25.012331",
     "status": "completed"
    },
    "tags": []
   },
   "source": [
    "# processing data"
   ]
  },
  {
   "cell_type": "code",
   "execution_count": 13,
   "id": "31ea79c5",
   "metadata": {
    "execution": {
     "iopub.execute_input": "2024-03-12T19:25:25.058786Z",
     "iopub.status.busy": "2024-03-12T19:25:25.058288Z",
     "iopub.status.idle": "2024-03-12T19:25:25.274703Z",
     "shell.execute_reply": "2024-03-12T19:25:25.272938Z"
    },
    "papermill": {
     "duration": 0.237894,
     "end_time": "2024-03-12T19:25:25.278323",
     "exception": false,
     "start_time": "2024-03-12T19:25:25.040429",
     "status": "completed"
    },
    "tags": []
   },
   "outputs": [],
   "source": [
    "from sklearn.preprocessing import LabelEncoder\n",
    "le=LabelEncoder()"
   ]
  },
  {
   "cell_type": "code",
   "execution_count": 14,
   "id": "a77541c2",
   "metadata": {
    "execution": {
     "iopub.execute_input": "2024-03-12T19:25:25.309528Z",
     "iopub.status.busy": "2024-03-12T19:25:25.309017Z",
     "iopub.status.idle": "2024-03-12T19:25:25.318659Z",
     "shell.execute_reply": "2024-03-12T19:25:25.317114Z"
    },
    "papermill": {
     "duration": 0.028779,
     "end_time": "2024-03-12T19:25:25.321900",
     "exception": false,
     "start_time": "2024-03-12T19:25:25.293121",
     "status": "completed"
    },
    "tags": []
   },
   "outputs": [
    {
     "data": {
      "text/plain": [
       "Index([], dtype='object')"
      ]
     },
     "execution_count": 14,
     "metadata": {},
     "output_type": "execute_result"
    }
   ],
   "source": [
    "df.select_dtypes(object).columns"
   ]
  },
  {
   "cell_type": "code",
   "execution_count": 15,
   "id": "bf8205e8",
   "metadata": {
    "execution": {
     "iopub.execute_input": "2024-03-12T19:25:25.352508Z",
     "iopub.status.busy": "2024-03-12T19:25:25.351786Z",
     "iopub.status.idle": "2024-03-12T19:25:25.823605Z",
     "shell.execute_reply": "2024-03-12T19:25:25.822316Z"
    },
    "papermill": {
     "duration": 0.491003,
     "end_time": "2024-03-12T19:25:25.826798",
     "exception": false,
     "start_time": "2024-03-12T19:25:25.335795",
     "status": "completed"
    },
    "tags": []
   },
   "outputs": [],
   "source": [
    "from sklearn.model_selection import train_test_split\n",
    "from sklearn.neighbors import KNeighborsClassifier\n",
    "from sklearn.tree import DecisionTreeClassifier\n",
    "from sklearn.naive_bayes import GaussianNB\n",
    "from sklearn.svm import SVC\n",
    "from sklearn.ensemble import RandomForestClassifier\n",
    "from sklearn.ensemble import GradientBoostingClassifier\n",
    "from sklearn.metrics import confusion_matrix\n",
    "from sklearn.metrics import classification_report"
   ]
  },
  {
   "cell_type": "code",
   "execution_count": 16,
   "id": "ae2b1a3d",
   "metadata": {
    "execution": {
     "iopub.execute_input": "2024-03-12T19:25:25.855757Z",
     "iopub.status.busy": "2024-03-12T19:25:25.855340Z",
     "iopub.status.idle": "2024-03-12T19:25:25.862677Z",
     "shell.execute_reply": "2024-03-12T19:25:25.861151Z"
    },
    "papermill": {
     "duration": 0.024772,
     "end_time": "2024-03-12T19:25:25.865221",
     "exception": false,
     "start_time": "2024-03-12T19:25:25.840449",
     "status": "completed"
    },
    "tags": []
   },
   "outputs": [],
   "source": [
    "X=df.drop(columns=['DEATH_EVENT'])\n",
    "y=df['DEATH_EVENT']"
   ]
  },
  {
   "cell_type": "code",
   "execution_count": 17,
   "id": "6595e75c",
   "metadata": {
    "execution": {
     "iopub.execute_input": "2024-03-12T19:25:25.895566Z",
     "iopub.status.busy": "2024-03-12T19:25:25.895044Z",
     "iopub.status.idle": "2024-03-12T19:25:25.905216Z",
     "shell.execute_reply": "2024-03-12T19:25:25.904196Z"
    },
    "papermill": {
     "duration": 0.028792,
     "end_time": "2024-03-12T19:25:25.907744",
     "exception": false,
     "start_time": "2024-03-12T19:25:25.878952",
     "status": "completed"
    },
    "tags": []
   },
   "outputs": [],
   "source": [
    "X_train,X_test,y_train,y_test=train_test_split(X,y,test_size=0.25,random_state=42)"
   ]
  },
  {
   "cell_type": "code",
   "execution_count": 18,
   "id": "f22e183b",
   "metadata": {
    "execution": {
     "iopub.execute_input": "2024-03-12T19:25:25.938149Z",
     "iopub.status.busy": "2024-03-12T19:25:25.936954Z",
     "iopub.status.idle": "2024-03-12T19:25:26.102883Z",
     "shell.execute_reply": "2024-03-12T19:25:26.100950Z"
    },
    "papermill": {
     "duration": 0.184062,
     "end_time": "2024-03-12T19:25:26.105648",
     "exception": false,
     "start_time": "2024-03-12T19:25:25.921586",
     "status": "completed"
    },
    "tags": []
   },
   "outputs": [
    {
     "name": "stdout",
     "output_type": "stream",
     "text": [
      "[[37  7]\n",
      " [14 17]]\n",
      "              precision    recall  f1-score   support\n",
      "\n",
      "           0       0.73      0.84      0.78        44\n",
      "           1       0.71      0.55      0.62        31\n",
      "\n",
      "    accuracy                           0.72        75\n",
      "   macro avg       0.72      0.69      0.70        75\n",
      "weighted avg       0.72      0.72      0.71        75\n",
      "\n",
      "train score:  1.0\n",
      "test score:  0.72\n"
     ]
    }
   ],
   "source": [
    "from sklearn.metrics import accuracy_score\n",
    "def do_models(model):\n",
    "    my_model=model() # take object from model\n",
    "    my_model.fit(X_train,y_train)\n",
    "    predict=my_model.predict(X_test)\n",
    "    print(confusion_matrix(y_test,predict))\n",
    "    print(classification_report(y_test,predict))\n",
    "    print(\"train score: \",accuracy_score(y_train,my_model.predict(X_train)))\n",
    "    print(\"test score: \",accuracy_score(y_test,predict))\n",
    "do_models(GradientBoostingClassifier)"
   ]
  },
  {
   "cell_type": "code",
   "execution_count": 19,
   "id": "c2fc5bd6",
   "metadata": {
    "execution": {
     "iopub.execute_input": "2024-03-12T19:25:26.135377Z",
     "iopub.status.busy": "2024-03-12T19:25:26.134905Z",
     "iopub.status.idle": "2024-03-12T19:25:26.174805Z",
     "shell.execute_reply": "2024-03-12T19:25:26.172963Z"
    },
    "papermill": {
     "duration": 0.058314,
     "end_time": "2024-03-12T19:25:26.177463",
     "exception": false,
     "start_time": "2024-03-12T19:25:26.119149",
     "status": "completed"
    },
    "tags": []
   },
   "outputs": [
    {
     "name": "stdout",
     "output_type": "stream",
     "text": [
      "[[44  0]\n",
      " [31  0]]\n",
      "              precision    recall  f1-score   support\n",
      "\n",
      "           0       0.59      1.00      0.74        44\n",
      "           1       0.00      0.00      0.00        31\n",
      "\n",
      "    accuracy                           0.59        75\n",
      "   macro avg       0.29      0.50      0.37        75\n",
      "weighted avg       0.34      0.59      0.43        75\n",
      "\n",
      "train score:  0.7098214285714286\n",
      "test score:  0.5866666666666667\n"
     ]
    },
    {
     "name": "stderr",
     "output_type": "stream",
     "text": [
      "/opt/conda/lib/python3.10/site-packages/sklearn/metrics/_classification.py:1344: UndefinedMetricWarning: Precision and F-score are ill-defined and being set to 0.0 in labels with no predicted samples. Use `zero_division` parameter to control this behavior.\n",
      "  _warn_prf(average, modifier, msg_start, len(result))\n",
      "/opt/conda/lib/python3.10/site-packages/sklearn/metrics/_classification.py:1344: UndefinedMetricWarning: Precision and F-score are ill-defined and being set to 0.0 in labels with no predicted samples. Use `zero_division` parameter to control this behavior.\n",
      "  _warn_prf(average, modifier, msg_start, len(result))\n",
      "/opt/conda/lib/python3.10/site-packages/sklearn/metrics/_classification.py:1344: UndefinedMetricWarning: Precision and F-score are ill-defined and being set to 0.0 in labels with no predicted samples. Use `zero_division` parameter to control this behavior.\n",
      "  _warn_prf(average, modifier, msg_start, len(result))\n"
     ]
    }
   ],
   "source": [
    "do_models(SVC)"
   ]
  },
  {
   "cell_type": "code",
   "execution_count": 20,
   "id": "ac749042",
   "metadata": {
    "execution": {
     "iopub.execute_input": "2024-03-12T19:25:26.206557Z",
     "iopub.status.busy": "2024-03-12T19:25:26.206158Z",
     "iopub.status.idle": "2024-03-12T19:25:26.499633Z",
     "shell.execute_reply": "2024-03-12T19:25:26.498113Z"
    },
    "papermill": {
     "duration": 0.311356,
     "end_time": "2024-03-12T19:25:26.502506",
     "exception": false,
     "start_time": "2024-03-12T19:25:26.191150",
     "status": "completed"
    },
    "tags": []
   },
   "outputs": [
    {
     "name": "stdout",
     "output_type": "stream",
     "text": [
      "[[37  7]\n",
      " [14 17]]\n",
      "              precision    recall  f1-score   support\n",
      "\n",
      "           0       0.73      0.84      0.78        44\n",
      "           1       0.71      0.55      0.62        31\n",
      "\n",
      "    accuracy                           0.72        75\n",
      "   macro avg       0.72      0.69      0.70        75\n",
      "weighted avg       0.72      0.72      0.71        75\n",
      "\n",
      "train score:  1.0\n",
      "test score:  0.72\n"
     ]
    }
   ],
   "source": [
    "do_models(RandomForestClassifier)"
   ]
  },
  {
   "cell_type": "code",
   "execution_count": 21,
   "id": "6b394eef",
   "metadata": {
    "execution": {
     "iopub.execute_input": "2024-03-12T19:25:26.532669Z",
     "iopub.status.busy": "2024-03-12T19:25:26.532179Z",
     "iopub.status.idle": "2024-03-12T19:25:26.582405Z",
     "shell.execute_reply": "2024-03-12T19:25:26.581002Z"
    },
    "papermill": {
     "duration": 0.069575,
     "end_time": "2024-03-12T19:25:26.585955",
     "exception": false,
     "start_time": "2024-03-12T19:25:26.516380",
     "status": "completed"
    },
    "tags": []
   },
   "outputs": [
    {
     "name": "stdout",
     "output_type": "stream",
     "text": [
      "[[39  5]\n",
      " [29  2]]\n",
      "              precision    recall  f1-score   support\n",
      "\n",
      "           0       0.57      0.89      0.70        44\n",
      "           1       0.29      0.06      0.11        31\n",
      "\n",
      "    accuracy                           0.55        75\n",
      "   macro avg       0.43      0.48      0.40        75\n",
      "weighted avg       0.45      0.55      0.45        75\n",
      "\n",
      "train score:  0.7544642857142857\n",
      "test score:  0.5466666666666666\n"
     ]
    }
   ],
   "source": [
    "do_models(KNeighborsClassifier)"
   ]
  },
  {
   "cell_type": "code",
   "execution_count": 22,
   "id": "bafa55c5",
   "metadata": {
    "execution": {
     "iopub.execute_input": "2024-03-12T19:25:26.618107Z",
     "iopub.status.busy": "2024-03-12T19:25:26.617307Z",
     "iopub.status.idle": "2024-03-12T19:25:26.645224Z",
     "shell.execute_reply": "2024-03-12T19:25:26.642855Z"
    },
    "papermill": {
     "duration": 0.047833,
     "end_time": "2024-03-12T19:25:26.648431",
     "exception": false,
     "start_time": "2024-03-12T19:25:26.600598",
     "status": "completed"
    },
    "tags": []
   },
   "outputs": [
    {
     "name": "stdout",
     "output_type": "stream",
     "text": [
      "[[36  8]\n",
      " [18 13]]\n",
      "              precision    recall  f1-score   support\n",
      "\n",
      "           0       0.67      0.82      0.73        44\n",
      "           1       0.62      0.42      0.50        31\n",
      "\n",
      "    accuracy                           0.65        75\n",
      "   macro avg       0.64      0.62      0.62        75\n",
      "weighted avg       0.65      0.65      0.64        75\n",
      "\n",
      "train score:  1.0\n",
      "test score:  0.6533333333333333\n"
     ]
    }
   ],
   "source": [
    "do_models(DecisionTreeClassifier)"
   ]
  }
 ],
 "metadata": {
  "kaggle": {
   "accelerator": "none",
   "dataSources": [
    {
     "datasetId": 727551,
     "sourceId": 1263738,
     "sourceType": "datasetVersion"
    }
   ],
   "dockerImageVersionId": 30664,
   "isGpuEnabled": false,
   "isInternetEnabled": true,
   "language": "python",
   "sourceType": "notebook"
  },
  "kernelspec": {
   "display_name": "Python 3",
   "language": "python",
   "name": "python3"
  },
  "language_info": {
   "codemirror_mode": {
    "name": "ipython",
    "version": 3
   },
   "file_extension": ".py",
   "mimetype": "text/x-python",
   "name": "python",
   "nbconvert_exporter": "python",
   "pygments_lexer": "ipython3",
   "version": "3.10.13"
  },
  "papermill": {
   "default_parameters": {},
   "duration": 11.669413,
   "end_time": "2024-03-12T19:25:27.387960",
   "environment_variables": {},
   "exception": null,
   "input_path": "__notebook__.ipynb",
   "output_path": "__notebook__.ipynb",
   "parameters": {},
   "start_time": "2024-03-12T19:25:15.718547",
   "version": "2.5.0"
  }
 },
 "nbformat": 4,
 "nbformat_minor": 5
}
