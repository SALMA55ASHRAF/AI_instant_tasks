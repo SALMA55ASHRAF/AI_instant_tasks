{
 "cells": [
  {
   "cell_type": "code",
   "execution_count": 1,
   "id": "25b4093e",
   "metadata": {
    "_cell_guid": "b1076dfc-b9ad-4769-8c92-a6c4dae69d19",
    "_uuid": "8f2839f25d086af736a60e9eeb907d3b93b6e0e5",
    "execution": {
     "iopub.execute_input": "2024-03-03T22:23:17.396722Z",
     "iopub.status.busy": "2024-03-03T22:23:17.396313Z",
     "iopub.status.idle": "2024-03-03T22:23:18.398045Z",
     "shell.execute_reply": "2024-03-03T22:23:18.396752Z"
    },
    "papermill": {
     "duration": 1.014951,
     "end_time": "2024-03-03T22:23:18.400646",
     "exception": false,
     "start_time": "2024-03-03T22:23:17.385695",
     "status": "completed"
    },
    "tags": []
   },
   "outputs": [
    {
     "name": "stdout",
     "output_type": "stream",
     "text": [
      "/kaggle/input/african-development-bank/finance1.csv\n",
      "/kaggle/input/african-development-bank/transport1.csv\n",
      "/kaggle/input/african-development-bank/multisector1.csv\n",
      "/kaggle/input/african-development-bank/power1.csv\n",
      "/kaggle/input/african-development-bank/agri1.csv\n"
     ]
    }
   ],
   "source": [
    "# This Python 3 environment comes with many helpful analytics libraries installed\n",
    "# It is defined by the kaggle/python Docker image: https://github.com/kaggle/docker-python\n",
    "# For example, here's several helpful packages to load\n",
    "\n",
    "import numpy as np # linear algebra\n",
    "import pandas as pd # data processing, CSV file I/O (e.g. pd.read_csv)\n",
    "\n",
    "# Input data files are available in the read-only \"../input/\" directory\n",
    "# For example, running this (by clicking run or pressing Shift+Enter) will list all files under the input directory\n",
    "\n",
    "import os\n",
    "for dirname, _, filenames in os.walk('/kaggle/input'):\n",
    "    for filename in filenames:\n",
    "        print(os.path.join(dirname, filename))\n",
    "\n",
    "# You can write up to 20GB to the current directory (/kaggle/working/) that gets preserved as output when you create a version using \"Save & Run All\" \n",
    "# You can also write temporary files to /kaggle/temp/, but they won't be saved outside of the current session"
   ]
  },
  {
   "cell_type": "code",
   "execution_count": 2,
   "id": "ffe2a2c0",
   "metadata": {
    "execution": {
     "iopub.execute_input": "2024-03-03T22:23:18.420491Z",
     "iopub.status.busy": "2024-03-03T22:23:18.418821Z",
     "iopub.status.idle": "2024-03-03T22:23:19.983376Z",
     "shell.execute_reply": "2024-03-03T22:23:19.982039Z"
    },
    "papermill": {
     "duration": 1.577789,
     "end_time": "2024-03-03T22:23:19.986907",
     "exception": false,
     "start_time": "2024-03-03T22:23:18.409118",
     "status": "completed"
    },
    "tags": []
   },
   "outputs": [],
   "source": [
    "import pandas as pd \n",
    "import numpy as np\n",
    "import matplotlib.pyplot as plt\n",
    "import seaborn as sns\n",
    "import datetime as dt"
   ]
  },
  {
   "cell_type": "code",
   "execution_count": 3,
   "id": "b0f5b6ed",
   "metadata": {
    "execution": {
     "iopub.execute_input": "2024-03-03T22:23:20.007143Z",
     "iopub.status.busy": "2024-03-03T22:23:20.006121Z",
     "iopub.status.idle": "2024-03-03T22:23:20.049531Z",
     "shell.execute_reply": "2024-03-03T22:23:20.048491Z"
    },
    "papermill": {
     "duration": 0.056723,
     "end_time": "2024-03-03T22:23:20.052198",
     "exception": false,
     "start_time": "2024-03-03T22:23:19.995475",
     "status": "completed"
    },
    "tags": []
   },
   "outputs": [
    {
     "data": {
      "text/html": [
       "<div>\n",
       "<style scoped>\n",
       "    .dataframe tbody tr th:only-of-type {\n",
       "        vertical-align: middle;\n",
       "    }\n",
       "\n",
       "    .dataframe tbody tr th {\n",
       "        vertical-align: top;\n",
       "    }\n",
       "\n",
       "    .dataframe thead th {\n",
       "        text-align: right;\n",
       "    }\n",
       "</style>\n",
       "<table border=\"1\" class=\"dataframe\">\n",
       "  <thead>\n",
       "    <tr style=\"text-align: right;\">\n",
       "      <th></th>\n",
       "      <th>Project Code</th>\n",
       "      <th>Title</th>\n",
       "      <th>Commitment in U.A</th>\n",
       "      <th>Country</th>\n",
       "      <th>Starting Date</th>\n",
       "      <th>Status</th>\n",
       "      <th>Source of Financing</th>\n",
       "      <th>Sector</th>\n",
       "      <th>Sovereign</th>\n",
       "    </tr>\n",
       "  </thead>\n",
       "  <tbody>\n",
       "    <tr>\n",
       "      <th>0</th>\n",
       "      <td>P-MG-H00-002</td>\n",
       "      <td>Madagascar - Industrialisation and Financial S...</td>\n",
       "      <td>12,080,000.00</td>\n",
       "      <td>Madagascar</td>\n",
       "      <td>28 Oct 2020</td>\n",
       "      <td>Approved</td>\n",
       "      <td>African Development Fund</td>\n",
       "      <td>Finance</td>\n",
       "      <td>Sovereign</td>\n",
       "    </tr>\n",
       "    <tr>\n",
       "      <th>1</th>\n",
       "      <td>P-Z1-H00-063</td>\n",
       "      <td>Multinational - Domestic debt markets developm...</td>\n",
       "      <td>1,500,000.00</td>\n",
       "      <td>Multinational</td>\n",
       "      <td>13 Oct 2020</td>\n",
       "      <td>Implementation</td>\n",
       "      <td>Fragile States Facility</td>\n",
       "      <td>Finance</td>\n",
       "      <td>Sovereign</td>\n",
       "    </tr>\n",
       "    <tr>\n",
       "      <th>2</th>\n",
       "      <td>P-MG-HAZ-001</td>\n",
       "      <td>Madagascar - SME Business Linkages Program</td>\n",
       "      <td>1,000,000.00</td>\n",
       "      <td>Madagascar</td>\n",
       "      <td>15 May 2020</td>\n",
       "      <td>Implementation</td>\n",
       "      <td>Fragile States Facility</td>\n",
       "      <td>Finance</td>\n",
       "      <td>Sovereign</td>\n",
       "    </tr>\n",
       "    <tr>\n",
       "      <th>3</th>\n",
       "      <td>P-MU-H00-004</td>\n",
       "      <td>Mauritius - Stock Exchange Mauritius (SEM) Pro...</td>\n",
       "      <td>430,000.00</td>\n",
       "      <td>Mauritius</td>\n",
       "      <td>27 Apr 2020</td>\n",
       "      <td>Implementation</td>\n",
       "      <td>Middle Income Countries Fund</td>\n",
       "      <td>Finance</td>\n",
       "      <td>Sovereign</td>\n",
       "    </tr>\n",
       "    <tr>\n",
       "      <th>4</th>\n",
       "      <td>P-AO-HAB-009</td>\n",
       "      <td>Angola - Line of Credit to « Banco Millennium ...</td>\n",
       "      <td>23,415,605.04</td>\n",
       "      <td>Angola</td>\n",
       "      <td>15 Apr 2020</td>\n",
       "      <td>Approved</td>\n",
       "      <td>African Development Bank</td>\n",
       "      <td>Finance</td>\n",
       "      <td>Non Sovereign</td>\n",
       "    </tr>\n",
       "  </tbody>\n",
       "</table>\n",
       "</div>"
      ],
      "text/plain": [
       "   Project Code                                              Title  \\\n",
       "0  P-MG-H00-002  Madagascar - Industrialisation and Financial S...   \n",
       "1  P-Z1-H00-063  Multinational - Domestic debt markets developm...   \n",
       "2  P-MG-HAZ-001         Madagascar - SME Business Linkages Program   \n",
       "3  P-MU-H00-004  Mauritius - Stock Exchange Mauritius (SEM) Pro...   \n",
       "4  P-AO-HAB-009  Angola - Line of Credit to « Banco Millennium ...   \n",
       "\n",
       "  Commitment in U.A        Country Starting Date          Status  \\\n",
       "0     12,080,000.00     Madagascar   28 Oct 2020        Approved   \n",
       "1      1,500,000.00  Multinational   13 Oct 2020  Implementation   \n",
       "2      1,000,000.00     Madagascar   15 May 2020  Implementation   \n",
       "3        430,000.00      Mauritius   27 Apr 2020  Implementation   \n",
       "4     23,415,605.04         Angola   15 Apr 2020        Approved   \n",
       "\n",
       "            Source of Financing   Sector      Sovereign  \n",
       "0      African Development Fund  Finance      Sovereign  \n",
       "1       Fragile States Facility  Finance      Sovereign  \n",
       "2       Fragile States Facility  Finance      Sovereign  \n",
       "3  Middle Income Countries Fund  Finance      Sovereign  \n",
       "4      African Development Bank  Finance  Non Sovereign  "
      ]
     },
     "execution_count": 3,
     "metadata": {},
     "output_type": "execute_result"
    }
   ],
   "source": [
    "df=pd.read_csv(\"/kaggle/input/african-development-bank/finance1.csv\",encoding='ISO-8859-1')\n",
    "df.head()"
   ]
  },
  {
   "cell_type": "code",
   "execution_count": 4,
   "id": "5d6fd2f8",
   "metadata": {
    "execution": {
     "iopub.execute_input": "2024-03-03T22:23:20.073557Z",
     "iopub.status.busy": "2024-03-03T22:23:20.072796Z",
     "iopub.status.idle": "2024-03-03T22:23:37.136297Z",
     "shell.execute_reply": "2024-03-03T22:23:37.135105Z"
    },
    "papermill": {
     "duration": 17.077601,
     "end_time": "2024-03-03T22:23:37.139487",
     "exception": false,
     "start_time": "2024-03-03T22:23:20.061886",
     "status": "completed"
    },
    "tags": []
   },
   "outputs": [
    {
     "name": "stdout",
     "output_type": "stream",
     "text": [
      "Collecting chardet\r\n",
      "  Downloading chardet-5.2.0-py3-none-any.whl.metadata (3.4 kB)\r\n",
      "Downloading chardet-5.2.0-py3-none-any.whl (199 kB)\r\n",
      "\u001b[2K   \u001b[90m━━━━━━━━━━━━━━━━━━━━━━━━━━━━━━━━━━━━━━━━\u001b[0m \u001b[32m199.4/199.4 kB\u001b[0m \u001b[31m7.3 MB/s\u001b[0m eta \u001b[36m0:00:00\u001b[0m\r\n",
      "\u001b[?25hInstalling collected packages: chardet\r\n",
      "Successfully installed chardet-5.2.0\r\n"
     ]
    }
   ],
   "source": [
    "#library to automaticly detect type of encoding \n",
    "!pip install chardet"
   ]
  },
  {
   "cell_type": "code",
   "execution_count": 5,
   "id": "4d58c6d0",
   "metadata": {
    "execution": {
     "iopub.execute_input": "2024-03-03T22:23:37.160155Z",
     "iopub.status.busy": "2024-03-03T22:23:37.159743Z",
     "iopub.status.idle": "2024-03-03T22:23:37.661091Z",
     "shell.execute_reply": "2024-03-03T22:23:37.659778Z"
    },
    "papermill": {
     "duration": 0.514949,
     "end_time": "2024-03-03T22:23:37.663831",
     "exception": false,
     "start_time": "2024-03-03T22:23:37.148882",
     "status": "completed"
    },
    "tags": []
   },
   "outputs": [
    {
     "name": "stdout",
     "output_type": "stream",
     "text": [
      "{'encoding': 'Windows-1252', 'confidence': 0.73, 'language': ''}\n"
     ]
    },
    {
     "data": {
      "text/html": [
       "<div>\n",
       "<style scoped>\n",
       "    .dataframe tbody tr th:only-of-type {\n",
       "        vertical-align: middle;\n",
       "    }\n",
       "\n",
       "    .dataframe tbody tr th {\n",
       "        vertical-align: top;\n",
       "    }\n",
       "\n",
       "    .dataframe thead th {\n",
       "        text-align: right;\n",
       "    }\n",
       "</style>\n",
       "<table border=\"1\" class=\"dataframe\">\n",
       "  <thead>\n",
       "    <tr style=\"text-align: right;\">\n",
       "      <th></th>\n",
       "      <th>Project Code</th>\n",
       "      <th>Title</th>\n",
       "      <th>Commitment in U.A</th>\n",
       "      <th>Country</th>\n",
       "      <th>Starting Date</th>\n",
       "      <th>Status</th>\n",
       "      <th>Source of Financing</th>\n",
       "      <th>Sector</th>\n",
       "      <th>Sovereign</th>\n",
       "    </tr>\n",
       "  </thead>\n",
       "  <tbody>\n",
       "    <tr>\n",
       "      <th>0</th>\n",
       "      <td>P-MG-H00-002</td>\n",
       "      <td>Madagascar - Industrialisation and Financial S...</td>\n",
       "      <td>12,080,000.00</td>\n",
       "      <td>Madagascar</td>\n",
       "      <td>28 Oct 2020</td>\n",
       "      <td>Approved</td>\n",
       "      <td>African Development Fund</td>\n",
       "      <td>Finance</td>\n",
       "      <td>Sovereign</td>\n",
       "    </tr>\n",
       "    <tr>\n",
       "      <th>1</th>\n",
       "      <td>P-Z1-H00-063</td>\n",
       "      <td>Multinational - Domestic debt markets developm...</td>\n",
       "      <td>1,500,000.00</td>\n",
       "      <td>Multinational</td>\n",
       "      <td>13 Oct 2020</td>\n",
       "      <td>Implementation</td>\n",
       "      <td>Fragile States Facility</td>\n",
       "      <td>Finance</td>\n",
       "      <td>Sovereign</td>\n",
       "    </tr>\n",
       "    <tr>\n",
       "      <th>2</th>\n",
       "      <td>P-MG-HAZ-001</td>\n",
       "      <td>Madagascar - SME Business Linkages Program</td>\n",
       "      <td>1,000,000.00</td>\n",
       "      <td>Madagascar</td>\n",
       "      <td>15 May 2020</td>\n",
       "      <td>Implementation</td>\n",
       "      <td>Fragile States Facility</td>\n",
       "      <td>Finance</td>\n",
       "      <td>Sovereign</td>\n",
       "    </tr>\n",
       "    <tr>\n",
       "      <th>3</th>\n",
       "      <td>P-MU-H00-004</td>\n",
       "      <td>Mauritius - Stock Exchange Mauritius (SEM) Pro...</td>\n",
       "      <td>430,000.00</td>\n",
       "      <td>Mauritius</td>\n",
       "      <td>27 Apr 2020</td>\n",
       "      <td>Implementation</td>\n",
       "      <td>Middle Income Countries Fund</td>\n",
       "      <td>Finance</td>\n",
       "      <td>Sovereign</td>\n",
       "    </tr>\n",
       "    <tr>\n",
       "      <th>4</th>\n",
       "      <td>P-AO-HAB-009</td>\n",
       "      <td>Angola - Line of Credit to « Banco Millennium ...</td>\n",
       "      <td>23,415,605.04</td>\n",
       "      <td>Angola</td>\n",
       "      <td>15 Apr 2020</td>\n",
       "      <td>Approved</td>\n",
       "      <td>African Development Bank</td>\n",
       "      <td>Finance</td>\n",
       "      <td>Non Sovereign</td>\n",
       "    </tr>\n",
       "  </tbody>\n",
       "</table>\n",
       "</div>"
      ],
      "text/plain": [
       "   Project Code                                              Title  \\\n",
       "0  P-MG-H00-002  Madagascar - Industrialisation and Financial S...   \n",
       "1  P-Z1-H00-063  Multinational - Domestic debt markets developm...   \n",
       "2  P-MG-HAZ-001         Madagascar - SME Business Linkages Program   \n",
       "3  P-MU-H00-004  Mauritius - Stock Exchange Mauritius (SEM) Pro...   \n",
       "4  P-AO-HAB-009  Angola - Line of Credit to « Banco Millennium ...   \n",
       "\n",
       "  Commitment in U.A        Country Starting Date          Status  \\\n",
       "0     12,080,000.00     Madagascar   28 Oct 2020        Approved   \n",
       "1      1,500,000.00  Multinational   13 Oct 2020  Implementation   \n",
       "2      1,000,000.00     Madagascar   15 May 2020  Implementation   \n",
       "3        430,000.00      Mauritius   27 Apr 2020  Implementation   \n",
       "4     23,415,605.04         Angola   15 Apr 2020        Approved   \n",
       "\n",
       "            Source of Financing   Sector      Sovereign  \n",
       "0      African Development Fund  Finance      Sovereign  \n",
       "1       Fragile States Facility  Finance      Sovereign  \n",
       "2       Fragile States Facility  Finance      Sovereign  \n",
       "3  Middle Income Countries Fund  Finance      Sovereign  \n",
       "4      African Development Bank  Finance  Non Sovereign  "
      ]
     },
     "execution_count": 5,
     "metadata": {},
     "output_type": "execute_result"
    }
   ],
   "source": [
    "import chardet\n",
    "with open(\"/kaggle/input/african-development-bank/finance1.csv\",'rb')as f:\n",
    "    result=chardet.detect(f.read())\n",
    "print(result)\n",
    "df=pd.read_csv('/kaggle/input/african-development-bank/finance1.csv',encoding=result['encoding'])\n",
    "df.head()"
   ]
  },
  {
   "cell_type": "code",
   "execution_count": 6,
   "id": "c75b7ebe",
   "metadata": {
    "execution": {
     "iopub.execute_input": "2024-03-03T22:23:37.684721Z",
     "iopub.status.busy": "2024-03-03T22:23:37.684284Z",
     "iopub.status.idle": "2024-03-03T22:23:37.713732Z",
     "shell.execute_reply": "2024-03-03T22:23:37.712244Z"
    },
    "papermill": {
     "duration": 0.043192,
     "end_time": "2024-03-03T22:23:37.716501",
     "exception": false,
     "start_time": "2024-03-03T22:23:37.673309",
     "status": "completed"
    },
    "tags": []
   },
   "outputs": [
    {
     "name": "stderr",
     "output_type": "stream",
     "text": [
      "/tmp/ipykernel_18/103735090.py:2: SettingWithCopyWarning: \n",
      "A value is trying to be set on a copy of a slice from a DataFrame.\n",
      "Try using .loc[row_indexer,col_indexer] = value instead\n",
      "\n",
      "See the caveats in the documentation: https://pandas.pydata.org/pandas-docs/stable/user_guide/indexing.html#returning-a-view-versus-a-copy\n",
      "  df1[\"Starting Date\"]=pd.to_datetime(df['Starting Date'])\n"
     ]
    }
   ],
   "source": [
    "df1=df.dropna()\n",
    "df1[\"Starting Date\"]=pd.to_datetime(df['Starting Date'])"
   ]
  },
  {
   "cell_type": "code",
   "execution_count": 7,
   "id": "e51b5130",
   "metadata": {
    "execution": {
     "iopub.execute_input": "2024-03-03T22:23:37.738363Z",
     "iopub.status.busy": "2024-03-03T22:23:37.737869Z",
     "iopub.status.idle": "2024-03-03T22:23:37.762064Z",
     "shell.execute_reply": "2024-03-03T22:23:37.760967Z"
    },
    "papermill": {
     "duration": 0.038557,
     "end_time": "2024-03-03T22:23:37.764898",
     "exception": false,
     "start_time": "2024-03-03T22:23:37.726341",
     "status": "completed"
    },
    "tags": []
   },
   "outputs": [
    {
     "name": "stdout",
     "output_type": "stream",
     "text": [
      "<class 'pandas.core.frame.DataFrame'>\n",
      "Index: 280 entries, 0 to 351\n",
      "Data columns (total 9 columns):\n",
      " #   Column               Non-Null Count  Dtype         \n",
      "---  ------               --------------  -----         \n",
      " 0   Project Code         280 non-null    object        \n",
      " 1   Title                280 non-null    object        \n",
      " 2   Commitment in U.A    280 non-null    object        \n",
      " 3   Country              280 non-null    object        \n",
      " 4   Starting Date        280 non-null    datetime64[ns]\n",
      " 5   Status               280 non-null    object        \n",
      " 6   Source of Financing  280 non-null    object        \n",
      " 7   Sector               280 non-null    object        \n",
      " 8   Sovereign            280 non-null    object        \n",
      "dtypes: datetime64[ns](1), object(8)\n",
      "memory usage: 21.9+ KB\n"
     ]
    }
   ],
   "source": [
    "df1.info()"
   ]
  },
  {
   "cell_type": "code",
   "execution_count": 8,
   "id": "80834adb",
   "metadata": {
    "execution": {
     "iopub.execute_input": "2024-03-03T22:23:37.786835Z",
     "iopub.status.busy": "2024-03-03T22:23:37.786397Z",
     "iopub.status.idle": "2024-03-03T22:23:37.793322Z",
     "shell.execute_reply": "2024-03-03T22:23:37.792505Z"
    },
    "papermill": {
     "duration": 0.02194,
     "end_time": "2024-03-03T22:23:37.797036",
     "exception": false,
     "start_time": "2024-03-03T22:23:37.775096",
     "status": "completed"
    },
    "tags": []
   },
   "outputs": [
    {
     "name": "stderr",
     "output_type": "stream",
     "text": [
      "/tmp/ipykernel_18/2829051013.py:1: SettingWithCopyWarning: \n",
      "A value is trying to be set on a copy of a slice from a DataFrame.\n",
      "Try using .loc[row_indexer,col_indexer] = value instead\n",
      "\n",
      "See the caveats in the documentation: https://pandas.pydata.org/pandas-docs/stable/user_guide/indexing.html#returning-a-view-versus-a-copy\n",
      "  df1[\"year\"]=df1[\"Starting Date\"].dt.year\n"
     ]
    }
   ],
   "source": [
    "df1[\"year\"]=df1[\"Starting Date\"].dt.year"
   ]
  },
  {
   "cell_type": "code",
   "execution_count": 9,
   "id": "ffaab4cf",
   "metadata": {
    "execution": {
     "iopub.execute_input": "2024-03-03T22:23:37.818881Z",
     "iopub.status.busy": "2024-03-03T22:23:37.818454Z",
     "iopub.status.idle": "2024-03-03T22:23:37.834953Z",
     "shell.execute_reply": "2024-03-03T22:23:37.833787Z"
    },
    "papermill": {
     "duration": 0.0302,
     "end_time": "2024-03-03T22:23:37.837300",
     "exception": false,
     "start_time": "2024-03-03T22:23:37.807100",
     "status": "completed"
    },
    "tags": []
   },
   "outputs": [
    {
     "data": {
      "text/html": [
       "<div>\n",
       "<style scoped>\n",
       "    .dataframe tbody tr th:only-of-type {\n",
       "        vertical-align: middle;\n",
       "    }\n",
       "\n",
       "    .dataframe tbody tr th {\n",
       "        vertical-align: top;\n",
       "    }\n",
       "\n",
       "    .dataframe thead th {\n",
       "        text-align: right;\n",
       "    }\n",
       "</style>\n",
       "<table border=\"1\" class=\"dataframe\">\n",
       "  <thead>\n",
       "    <tr style=\"text-align: right;\">\n",
       "      <th></th>\n",
       "      <th>Project Code</th>\n",
       "      <th>Title</th>\n",
       "      <th>Commitment in U.A</th>\n",
       "      <th>Country</th>\n",
       "      <th>Starting Date</th>\n",
       "      <th>Status</th>\n",
       "      <th>Source of Financing</th>\n",
       "      <th>Sector</th>\n",
       "      <th>Sovereign</th>\n",
       "      <th>year</th>\n",
       "    </tr>\n",
       "  </thead>\n",
       "  <tbody>\n",
       "    <tr>\n",
       "      <th>0</th>\n",
       "      <td>P-MG-H00-002</td>\n",
       "      <td>Madagascar - Industrialisation and Financial S...</td>\n",
       "      <td>12,080,000.00</td>\n",
       "      <td>Madagascar</td>\n",
       "      <td>2020-10-28</td>\n",
       "      <td>Approved</td>\n",
       "      <td>African Development Fund</td>\n",
       "      <td>Finance</td>\n",
       "      <td>Sovereign</td>\n",
       "      <td>2020</td>\n",
       "    </tr>\n",
       "    <tr>\n",
       "      <th>1</th>\n",
       "      <td>P-Z1-H00-063</td>\n",
       "      <td>Multinational - Domestic debt markets developm...</td>\n",
       "      <td>1,500,000.00</td>\n",
       "      <td>Multinational</td>\n",
       "      <td>2020-10-13</td>\n",
       "      <td>Implementation</td>\n",
       "      <td>Fragile States Facility</td>\n",
       "      <td>Finance</td>\n",
       "      <td>Sovereign</td>\n",
       "      <td>2020</td>\n",
       "    </tr>\n",
       "    <tr>\n",
       "      <th>2</th>\n",
       "      <td>P-MG-HAZ-001</td>\n",
       "      <td>Madagascar - SME Business Linkages Program</td>\n",
       "      <td>1,000,000.00</td>\n",
       "      <td>Madagascar</td>\n",
       "      <td>2020-05-15</td>\n",
       "      <td>Implementation</td>\n",
       "      <td>Fragile States Facility</td>\n",
       "      <td>Finance</td>\n",
       "      <td>Sovereign</td>\n",
       "      <td>2020</td>\n",
       "    </tr>\n",
       "    <tr>\n",
       "      <th>3</th>\n",
       "      <td>P-MU-H00-004</td>\n",
       "      <td>Mauritius - Stock Exchange Mauritius (SEM) Pro...</td>\n",
       "      <td>430,000.00</td>\n",
       "      <td>Mauritius</td>\n",
       "      <td>2020-04-27</td>\n",
       "      <td>Implementation</td>\n",
       "      <td>Middle Income Countries Fund</td>\n",
       "      <td>Finance</td>\n",
       "      <td>Sovereign</td>\n",
       "      <td>2020</td>\n",
       "    </tr>\n",
       "    <tr>\n",
       "      <th>4</th>\n",
       "      <td>P-AO-HAB-009</td>\n",
       "      <td>Angola - Line of Credit to « Banco Millennium ...</td>\n",
       "      <td>23,415,605.04</td>\n",
       "      <td>Angola</td>\n",
       "      <td>2020-04-15</td>\n",
       "      <td>Approved</td>\n",
       "      <td>African Development Bank</td>\n",
       "      <td>Finance</td>\n",
       "      <td>Non Sovereign</td>\n",
       "      <td>2020</td>\n",
       "    </tr>\n",
       "  </tbody>\n",
       "</table>\n",
       "</div>"
      ],
      "text/plain": [
       "   Project Code                                              Title  \\\n",
       "0  P-MG-H00-002  Madagascar - Industrialisation and Financial S...   \n",
       "1  P-Z1-H00-063  Multinational - Domestic debt markets developm...   \n",
       "2  P-MG-HAZ-001         Madagascar - SME Business Linkages Program   \n",
       "3  P-MU-H00-004  Mauritius - Stock Exchange Mauritius (SEM) Pro...   \n",
       "4  P-AO-HAB-009  Angola - Line of Credit to « Banco Millennium ...   \n",
       "\n",
       "  Commitment in U.A        Country Starting Date          Status  \\\n",
       "0     12,080,000.00     Madagascar    2020-10-28        Approved   \n",
       "1      1,500,000.00  Multinational    2020-10-13  Implementation   \n",
       "2      1,000,000.00     Madagascar    2020-05-15  Implementation   \n",
       "3        430,000.00      Mauritius    2020-04-27  Implementation   \n",
       "4     23,415,605.04         Angola    2020-04-15        Approved   \n",
       "\n",
       "            Source of Financing   Sector      Sovereign  year  \n",
       "0      African Development Fund  Finance      Sovereign  2020  \n",
       "1       Fragile States Facility  Finance      Sovereign  2020  \n",
       "2       Fragile States Facility  Finance      Sovereign  2020  \n",
       "3  Middle Income Countries Fund  Finance      Sovereign  2020  \n",
       "4      African Development Bank  Finance  Non Sovereign  2020  "
      ]
     },
     "execution_count": 9,
     "metadata": {},
     "output_type": "execute_result"
    }
   ],
   "source": [
    "df1.head()"
   ]
  },
  {
   "cell_type": "code",
   "execution_count": 10,
   "id": "27f35a61",
   "metadata": {
    "execution": {
     "iopub.execute_input": "2024-03-03T22:23:37.859396Z",
     "iopub.status.busy": "2024-03-03T22:23:37.858814Z",
     "iopub.status.idle": "2024-03-03T22:23:37.867850Z",
     "shell.execute_reply": "2024-03-03T22:23:37.866862Z"
    },
    "papermill": {
     "duration": 0.023324,
     "end_time": "2024-03-03T22:23:37.870638",
     "exception": false,
     "start_time": "2024-03-03T22:23:37.847314",
     "status": "completed"
    },
    "tags": []
   },
   "outputs": [],
   "source": [
    "df1=df1[[\"Commitment in U.A\",\"Country\",\"Starting Date\",\"year\"]]"
   ]
  },
  {
   "cell_type": "code",
   "execution_count": 11,
   "id": "e3a59523",
   "metadata": {
    "execution": {
     "iopub.execute_input": "2024-03-03T22:23:37.894353Z",
     "iopub.status.busy": "2024-03-03T22:23:37.893919Z",
     "iopub.status.idle": "2024-03-03T22:23:37.907043Z",
     "shell.execute_reply": "2024-03-03T22:23:37.905862Z"
    },
    "papermill": {
     "duration": 0.026951,
     "end_time": "2024-03-03T22:23:37.909427",
     "exception": false,
     "start_time": "2024-03-03T22:23:37.882476",
     "status": "completed"
    },
    "tags": []
   },
   "outputs": [
    {
     "data": {
      "text/html": [
       "<div>\n",
       "<style scoped>\n",
       "    .dataframe tbody tr th:only-of-type {\n",
       "        vertical-align: middle;\n",
       "    }\n",
       "\n",
       "    .dataframe tbody tr th {\n",
       "        vertical-align: top;\n",
       "    }\n",
       "\n",
       "    .dataframe thead th {\n",
       "        text-align: right;\n",
       "    }\n",
       "</style>\n",
       "<table border=\"1\" class=\"dataframe\">\n",
       "  <thead>\n",
       "    <tr style=\"text-align: right;\">\n",
       "      <th></th>\n",
       "      <th>Commitment in U.A</th>\n",
       "      <th>Country</th>\n",
       "      <th>Starting Date</th>\n",
       "      <th>year</th>\n",
       "    </tr>\n",
       "  </thead>\n",
       "  <tbody>\n",
       "    <tr>\n",
       "      <th>0</th>\n",
       "      <td>12,080,000.00</td>\n",
       "      <td>Madagascar</td>\n",
       "      <td>2020-10-28</td>\n",
       "      <td>2020</td>\n",
       "    </tr>\n",
       "    <tr>\n",
       "      <th>1</th>\n",
       "      <td>1,500,000.00</td>\n",
       "      <td>Multinational</td>\n",
       "      <td>2020-10-13</td>\n",
       "      <td>2020</td>\n",
       "    </tr>\n",
       "    <tr>\n",
       "      <th>2</th>\n",
       "      <td>1,000,000.00</td>\n",
       "      <td>Madagascar</td>\n",
       "      <td>2020-05-15</td>\n",
       "      <td>2020</td>\n",
       "    </tr>\n",
       "    <tr>\n",
       "      <th>3</th>\n",
       "      <td>430,000.00</td>\n",
       "      <td>Mauritius</td>\n",
       "      <td>2020-04-27</td>\n",
       "      <td>2020</td>\n",
       "    </tr>\n",
       "    <tr>\n",
       "      <th>4</th>\n",
       "      <td>23,415,605.04</td>\n",
       "      <td>Angola</td>\n",
       "      <td>2020-04-15</td>\n",
       "      <td>2020</td>\n",
       "    </tr>\n",
       "  </tbody>\n",
       "</table>\n",
       "</div>"
      ],
      "text/plain": [
       "  Commitment in U.A        Country Starting Date  year\n",
       "0     12,080,000.00     Madagascar    2020-10-28  2020\n",
       "1      1,500,000.00  Multinational    2020-10-13  2020\n",
       "2      1,000,000.00     Madagascar    2020-05-15  2020\n",
       "3        430,000.00      Mauritius    2020-04-27  2020\n",
       "4     23,415,605.04         Angola    2020-04-15  2020"
      ]
     },
     "execution_count": 11,
     "metadata": {},
     "output_type": "execute_result"
    }
   ],
   "source": [
    "df1.head()"
   ]
  },
  {
   "cell_type": "code",
   "execution_count": 12,
   "id": "39945a0d",
   "metadata": {
    "execution": {
     "iopub.execute_input": "2024-03-03T22:23:37.931736Z",
     "iopub.status.busy": "2024-03-03T22:23:37.931282Z",
     "iopub.status.idle": "2024-03-03T22:23:37.938955Z",
     "shell.execute_reply": "2024-03-03T22:23:37.937759Z"
    },
    "papermill": {
     "duration": 0.021753,
     "end_time": "2024-03-03T22:23:37.941462",
     "exception": false,
     "start_time": "2024-03-03T22:23:37.919709",
     "status": "completed"
    },
    "tags": []
   },
   "outputs": [
    {
     "data": {
      "text/plain": [
       "\"\\nmask=df['year']==2019\\ndf1=df1[mask]\\nor  \\ndf2=df1[df1['year']==2019]\\ndf3=df1.query('year==2019')\\ndf3\\n\""
      ]
     },
     "execution_count": 12,
     "metadata": {},
     "output_type": "execute_result"
    }
   ],
   "source": [
    "# we have 3 ways to see observtions in 2019 only\n",
    "\"\"\"\n",
    "mask=df['year']==2019\n",
    "df1=df1[mask]\n",
    "or  \n",
    "df2=df1[df1['year']==2019]\n",
    "df3=df1.query('year==2019')\n",
    "df3\n",
    "\"\"\"\n",
    "\n"
   ]
  },
  {
   "cell_type": "code",
   "execution_count": 13,
   "id": "9de516c5",
   "metadata": {
    "execution": {
     "iopub.execute_input": "2024-03-03T22:23:37.964212Z",
     "iopub.status.busy": "2024-03-03T22:23:37.963795Z",
     "iopub.status.idle": "2024-03-03T22:23:37.983360Z",
     "shell.execute_reply": "2024-03-03T22:23:37.981965Z"
    },
    "papermill": {
     "duration": 0.034033,
     "end_time": "2024-03-03T22:23:37.986088",
     "exception": false,
     "start_time": "2024-03-03T22:23:37.952055",
     "status": "completed"
    },
    "tags": []
   },
   "outputs": [
    {
     "data": {
      "text/html": [
       "<div>\n",
       "<style scoped>\n",
       "    .dataframe tbody tr th:only-of-type {\n",
       "        vertical-align: middle;\n",
       "    }\n",
       "\n",
       "    .dataframe tbody tr th {\n",
       "        vertical-align: top;\n",
       "    }\n",
       "\n",
       "    .dataframe thead th {\n",
       "        text-align: right;\n",
       "    }\n",
       "</style>\n",
       "<table border=\"1\" class=\"dataframe\">\n",
       "  <thead>\n",
       "    <tr style=\"text-align: right;\">\n",
       "      <th></th>\n",
       "      <th>Commitment in U.A</th>\n",
       "      <th>Country</th>\n",
       "      <th>year</th>\n",
       "    </tr>\n",
       "  </thead>\n",
       "  <tbody>\n",
       "    <tr>\n",
       "      <th>10</th>\n",
       "      <td>7,290,000.00</td>\n",
       "      <td>Mali</td>\n",
       "      <td>2019</td>\n",
       "    </tr>\n",
       "    <tr>\n",
       "      <th>11</th>\n",
       "      <td>73,173,765.74</td>\n",
       "      <td>Kenya</td>\n",
       "      <td>2019</td>\n",
       "    </tr>\n",
       "    <tr>\n",
       "      <th>12</th>\n",
       "      <td>79,781,717.22</td>\n",
       "      <td>Morocco</td>\n",
       "      <td>2019</td>\n",
       "    </tr>\n",
       "    <tr>\n",
       "      <th>13</th>\n",
       "      <td>1,258,000.00</td>\n",
       "      <td>Multinational</td>\n",
       "      <td>2019</td>\n",
       "    </tr>\n",
       "    <tr>\n",
       "      <th>14</th>\n",
       "      <td>279,000.00</td>\n",
       "      <td>Multinational</td>\n",
       "      <td>2019</td>\n",
       "    </tr>\n",
       "  </tbody>\n",
       "</table>\n",
       "</div>"
      ],
      "text/plain": [
       "   Commitment in U.A        Country  year\n",
       "10      7,290,000.00           Mali  2019\n",
       "11     73,173,765.74          Kenya  2019\n",
       "12     79,781,717.22        Morocco  2019\n",
       "13      1,258,000.00  Multinational  2019\n",
       "14        279,000.00  Multinational  2019"
      ]
     },
     "execution_count": 13,
     "metadata": {},
     "output_type": "execute_result"
    }
   ],
   "source": [
    "df3=df1.query('year==2019')\n",
    "df3=df3[['Commitment in U.A','Country','year']]\n",
    "df3.head()"
   ]
  },
  {
   "cell_type": "code",
   "execution_count": 14,
   "id": "e9310d00",
   "metadata": {
    "execution": {
     "iopub.execute_input": "2024-03-03T22:23:38.010552Z",
     "iopub.status.busy": "2024-03-03T22:23:38.010098Z",
     "iopub.status.idle": "2024-03-03T22:23:38.018312Z",
     "shell.execute_reply": "2024-03-03T22:23:38.016983Z"
    },
    "papermill": {
     "duration": 0.023854,
     "end_time": "2024-03-03T22:23:38.020928",
     "exception": false,
     "start_time": "2024-03-03T22:23:37.997074",
     "status": "completed"
    },
    "tags": []
   },
   "outputs": [],
   "source": [
    "df3['Commitment in U.A']=df3['Commitment in U.A'].str.replace(\",\",\"\").apply(pd.to_numeric)"
   ]
  },
  {
   "cell_type": "code",
   "execution_count": 15,
   "id": "045fcf68",
   "metadata": {
    "execution": {
     "iopub.execute_input": "2024-03-03T22:23:38.044577Z",
     "iopub.status.busy": "2024-03-03T22:23:38.044156Z",
     "iopub.status.idle": "2024-03-03T22:23:38.056520Z",
     "shell.execute_reply": "2024-03-03T22:23:38.055459Z"
    },
    "papermill": {
     "duration": 0.027289,
     "end_time": "2024-03-03T22:23:38.059120",
     "exception": false,
     "start_time": "2024-03-03T22:23:38.031831",
     "status": "completed"
    },
    "tags": []
   },
   "outputs": [
    {
     "data": {
      "text/html": [
       "<div>\n",
       "<style scoped>\n",
       "    .dataframe tbody tr th:only-of-type {\n",
       "        vertical-align: middle;\n",
       "    }\n",
       "\n",
       "    .dataframe tbody tr th {\n",
       "        vertical-align: top;\n",
       "    }\n",
       "\n",
       "    .dataframe thead th {\n",
       "        text-align: right;\n",
       "    }\n",
       "</style>\n",
       "<table border=\"1\" class=\"dataframe\">\n",
       "  <thead>\n",
       "    <tr style=\"text-align: right;\">\n",
       "      <th></th>\n",
       "      <th>Commitment in U.A</th>\n",
       "      <th>Country</th>\n",
       "      <th>year</th>\n",
       "    </tr>\n",
       "  </thead>\n",
       "  <tbody>\n",
       "    <tr>\n",
       "      <th>10</th>\n",
       "      <td>7290000.00</td>\n",
       "      <td>Mali</td>\n",
       "      <td>2019</td>\n",
       "    </tr>\n",
       "    <tr>\n",
       "      <th>11</th>\n",
       "      <td>73173765.74</td>\n",
       "      <td>Kenya</td>\n",
       "      <td>2019</td>\n",
       "    </tr>\n",
       "    <tr>\n",
       "      <th>12</th>\n",
       "      <td>79781717.22</td>\n",
       "      <td>Morocco</td>\n",
       "      <td>2019</td>\n",
       "    </tr>\n",
       "    <tr>\n",
       "      <th>13</th>\n",
       "      <td>1258000.00</td>\n",
       "      <td>Multinational</td>\n",
       "      <td>2019</td>\n",
       "    </tr>\n",
       "    <tr>\n",
       "      <th>14</th>\n",
       "      <td>279000.00</td>\n",
       "      <td>Multinational</td>\n",
       "      <td>2019</td>\n",
       "    </tr>\n",
       "  </tbody>\n",
       "</table>\n",
       "</div>"
      ],
      "text/plain": [
       "    Commitment in U.A        Country  year\n",
       "10         7290000.00           Mali  2019\n",
       "11        73173765.74          Kenya  2019\n",
       "12        79781717.22        Morocco  2019\n",
       "13         1258000.00  Multinational  2019\n",
       "14          279000.00  Multinational  2019"
      ]
     },
     "execution_count": 15,
     "metadata": {},
     "output_type": "execute_result"
    }
   ],
   "source": [
    "df3.head()"
   ]
  },
  {
   "cell_type": "code",
   "execution_count": 16,
   "id": "64e30f8f",
   "metadata": {
    "execution": {
     "iopub.execute_input": "2024-03-03T22:23:38.083736Z",
     "iopub.status.busy": "2024-03-03T22:23:38.083166Z",
     "iopub.status.idle": "2024-03-03T22:23:38.092877Z",
     "shell.execute_reply": "2024-03-03T22:23:38.091549Z"
    },
    "papermill": {
     "duration": 0.025582,
     "end_time": "2024-03-03T22:23:38.095647",
     "exception": false,
     "start_time": "2024-03-03T22:23:38.070065",
     "status": "completed"
    },
    "tags": []
   },
   "outputs": [],
   "source": [
    "# to save our cleaned data in csv format \n",
    "df3.to_csv('project1')"
   ]
  },
  {
   "cell_type": "code",
   "execution_count": 17,
   "id": "b4ce8a92",
   "metadata": {
    "execution": {
     "iopub.execute_input": "2024-03-03T22:23:38.121689Z",
     "iopub.status.busy": "2024-03-03T22:23:38.120237Z",
     "iopub.status.idle": "2024-03-03T22:23:38.659009Z",
     "shell.execute_reply": "2024-03-03T22:23:38.657875Z"
    },
    "papermill": {
     "duration": 0.554474,
     "end_time": "2024-03-03T22:23:38.661858",
     "exception": false,
     "start_time": "2024-03-03T22:23:38.107384",
     "status": "completed"
    },
    "tags": []
   },
   "outputs": [
    {
     "data": {
      "image/png": "[encoded data removed]",
      "text/plain": [
       "<Figure size 1200x600 with 1 Axes>"
      ]
     },
     "metadata": {},
     "output_type": "display_data"
    }
   ],
   "source": [
    "plt.figure(figsize=[12,6])\n",
    "plt.hist(df3['Country'],bins=12,width=0.8)\n",
    "plt.xlabel(\"country\")\n",
    "plt.ylabel(\"frequancy\")\n",
    "plt.title(\"freqauncy of each country\");"
   ]
  },
  {
   "cell_type": "code",
   "execution_count": 18,
   "id": "712e00fb",
   "metadata": {
    "execution": {
     "iopub.execute_input": "2024-03-03T22:23:38.687129Z",
     "iopub.status.busy": "2024-03-03T22:23:38.686489Z",
     "iopub.status.idle": "2024-03-03T22:23:39.424020Z",
     "shell.execute_reply": "2024-03-03T22:23:39.422738Z"
    },
    "papermill": {
     "duration": 0.753746,
     "end_time": "2024-03-03T22:23:39.427054",
     "exception": false,
     "start_time": "2024-03-03T22:23:38.673308",
     "status": "completed"
    },
    "tags": []
   },
   "outputs": [],
   "source": [
    "import plotly_express as px\n",
    "money_in_finace_by_each_country=(\n",
    "    df3.groupby(\"Country\")['Commitment in U.A'].mean().sort_values()\n",
    ")"
   ]
  },
  {
   "cell_type": "code",
   "execution_count": 19,
   "id": "e21a3225",
   "metadata": {
    "execution": {
     "iopub.execute_input": "2024-03-03T22:23:39.452629Z",
     "iopub.status.busy": "2024-03-03T22:23:39.452212Z",
     "iopub.status.idle": "2024-03-03T22:23:39.460276Z",
     "shell.execute_reply": "2024-03-03T22:23:39.459329Z"
    },
    "papermill": {
     "duration": 0.023912,
     "end_time": "2024-03-03T22:23:39.462842",
     "exception": false,
     "start_time": "2024-03-03T22:23:39.438930",
     "status": "completed"
    },
    "tags": []
   },
   "outputs": [
    {
     "data": {
      "text/plain": [
       "Country\n",
       "Madagascar       1.500000e+06\n",
       "Guinea           5.853901e+06\n",
       "Mali             7.290000e+06\n",
       "Rwanda           1.024433e+07\n",
       "Nigeria          1.071764e+07\n",
       "Senegal          1.196726e+07\n",
       "Mozambique       2.195213e+07\n",
       "Multinational    3.077863e+07\n",
       "Kenya            5.143397e+07\n",
       "Tunisia          5.536166e+07\n",
       "Botswana         5.799833e+07\n",
       "Morocco          7.978172e+07\n",
       "Name: Commitment in U.A, dtype: float64"
      ]
     },
     "execution_count": 19,
     "metadata": {},
     "output_type": "execute_result"
    }
   ],
   "source": [
    "money_in_finace_by_each_country"
   ]
  },
  {
   "cell_type": "code",
   "execution_count": 20,
   "id": "f9bf66c5",
   "metadata": {
    "execution": {
     "iopub.execute_input": "2024-03-03T22:23:39.488597Z",
     "iopub.status.busy": "2024-03-03T22:23:39.487855Z",
     "iopub.status.idle": "2024-03-03T22:23:39.925836Z",
     "shell.execute_reply": "2024-03-03T22:23:39.924536Z"
    },
    "papermill": {
     "duration": 0.45427,
     "end_time": "2024-03-03T22:23:39.928771",
     "exception": false,
     "start_time": "2024-03-03T22:23:39.474501",
     "status": "completed"
    },
    "tags": []
   },
   "outputs": [
    {
     "data": {
      "image/png": "[encoded data removed]",
      "text/plain": [
       "<Figure size 640x480 with 1 Axes>"
      ]
     },
     "metadata": {},
     "output_type": "display_data"
    }
   ],
   "source": [
    "money_in_finace_by_each_country.plot(kind=\"bar\")\n",
    "plt.xlabel(\"country\")\n",
    "plt.ylabel(\"avregae of money spend by each country\")\n",
    "plt.title(\"average money spend by each  contry\");"
   ]
  },
  {
   "cell_type": "code",
   "execution_count": 21,
   "id": "a6ac6726",
   "metadata": {
    "execution": {
     "iopub.execute_input": "2024-03-03T22:23:39.956091Z",
     "iopub.status.busy": "2024-03-03T22:23:39.955319Z",
     "iopub.status.idle": "2024-03-03T22:23:39.965043Z",
     "shell.execute_reply": "2024-03-03T22:23:39.963806Z"
    },
    "papermill": {
     "duration": 0.026455,
     "end_time": "2024-03-03T22:23:39.967784",
     "exception": false,
     "start_time": "2024-03-03T22:23:39.941329",
     "status": "completed"
    },
    "tags": []
   },
   "outputs": [
    {
     "data": {
      "text/plain": [
       "Country\n",
       "Mali              1\n",
       "Morocco           1\n",
       "Guinea            1\n",
       "Senegal           1\n",
       "Rwanda            1\n",
       "Mozambique        1\n",
       "Madagascar        1\n",
       "Botswana          1\n",
       "Nigeria           1\n",
       "Kenya             3\n",
       "Tunisia           4\n",
       "Multinational    10\n",
       "Name: count, dtype: int64"
      ]
     },
     "execution_count": 21,
     "metadata": {},
     "output_type": "execute_result"
    }
   ],
   "source": [
    "df3['Country'].value_counts().sort_values()"
   ]
  },
  {
   "cell_type": "code",
   "execution_count": 22,
   "id": "853d0f71",
   "metadata": {
    "execution": {
     "iopub.execute_input": "2024-03-03T22:23:39.997012Z",
     "iopub.status.busy": "2024-03-03T22:23:39.995996Z",
     "iopub.status.idle": "2024-03-03T22:23:40.005789Z",
     "shell.execute_reply": "2024-03-03T22:23:40.004337Z"
    },
    "papermill": {
     "duration": 0.027389,
     "end_time": "2024-03-03T22:23:40.008503",
     "exception": false,
     "start_time": "2024-03-03T22:23:39.981114",
     "status": "completed"
    },
    "tags": []
   },
   "outputs": [
    {
     "data": {
      "text/plain": [
       "Country\n",
       "Madagascar       1.500000e+06\n",
       "Guinea           5.853901e+06\n",
       "Mali             7.290000e+06\n",
       "Rwanda           1.024433e+07\n",
       "Nigeria          1.071764e+07\n",
       "Senegal          1.196726e+07\n",
       "Mozambique       2.195213e+07\n",
       "Multinational    3.077863e+07\n",
       "Kenya            5.143397e+07\n",
       "Tunisia          5.536166e+07\n",
       "Botswana         5.799833e+07\n",
       "Morocco          7.978172e+07\n",
       "Name: Commitment in U.A, dtype: float64"
      ]
     },
     "execution_count": 22,
     "metadata": {},
     "output_type": "execute_result"
    }
   ],
   "source": [
    "money_in_finace_by_each_country"
   ]
  },
  {
   "cell_type": "code",
   "execution_count": 23,
   "id": "a89c526c",
   "metadata": {
    "execution": {
     "iopub.execute_input": "2024-03-03T22:23:40.035949Z",
     "iopub.status.busy": "2024-03-03T22:23:40.035553Z",
     "iopub.status.idle": "2024-03-03T22:23:40.346730Z",
     "shell.execute_reply": "2024-03-03T22:23:40.345575Z"
    },
    "papermill": {
     "duration": 0.328241,
     "end_time": "2024-03-03T22:23:40.349824",
     "exception": false,
     "start_time": "2024-03-03T22:23:40.021583",
     "status": "completed"
    },
    "tags": []
   },
   "outputs": [
    {
     "data": {
      "image/png": "[encoded data removed]",
      "text/plain": [
       "<Figure size 640x480 with 1 Axes>"
      ]
     },
     "metadata": {},
     "output_type": "display_data"
    }
   ],
   "source": [
    "index=money_in_finace_by_each_country.index\n",
    "index=index.to_list()\n",
    "values=money_in_finace_by_each_country.values\n",
    "values=list(values)\n",
    "plt.pie(values,labels=index,autopct=\"%1.1f%%\",explode=[0,0,0,0,0,0,0,0,0,0,0,1])\n",
    "plt.title(\"perctange of money spent by each country\");"
   ]
  }
 ],
 "metadata": {
  "kaggle": {
   "accelerator": "none",
   "dataSources": [
    {
     "datasetId": 996014,
     "sourceId": 1681046,
     "sourceType": "datasetVersion"
    }
   ],
   "dockerImageVersionId": 30664,
   "isGpuEnabled": false,
   "isInternetEnabled": true,
   "language": "python",
   "sourceType": "notebook"
  },
  "kernelspec": {
   "display_name": "Python 3",
   "language": "python",
   "name": "python3"
  },
  "language_info": {
   "codemirror_mode": {
    "name": "ipython",
    "version": 3
   },
   "file_extension": ".py",
   "mimetype": "text/x-python",
   "name": "python",
   "nbconvert_exporter": "python",
   "pygments_lexer": "ipython3",
   "version": "3.10.13"
  },
  "papermill": {
   "default_parameters": {},
   "duration": 26.900912,
   "end_time": "2024-03-03T22:23:41.087536",
   "environment_variables": {},
   "exception": null,
   "input_path": "__notebook__.ipynb",
   "output_path": "__notebook__.ipynb",
   "parameters": {},
   "start_time": "2024-03-03T22:23:14.186624",
   "version": "2.5.0"
  }
 },
 "nbformat": 4,
 "nbformat_minor": 5
}
