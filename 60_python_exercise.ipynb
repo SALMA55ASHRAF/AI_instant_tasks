{
  "cells": [
    {
      "cell_type": "markdown",
      "metadata": {
        "id": "view-in-github",
        "colab_type": "text"
      },
      "source": [
        "<a href=\"https://colab.research.google.com/github/SALMA55ASHRAF/AI_instant_tasks/blob/master/60_python_exercise.ipynb\" target=\"_parent\"><img src=\"https://colab.research.google.com/assets/colab-badge.svg\" alt=\"Open In Colab\"/></a>"
      ]
    },
    {
      "cell_type": "markdown",
      "id": "759d04ba",
      "metadata": {
        "id": "759d04ba"
      },
      "source": [
        "**1-Write a Python program to calculate the length of a string using 2 ways"
      ]
    },
    {
      "cell_type": "code",
      "execution_count": null,
      "id": "e434c950",
      "metadata": {
        "colab": {
          "base_uri": "https://localhost:8080/"
        },
        "id": "e434c950",
        "outputId": "4c88bea9-59a6-4cdd-d148-fe0e6187c2d0"
      },
      "outputs": [
        {
          "output_type": "stream",
          "name": "stdout",
          "text": [
            "the length of my string is 11.\n"
          ]
        }
      ],
      "source": [
        "# first way using methods from str class\n",
        "string=\"hello world\"\n",
        "length=len(string)\n",
        "print(f\"the length of my string is {length}.\")"
      ]
    },
    {
      "cell_type": "code",
      "execution_count": null,
      "id": "7a2dfa32",
      "metadata": {
        "colab": {
          "base_uri": "https://localhost:8080/"
        },
        "id": "7a2dfa32",
        "outputId": "a7f074a6-f2d8-4faf-e06c-483ff528e70c"
      },
      "outputs": [
        {
          "output_type": "stream",
          "name": "stdout",
          "text": [
            "the length of my string is 11.\n"
          ]
        }
      ],
      "source": [
        "# second way  using string as array of char\n",
        "string=\"hello world\"\n",
        "counter=0\n",
        "for i in string:\n",
        "  counter+=1\n",
        "print(f\"the length of my string is {counter}.\")"
      ]
    },
    {
      "cell_type": "markdown",
      "id": "d7cc9da7",
      "metadata": {
        "id": "d7cc9da7"
      },
      "source": [
        "**2-Write a Python program to get a string made of the first 2 and last 2 characters of a given string. If the string length is less than 2, return the empty string instead (\"##Sample String : 'w3resource'\n",
        "Expected Result : 'w3ce'\n",
        "##Sample String : 'w3'\n",
        "Expected Result : 'w3w3'\n",
        "##Sample String : ' w'\n",
        "Expected Result : Empty String)"
      ]
    },
    {
      "cell_type": "code",
      "execution_count": null,
      "id": "dafa9dd8",
      "metadata": {
        "colab": {
          "base_uri": "https://localhost:8080/"
        },
        "id": "dafa9dd8",
        "outputId": "016ddd09-799b-408d-cc40-276aa1bdf74d"
      },
      "outputs": [
        {
          "output_type": "stream",
          "name": "stdout",
          "text": [
            "enter your string: k\n",
            "empty string\n"
          ]
        }
      ],
      "source": [
        "string=input(\"enter your string: \")\n",
        "if len(string)<2:\n",
        "  print(\"empty string\")\n",
        "else:\n",
        "  print(string[:2]+string[-2:])"
      ]
    },
    {
      "cell_type": "markdown",
      "id": "1534f956",
      "metadata": {
        "id": "1534f956"
      },
      "source": [
        "**3-Write a Python program to add 'ing' at the end of a given string (length should be at least 3). If the given string already ends with 'ing', add 'ly' instead. If the string length of the given string is less than 3, leave it unchanged. (Sample String : 'abc'\n",
        "Expected Result : 'abcing')"
      ]
    },
    {
      "cell_type": "code",
      "execution_count": null,
      "id": "7ff8cec4",
      "metadata": {
        "colab": {
          "base_uri": "https://localhost:8080/"
        },
        "id": "7ff8cec4",
        "outputId": "1f874032-5af4-4289-b7de-a06d525870a6"
      },
      "outputs": [
        {
          "output_type": "stream",
          "name": "stdout",
          "text": [
            "enter your string: eating\n",
            "eatly\n"
          ]
        }
      ],
      "source": [
        "string=input(\"enter your string: \")\n",
        "if len(string)<3:\n",
        "  print(string)\n",
        "elif string[-3:]==\"ing\":\n",
        "  string=string.replace(string[-3:],\"ly\")\n",
        "  print(string)\n",
        "else:\n",
        "  string+=\"ing\"\n",
        "  print(string)"
      ]
    },
    {
      "cell_type": "markdown",
      "id": "1c0a6627",
      "metadata": {
        "id": "1c0a6627"
      },
      "source": [
        "**4-Write a Python function that takes a list of words and return the longest word and the length of the longest one\n",
        "(Longest word: Exercises\n",
        "Length of the longest word: 9)"
      ]
    },
    {
      "cell_type": "code",
      "execution_count": null,
      "id": "397341d9",
      "metadata": {
        "id": "397341d9"
      },
      "outputs": [],
      "source": [
        "def fun(my_list):\n",
        "  length=[]\n",
        "  for word in my_list:\n",
        "    length.append(len(word))\n",
        "  l=length.index(max(length))\n",
        "  print(f\"the longest string is {my_list[l]} and its lenth is {length[l]}\")"
      ]
    },
    {
      "cell_type": "markdown",
      "id": "53a03a6a",
      "metadata": {
        "id": "53a03a6a"
      },
      "source": [
        "**5-Write a Python program to change a given string to a newly string where the first and last chars have been exchanged using 2 ways (Sample String:abca  Expected Result:ebce)"
      ]
    },
    {
      "cell_type": "code",
      "execution_count": null,
      "id": "fd327d2a",
      "metadata": {
        "colab": {
          "base_uri": "https://localhost:8080/"
        },
        "id": "fd327d2a",
        "outputId": "587fc28e-4f19-4184-8c28-d259007eb2c3"
      },
      "outputs": [
        {
          "output_type": "stream",
          "name": "stdout",
          "text": [
            "ebce\n"
          ]
        }
      ],
      "source": [
        "# first way\n",
        "s=\"abca\"\n",
        "s=s.replace(s[0],\"e\")\n",
        "s=s.replace(s[-1],\"e\")\n",
        "print(s)"
      ]
    },
    {
      "cell_type": "code",
      "execution_count": null,
      "id": "285788b4",
      "metadata": {
        "colab": {
          "base_uri": "https://localhost:8080/"
        },
        "id": "285788b4",
        "outputId": "88e8a63d-058d-49c5-9f74-2168ee31621c"
      },
      "outputs": [
        {
          "output_type": "stream",
          "name": "stdout",
          "text": [
            "ebce\n"
          ]
        }
      ],
      "source": [
        "# second way\n",
        "s=\"abca\"\n",
        "sub=s[1:-1]\n",
        "l=list(sub)\n",
        "l.insert(0,\"e\")\n",
        "l.append(\"e\")\n",
        "news=\"\"\n",
        "for i in l:\n",
        "  news+=i\n",
        "print(news)"
      ]
    },
    {
      "cell_type": "markdown",
      "id": "25f89808",
      "metadata": {
        "id": "25f89808"
      },
      "source": [
        "**6-Write a Python program to remove characters that have odd index values in a given string (Sample String:abca Expected Result:ac)"
      ]
    },
    {
      "cell_type": "code",
      "execution_count": null,
      "id": "05959bd7",
      "metadata": {
        "colab": {
          "base_uri": "https://localhost:8080/"
        },
        "id": "05959bd7",
        "outputId": "4553b725-8402-4592-ce4d-31e7effdb023"
      },
      "outputs": [
        {
          "output_type": "stream",
          "name": "stdout",
          "text": [
            "ac\n"
          ]
        }
      ],
      "source": [
        "s=\"abca\"\n",
        "news=\"\"\n",
        "for i in range(len(s)):\n",
        "  if i%2==0:\n",
        "    news+=s[i]\n",
        "print(news)"
      ]
    },
    {
      "cell_type": "markdown",
      "id": "eb16e898",
      "metadata": {
        "id": "eb16e898"
      },
      "source": [
        "**7-Write a Python program to count the occurrences of each word in a given sentence (Sample String:amr and ahmed are frindes but amr is the tallest Expected Result:2)"
      ]
    },
    {
      "cell_type": "code",
      "execution_count": null,
      "id": "01ce6cf5",
      "metadata": {
        "colab": {
          "base_uri": "https://localhost:8080/"
        },
        "id": "01ce6cf5",
        "outputId": "2018f2b7-18a5-495d-98e6-042e6b916d74"
      },
      "outputs": [
        {
          "output_type": "stream",
          "name": "stdout",
          "text": [
            "the 'amr' occured 2 times.\n",
            "the 'and' occured 1 times.\n",
            "the 'ahmed' occured 1 times.\n",
            "the 'are' occured 1 times.\n",
            "the 'frindes' occured 1 times.\n",
            "the 'but' occured 1 times.\n",
            "the 'amr' occured 2 times.\n",
            "the 'is' occured 1 times.\n",
            "the 'the' occured 1 times.\n",
            "the 'tallest' occured 1 times.\n",
            "and:1\n",
            "the:1\n",
            "but:1\n",
            "amr:2\n",
            "are:1\n",
            "is:1\n",
            "ahmed:1\n",
            "frindes:1\n",
            "tallest:1\n"
          ]
        }
      ],
      "source": [
        "sentence=\"amr and ahmed are frindes but amr is the tallest\"\n",
        "for word in sentence.split(\" \"):\n",
        "  print(f\"the '{word}' occured {sentence.count(word)} times.\")\n",
        "words_list=sentence.split(\" \")\n",
        "unique_words=set(words_list)\n",
        "d={}\n",
        "for word in unique_words:\n",
        "  d[word]=words_list.count(word)\n",
        "for key,value in d.items():\n",
        "  print(key+\":\"+str(value))\n",
        "\n"
      ]
    },
    {
      "cell_type": "markdown",
      "id": "4e8125f1",
      "metadata": {
        "id": "4e8125f1"
      },
      "source": [
        "**8-Write a Python script that takes input from the user and displays that input back in upper and lower cases"
      ]
    },
    {
      "cell_type": "code",
      "execution_count": null,
      "id": "66c8f778",
      "metadata": {
        "colab": {
          "base_uri": "https://localhost:8080/"
        },
        "id": "66c8f778",
        "outputId": "81223189-7089-4268-f5ea-f00653721a02"
      },
      "outputs": [
        {
          "output_type": "stream",
          "name": "stdout",
          "text": [
            "enter: salma\n",
            "the upper is:  SALMA\n",
            "the lower is:  salma\n"
          ]
        }
      ],
      "source": [
        "user=input(\"enter: \")\n",
        "print(\"the upper is: \",user.upper())\n",
        "print(\"the lower is: \",user.lower())"
      ]
    },
    {
      "cell_type": "markdown",
      "id": "fcd68aa1",
      "metadata": {
        "id": "fcd68aa1"
      },
      "source": [
        "**9-Write a Python function to reverse a string if its length is a multiple of 4"
      ]
    },
    {
      "cell_type": "code",
      "execution_count": null,
      "id": "0671a931",
      "metadata": {
        "colab": {
          "base_uri": "https://localhost:8080/"
        },
        "id": "0671a931",
        "outputId": "acbb2ceb-dffa-43bb-9992-1c01b63b9809"
      },
      "outputs": [
        {
          "output_type": "stream",
          "name": "stdout",
          "text": [
            "enter: salma\n",
            "salma\n"
          ]
        }
      ],
      "source": [
        "string=input(\"enter: \")\n",
        "if len(string)%4==0:\n",
        "  print(string[::-1])\n",
        "else:\n",
        "  print(string)"
      ]
    },
    {
      "cell_type": "markdown",
      "id": "b577c68d",
      "metadata": {
        "id": "b577c68d"
      },
      "source": [
        "**10- Write a Python program to remove a newline in Python"
      ]
    },
    {
      "cell_type": "code",
      "execution_count": null,
      "id": "e0c6525a",
      "metadata": {
        "colab": {
          "base_uri": "https://localhost:8080/"
        },
        "id": "e0c6525a",
        "outputId": "d8159346-e621-4935-eb90-568e62c42749"
      },
      "outputs": [
        {
          "output_type": "stream",
          "name": "stdout",
          "text": [
            " hello my name is salma  my age is 21 \n"
          ]
        }
      ],
      "source": [
        "user=\"\"\"\n",
        "hello my name is salma\n",
        "my age is 21\n",
        "\"\"\"\n",
        "news=\"\"\n",
        "for i in user :\n",
        "  if i=='\\n':\n",
        "    user=user.replace(i,\" \")\n",
        "print(user)\n"
      ]
    },
    {
      "cell_type": "markdown",
      "id": "80db5ae0",
      "metadata": {
        "id": "80db5ae0"
      },
      "source": [
        "**11-Write a Python program to check whether a string starts with specified characters"
      ]
    },
    {
      "cell_type": "code",
      "execution_count": null,
      "id": "0cc4e03e",
      "metadata": {
        "colab": {
          "base_uri": "https://localhost:8080/"
        },
        "id": "0cc4e03e",
        "outputId": "64cad363-d144-4d8b-ca86-33c92589f53a"
      },
      "outputs": [
        {
          "output_type": "stream",
          "name": "stdout",
          "text": [
            "enter: $#sa\n",
            "yup\n"
          ]
        }
      ],
      "source": [
        "my_str=input(\"enter: \")\n",
        "if my_str[0] in ('$','#',\"*\"):\n",
        "  print(\"yup\")\n",
        "else:\n",
        "  print(my_str)"
      ]
    },
    {
      "cell_type": "markdown",
      "id": "593a68db",
      "metadata": {
        "id": "593a68db"
      },
      "source": [
        "**12- Write a Python program to add prefix text to all of the lines in a string"
      ]
    },
    {
      "cell_type": "code",
      "execution_count": null,
      "id": "d2e46ada",
      "metadata": {
        "colab": {
          "base_uri": "https://localhost:8080/"
        },
        "id": "d2e46ada",
        "outputId": "0e75d281-469a-4fc1-bdf3-0b170119f489"
      },
      "outputs": [
        {
          "output_type": "stream",
          "name": "stdout",
          "text": [
            "enter your name: salma\n",
            "Hello, salma\n"
          ]
        }
      ],
      "source": [
        "prefix_text =\"Hello, \"\n",
        "input_user=input(\"enter your name: \")\n",
        "print(f\"{prefix_text}{input_user}\")"
      ]
    },
    {
      "cell_type": "markdown",
      "id": "86fa1543",
      "metadata": {
        "id": "86fa1543"
      },
      "source": [
        "**13-Write a Python program to print the following numbers up to 2 decimal places"
      ]
    },
    {
      "cell_type": "code",
      "execution_count": null,
      "id": "cd4a9d89",
      "metadata": {
        "colab": {
          "base_uri": "https://localhost:8080/"
        },
        "id": "cd4a9d89",
        "outputId": "d337b5f1-e4d7-438f-d5cd-650ccc8453f0"
      },
      "outputs": [
        {
          "output_type": "stream",
          "name": "stdout",
          "text": [
            "enter a number: +123\n",
            "123.0\n"
          ]
        }
      ],
      "source": [
        "user=float(input(\"enter a number: \"))\n",
        "print(round(user,2))"
      ]
    },
    {
      "cell_type": "markdown",
      "id": "452c0ab0",
      "metadata": {
        "id": "452c0ab0"
      },
      "source": [
        "**14-Write a Python program to print the following numbers up to 2 decimal places with a sign"
      ]
    },
    {
      "cell_type": "code",
      "execution_count": null,
      "id": "73e82479",
      "metadata": {
        "colab": {
          "base_uri": "https://localhost:8080/"
        },
        "id": "73e82479",
        "outputId": "9e543eb1-fb98-4c20-bf4e-52b730734caa"
      },
      "outputs": [
        {
          "output_type": "stream",
          "name": "stdout",
          "text": [
            "enter a number: +123\n",
            "+123.0\n"
          ]
        }
      ],
      "source": [
        "user=input(\"enter a number: \")\n",
        "sign=\"\"\n",
        "if  user[0]=='+':\n",
        "  sign=user[0]\n",
        "user=float(user)\n",
        "print(f\"{sign}{round(user,2)}\")"
      ]
    },
    {
      "cell_type": "markdown",
      "id": "32b1811a",
      "metadata": {
        "id": "32b1811a"
      },
      "source": [
        "**15-Write a Python program to display a number with a comma separator"
      ]
    },
    {
      "cell_type": "code",
      "execution_count": null,
      "id": "f30fc0b6",
      "metadata": {
        "colab": {
          "base_uri": "https://localhost:8080/"
        },
        "id": "f30fc0b6",
        "outputId": "c27d7466-1e8d-4914-fa89-e7fbee2d2c16"
      },
      "outputs": [
        {
          "output_type": "stream",
          "name": "stdout",
          "text": [
            "enter a number: 123.45\n",
            "123,45\n"
          ]
        }
      ],
      "source": [
        "user=input(\"enter a number: \")\n",
        "user=user.replace(\".\",\",\")\n",
        "print(user)"
      ]
    },
    {
      "cell_type": "markdown",
      "id": "0477f487",
      "metadata": {
        "id": "0477f487"
      },
      "source": [
        "**16-Write a Python program to reverse a string using 2 ways"
      ]
    },
    {
      "cell_type": "code",
      "execution_count": null,
      "id": "aa8beec8",
      "metadata": {
        "colab": {
          "base_uri": "https://localhost:8080/"
        },
        "id": "aa8beec8",
        "outputId": "ac7f1539-cfd8-452a-aca9-7af102fdc029"
      },
      "outputs": [
        {
          "output_type": "stream",
          "name": "stdout",
          "text": [
            "amlas\n",
            "amlas\n"
          ]
        }
      ],
      "source": [
        "s=\"salma\"\n",
        "print(s[::-1])\n",
        "revers=\"\"\n",
        "i=1\n",
        "while i !=(len(s)+1):\n",
        "  revers+=s[-i]\n",
        "  i+=1\n",
        "print(revers)"
      ]
    },
    {
      "cell_type": "markdown",
      "id": "5afc3166",
      "metadata": {
        "id": "5afc3166"
      },
      "source": [
        " **17-Write a Python program to count repeated characters in a string (hint:use dictionary)"
      ]
    },
    {
      "cell_type": "code",
      "execution_count": null,
      "id": "515a469c",
      "metadata": {
        "colab": {
          "base_uri": "https://localhost:8080/"
        },
        "id": "515a469c",
        "outputId": "2f15fc35-0865-43d8-c197-71059757c707"
      },
      "outputs": [
        {
          "output_type": "stream",
          "name": "stdout",
          "text": [
            "enter a string: salma\n",
            "{'s': 1, 'a': 2, 'l': 1, 'm': 1}\n"
          ]
        }
      ],
      "source": [
        "user=input(\"enter a string: \")\n",
        "my_l=list(user)\n",
        "d={}\n",
        "for i in my_l:\n",
        "  d[i]=my_l.count(i)\n",
        "print(d)"
      ]
    },
    {
      "cell_type": "markdown",
      "id": "ae14e4e5",
      "metadata": {
        "id": "ae14e4e5"
      },
      "source": [
        "**18-Write a Python program to find the first non-repeating character in a given string"
      ]
    },
    {
      "cell_type": "code",
      "execution_count": null,
      "id": "d73778e5",
      "metadata": {
        "colab": {
          "base_uri": "https://localhost:8080/"
        },
        "id": "d73778e5",
        "outputId": "612db771-32c5-42ff-b0b2-f1c9fac778a3"
      },
      "outputs": [
        {
          "output_type": "stream",
          "name": "stdout",
          "text": [
            "enter a string: salma ashraf\n",
            "{'l': 1, 'm': 1, ' ': 1, 'h': 1, 'r': 1, 'f': 1}\n"
          ]
        }
      ],
      "source": [
        "user=input(\"enter a string: \")\n",
        "my_l=list(user)\n",
        "d={}\n",
        "for i in my_l:\n",
        "  if my_l.count(i)==1:\n",
        "    d[i]=my_l.count(i)\n",
        "print(d)\n"
      ]
    },
    {
      "cell_type": "markdown",
      "id": "3adf5669",
      "metadata": {
        "id": "3adf5669"
      },
      "source": [
        "**19-Write a Python program to remove spaces from a given string"
      ]
    },
    {
      "cell_type": "code",
      "execution_count": null,
      "id": "b4f22602",
      "metadata": {
        "colab": {
          "base_uri": "https://localhost:8080/"
        },
        "id": "b4f22602",
        "outputId": "f58a6bb0-58f3-4ccb-f472-afacbde7d0aa"
      },
      "outputs": [
        {
          "output_type": "stream",
          "name": "stdout",
          "text": [
            "enter: salma ashraf\n",
            "salmaashraf\n"
          ]
        }
      ],
      "source": [
        "user=input(\"enter: \")\n",
        "user=user.replace(\" \",\"\")\n",
        "print(user)"
      ]
    },
    {
      "cell_type": "markdown",
      "id": "734de60c",
      "metadata": {
        "id": "734de60c"
      },
      "source": [
        "**20-Write a Python program to count the number of non-empty substrings of a given string"
      ]
    },
    {
      "cell_type": "code",
      "execution_count": null,
      "id": "ef3f2274",
      "metadata": {
        "colab": {
          "base_uri": "https://localhost:8080/"
        },
        "id": "ef3f2274",
        "outputId": "626b3841-ba44-4766-a9c3-8e07da22af10"
      },
      "outputs": [
        {
          "output_type": "stream",
          "name": "stdout",
          "text": [
            "enter: salma as mon\n",
            "count the number of non-empty substrings 3\n"
          ]
        }
      ],
      "source": [
        "user=input(\"enter: \")\n",
        "counter=len(user.split(\" \"))\n",
        "print(f\"count the number of non-empty substrings {counter}\")\n"
      ]
    },
    {
      "cell_type": "markdown",
      "id": "509998e2",
      "metadata": {
        "id": "509998e2"
      },
      "source": [
        "**21-write a Python program to swap first and last element of any list."
      ]
    },
    {
      "cell_type": "code",
      "execution_count": null,
      "id": "68692d7f",
      "metadata": {
        "colab": {
          "base_uri": "https://localhost:8080/"
        },
        "id": "68692d7f",
        "outputId": "ab092764-19b6-43bc-a1c0-d068bc377c91"
      },
      "outputs": [
        {
          "output_type": "stream",
          "name": "stdout",
          "text": [
            "[5, 2, 3, 4, 1]\n"
          ]
        }
      ],
      "source": [
        "l=[1,2,3,4,5]\n",
        "l[0],l[-1]=l[-1],l[0]\n",
        "print(l)"
      ]
    },
    {
      "cell_type": "markdown",
      "id": "959e0837",
      "metadata": {
        "id": "959e0837"
      },
      "source": [
        "**22-Given a list in Python and provided the positions of the elements, write a program to swap the two elements in the list. (Input : List = [23, 65, 19, 90], pos1 = 1, pos2 = 3\n",
        "Output : [19, 65, 23, 90])"
      ]
    },
    {
      "cell_type": "code",
      "execution_count": null,
      "id": "225d8c6d",
      "metadata": {
        "colab": {
          "base_uri": "https://localhost:8080/"
        },
        "id": "225d8c6d",
        "outputId": "c9736f9c-d82a-4aca-cd28-1b5a38fe3bf6"
      },
      "outputs": [
        {
          "output_type": "execute_result",
          "data": {
            "text/plain": [
              "[19, 65, 23, 60]"
            ]
          },
          "metadata": {},
          "execution_count": 127
        }
      ],
      "source": [
        "def swap_fun(my_list,from_pos,to_pos):\n",
        "  my_list[from_pos-1],my_list[to_pos-1]=my_list[to_pos-1],my_list[from_pos-1]\n",
        "  return my_list\n",
        "swap_fun([23,65,19,60],1,3)\n",
        "\n"
      ]
    },
    {
      "cell_type": "markdown",
      "id": "66fc6682",
      "metadata": {
        "id": "66fc6682"
      },
      "source": [
        "**23- search for the all ways to know the length of the list"
      ]
    },
    {
      "cell_type": "code",
      "execution_count": null,
      "id": "63ff8b43",
      "metadata": {
        "id": "63ff8b43"
      },
      "outputs": [],
      "source": [
        "**24-write a Python code to find the Maximum number of list of numbers."
      ]
    },
    {
      "cell_type": "code",
      "execution_count": null,
      "id": "15f342de",
      "metadata": {
        "colab": {
          "base_uri": "https://localhost:8080/"
        },
        "id": "15f342de",
        "outputId": "a9e00c4c-24bf-430f-e1ea-6a6c60b0201d"
      },
      "outputs": [
        {
          "output_type": "execute_result",
          "data": {
            "text/plain": [
              "45"
            ]
          },
          "metadata": {},
          "execution_count": 128
        }
      ],
      "source": [
        "l=[1,2,3,45,6,7]\n",
        "max(l)"
      ]
    },
    {
      "cell_type": "code",
      "execution_count": null,
      "id": "1a89b9d3",
      "metadata": {
        "id": "1a89b9d3"
      },
      "outputs": [],
      "source": [
        "**25-write a Python code to find the Minimum number of list of numbers."
      ]
    },
    {
      "cell_type": "code",
      "execution_count": null,
      "id": "21f8cbd6",
      "metadata": {
        "colab": {
          "base_uri": "https://localhost:8080/"
        },
        "id": "21f8cbd6",
        "outputId": "d9da0b76-a284-4d53-e07b-36e3089b343b"
      },
      "outputs": [
        {
          "output_type": "execute_result",
          "data": {
            "text/plain": [
              "1"
            ]
          },
          "metadata": {},
          "execution_count": 129
        }
      ],
      "source": [
        "l=[1,2,3,45,6,7]\n",
        "min(l)"
      ]
    },
    {
      "cell_type": "markdown",
      "id": "96822d96",
      "metadata": {
        "id": "96822d96"
      },
      "source": [
        "**26-search for if an elem is existing in list"
      ]
    },
    {
      "cell_type": "code",
      "execution_count": null,
      "id": "51ca5c9a",
      "metadata": {
        "colab": {
          "base_uri": "https://localhost:8080/"
        },
        "id": "51ca5c9a",
        "outputId": "366a9f10-0045-4fef-da3d-24e773618ddb"
      },
      "outputs": [
        {
          "output_type": "stream",
          "name": "stdout",
          "text": [
            "enter a number: 20\n",
            "no its not found\n"
          ]
        }
      ],
      "source": [
        "user=int(input(\"enter a number: \"))\n",
        "l=[1,2,3,4,5,6,7]\n",
        "if user in l:\n",
        "  print(f\"yes its in list in index {l.index(user)}\")\n",
        "else:\n",
        "  print(\"no its not found\")"
      ]
    },
    {
      "cell_type": "markdown",
      "id": "d9557da7",
      "metadata": {
        "id": "d9557da7"
      },
      "source": [
        "**27- clear python list using different ways"
      ]
    },
    {
      "cell_type": "code",
      "execution_count": null,
      "id": "b69858a3",
      "metadata": {
        "colab": {
          "base_uri": "https://localhost:8080/"
        },
        "id": "b69858a3",
        "outputId": "8caf134a-239f-4697-9a12-d62584ec0ea0"
      },
      "outputs": [
        {
          "output_type": "stream",
          "name": "stdout",
          "text": [
            "[2, 3, 4, 5, 6]\n",
            "[2, 4, 5, 6]\n",
            "[2, 4, 6]\n",
            "[2, 4, 6]\n"
          ]
        }
      ],
      "source": [
        "l=[1,2,3,4,5,6]\n",
        "#l.clear()\n",
        "\"\"\"\n",
        "for i in range(len(l)):\n",
        "  l.pop()\n",
        "  \"\"\"\n",
        "print(l)"
      ]
    },
    {
      "cell_type": "markdown",
      "id": "52160e88",
      "metadata": {
        "id": "52160e88"
      },
      "source": [
        "**28-remove duplicated elements from a list"
      ]
    },
    {
      "cell_type": "code",
      "execution_count": null,
      "id": "5e362228",
      "metadata": {
        "id": "5e362228",
        "colab": {
          "base_uri": "https://localhost:8080/"
        },
        "outputId": "f692bdef-67b2-45f6-bf1f-7bfb311f161e"
      },
      "outputs": [
        {
          "output_type": "stream",
          "name": "stdout",
          "text": [
            "[3, 4, 5, 1, 2, 2]\n",
            "[3, 4, 5]\n"
          ]
        }
      ],
      "source": [
        "l=[1,2,3,4,5,1,2,2]\n",
        "new_l=[]\n",
        "for i in l:\n",
        "  if l.count(i)==1:\n",
        "    new_l.append(i)\n",
        "# or\n",
        "for i in l:\n",
        "  if l.count(i)>1:\n",
        "    l.remove(i)\n",
        "print(l)\n",
        "print(new_l)"
      ]
    },
    {
      "cell_type": "markdown",
      "id": "282337f7",
      "metadata": {
        "id": "282337f7"
      },
      "source": [
        "**29-Given list values and keys list, convert these values to key value pairs in form of list of dictionaries. (Input : test_list = [“Gfg”, 3, “is”, 8], key_list = [“name”, “id”]\n",
        "Output : [{‘name’: ‘Gfg’, ‘id’: 3}, {‘name’: ‘is’, ‘id’: 8}])"
      ]
    },
    {
      "cell_type": "code",
      "execution_count": null,
      "id": "4d4e2d28",
      "metadata": {
        "id": "4d4e2d28",
        "colab": {
          "base_uri": "https://localhost:8080/"
        },
        "outputId": "1e374d8a-c984-4ed0-e380-2a5dbe7bd1d9"
      },
      "outputs": [
        {
          "output_type": "execute_result",
          "data": {
            "text/plain": [
              "[{'name': 'is'}, {'name': 'is'}]"
            ]
          },
          "metadata": {},
          "execution_count": 235
        }
      ],
      "source": [
        "\n"
      ]
    },
    {
      "cell_type": "markdown",
      "id": "c26b6e9f",
      "metadata": {
        "id": "c26b6e9f"
      },
      "source": [
        "**30-write a python program to count unique values inside a list using different ways"
      ]
    },
    {
      "cell_type": "code",
      "execution_count": null,
      "id": "72132667",
      "metadata": {
        "id": "72132667",
        "colab": {
          "base_uri": "https://localhost:8080/"
        },
        "outputId": "4889003f-a1aa-4dbc-8b42-4740fea5e12e"
      },
      "outputs": [
        {
          "output_type": "stream",
          "name": "stdout",
          "text": [
            "{1: 2, 2: 3, 3: 1, 4: 1, 5: 1, 7: 2, 8: 1, 9: 1}\n",
            "{1: 2, 2: 3, 3: 1, 4: 1, 5: 1, 7: 2, 8: 1, 9: 1}\n"
          ]
        }
      ],
      "source": [
        "l=[1,2,3,4,5,7,7,8,9,1,2,2]\n",
        "d={}\n",
        "n={}\n",
        "counter=0\n",
        "for i in l:\n",
        "  d[i]=l.count(i)\n",
        "print(d)\n",
        "unique_values=set(l)\n",
        "for i in range(len(l)):\n",
        "  j=i+1\n",
        "  for j in range(len(l)):\n",
        "    if l[i]==l[j]:\n",
        "      counter+=1\n",
        "      n[l[i]]=counter\n",
        "  counter=0\n",
        "\n",
        "\n",
        "print(n)"
      ]
    },
    {
      "cell_type": "markdown",
      "id": "fed6677c",
      "metadata": {
        "id": "fed6677c"
      },
      "source": [
        "**31-write a python program Extract all elements with Frequency greater than K (Input : test_list = [4, 6, 4, 3, 3, 4, 3, 4, 3, 8], K = 3\n",
        "Output : [4, 3] )"
      ]
    },
    {
      "cell_type": "code",
      "execution_count": null,
      "id": "d81f3f9d",
      "metadata": {
        "id": "d81f3f9d",
        "colab": {
          "base_uri": "https://localhost:8080/"
        },
        "outputId": "92e645d1-87a8-4762-d814-1cfaaf3b32df"
      },
      "outputs": [
        {
          "output_type": "stream",
          "name": "stdout",
          "text": [
            "enter freq: 3\n",
            "[3, 4]\n"
          ]
        }
      ],
      "source": [
        "k=int(input(\"enter freq: \"))\n",
        "l=[4, 6, 4, 3, 3, 4, 3, 4, 3, 8]\n",
        "final=[]\n",
        "for i in l:\n",
        "  if l.count(i)>k:\n",
        "    final.append(i)\n",
        "final=set(final)\n",
        "final=list(final)\n",
        "print(final)"
      ]
    },
    {
      "cell_type": "markdown",
      "id": "caca5224",
      "metadata": {
        "id": "caca5224"
      },
      "source": [
        "**32-write a python program to find the Strongest Neighbour (Input: 1 2 2 3 4 5\n",
        "Output: 2 2 3 4 5)"
      ]
    },
    {
      "cell_type": "code",
      "execution_count": null,
      "id": "39fbd9b2",
      "metadata": {
        "id": "39fbd9b2",
        "colab": {
          "base_uri": "https://localhost:8080/"
        },
        "outputId": "3b0338f9-9f46-421a-93da-c752a55e0f6e"
      },
      "outputs": [
        {
          "output_type": "stream",
          "name": "stdout",
          "text": [
            "enter your list of numbers: 2 2 3 4 5 6 7 8\n",
            "[2, 3, 4, 5, 6, 7, 8]\n"
          ]
        }
      ],
      "source": [
        "l=input(\"enter your list of numbers: \")\n",
        "l=l.split(\" \")\n",
        "l2=[]\n",
        "final=[]\n",
        "for i in l:\n",
        "  i=int(i)\n",
        "  l2.append(i)\n",
        "for i in range(len(l2)-1):\n",
        "  k=max(l2[i],l2[i+1])\n",
        "  final.append(k)\n",
        "print(final)"
      ]
    },
    {
      "cell_type": "markdown",
      "id": "a9fa8baf",
      "metadata": {
        "id": "a9fa8baf"
      },
      "source": [
        "**33-write a Python Program to print all Possible Combinations from the three Digits (Input: [1, 2, 3]\n",
        "Output:\n",
        "1 2 3 ##\n",
        "1 3 2 ##\n",
        "2 1 3 ##\n",
        "2 3 1 ##\n",
        "3 1 2 ##\n",
        "3 2 1)"
      ]
    },
    {
      "cell_type": "code",
      "execution_count": null,
      "id": "8c520a76",
      "metadata": {
        "id": "8c520a76",
        "colab": {
          "base_uri": "https://localhost:8080/"
        },
        "outputId": "a433952c-186f-4a3c-bf6c-2c5ae0d33c42"
      },
      "outputs": [
        {
          "output_type": "execute_result",
          "data": {
            "text/plain": [
              "[(1, 2, 3), (1, 3, 2), (2, 1, 3), (2, 3, 1), (3, 1, 2), (3, 2, 1)]"
            ]
          },
          "metadata": {},
          "execution_count": 286
        }
      ],
      "source": [
        "from itertools import permutations\n",
        "all_permutations = permutations([1,2,3])\n",
        "list(all_permutations)"
      ]
    },
    {
      "cell_type": "markdown",
      "id": "5288bb89",
      "metadata": {
        "id": "5288bb89"
      },
      "source": [
        "**34-write a Python program to find all the Combinations in the list with the given condition (Input: test_list = [1,2,3]\n",
        "Output:\n",
        " [1], [1, 2], [1, 2, 3], [1, 3]\n",
        " [2], [2, 3], [3])"
      ]
    },
    {
      "cell_type": "code",
      "execution_count": null,
      "id": "59b89646",
      "metadata": {
        "id": "59b89646",
        "colab": {
          "base_uri": "https://localhost:8080/"
        },
        "outputId": "f6e648f4-c042-40ce-c375-b524acf8e99b"
      },
      "outputs": [
        {
          "output_type": "stream",
          "name": "stdout",
          "text": [
            "[1]\n",
            "[1, 2]\n",
            "[1, 2, 3]\n",
            "[2]\n",
            "[2, 3]\n",
            "[3]\n"
          ]
        }
      ],
      "source": [
        "l=[1,2,3]\n",
        "l2=[]\n",
        "l3=[]\n",
        "final=[]\n",
        "for k in range(3):\n",
        "  l2.clear()\n",
        "  for i in l[k:]:\n",
        "     l2.append(i)\n",
        "     print(l2)"
      ]
    },
    {
      "cell_type": "markdown",
      "id": "39973705",
      "metadata": {
        "id": "39973705"
      },
      "source": [
        "**35-write a Python program to get all unique combinations of two Lists (List_1 = [\"a\",\"b\"]\n",
        "List_2 = [1,2]\n",
        "Unique_combination = [[('a',1),('b',2)],[('a',2),('b',1)]] )"
      ]
    },
    {
      "cell_type": "code",
      "execution_count": null,
      "id": "8c4ba22b",
      "metadata": {
        "id": "8c4ba22b",
        "colab": {
          "base_uri": "https://localhost:8080/"
        },
        "outputId": "1d880569-4570-4e17-c1d7-528e36852e47"
      },
      "outputs": [
        {
          "output_type": "execute_result",
          "data": {
            "text/plain": [
              "[('a', 1),\n",
              " ('a', 2),\n",
              " ('a', 3),\n",
              " ('b', 1),\n",
              " ('b', 2),\n",
              " ('b', 3),\n",
              " ('c', 1),\n",
              " ('c', 2),\n",
              " ('c', 3)]"
            ]
          },
          "metadata": {},
          "execution_count": 332
        }
      ],
      "source": [
        "final=[]\n",
        "for i in [\"a\",\"b\",\"c\"]:\n",
        "  for j in [1,2,3]:\n",
        "    t=i,j\n",
        "    final.append(t)\n",
        "final"
      ]
    },
    {
      "cell_type": "markdown",
      "id": "25199af5",
      "metadata": {
        "id": "25199af5"
      },
      "source": [
        "**36-Remove all the occurrences of an element from a list in Python (Input : 1 1 2 3 4 5 1 2 1\n",
        "\n",
        "**Output : 2 3 4 5 2)"
      ]
    },
    {
      "cell_type": "code",
      "execution_count": null,
      "id": "6dc4c2ba",
      "metadata": {
        "id": "6dc4c2ba",
        "colab": {
          "base_uri": "https://localhost:8080/"
        },
        "outputId": "5a0d0cc7-b51e-4e4b-d8fc-47b8e60b42eb"
      },
      "outputs": [
        {
          "output_type": "execute_result",
          "data": {
            "text/plain": [
              "[2, 3, 4, 5, 2]"
            ]
          },
          "metadata": {},
          "execution_count": 368
        }
      ],
      "source": [
        "l=[1,1,2,3,4,5,1,2,1]\n",
        "d={}\n",
        "l2=[]\n",
        "l3=[]\n",
        "idx=0\n",
        "for i in l:\n",
        "  d[i]=l.count(i)\n",
        "l2=list(d.values())\n",
        "mx=max(l2)\n",
        "for key ,v in d.items():\n",
        "  if d[key]==mx:\n",
        "    idx=key\n",
        "for i in l:\n",
        "  if i!=idx:\n",
        "    l3.append(i)\n",
        "l3"
      ]
    },
    {
      "cell_type": "markdown",
      "id": "bf1a3c93",
      "metadata": {
        "id": "bf1a3c93"
      },
      "source": [
        "**37-write a python program to Replace index elements with elements in Other List (The original list 1 is : [‘Gfg’, ‘is’, ‘best’] The original list 2 is : [0, 1, 2, 1, 0, 0, 0, 2, 1, 1, 2, 0] The lists after index elements replacements is : [‘Gfg’, ‘is’, ‘best’, ‘is’, ‘Gfg’, ‘Gfg’, ‘Gfg’, ‘best’, ‘is’, ‘is’, ‘best’, ‘Gfg’])"
      ]
    },
    {
      "cell_type": "code",
      "execution_count": null,
      "id": "fdd66a71",
      "metadata": {
        "id": "fdd66a71",
        "colab": {
          "base_uri": "https://localhost:8080/"
        },
        "outputId": "aafbb463-4230-4388-f1dd-e5257d81df36"
      },
      "outputs": [
        {
          "output_type": "stream",
          "name": "stdout",
          "text": [
            "['Gfg', 'is', 'best', 'is', 'Gfg', 'Gfg', 'Gfg', 'best', 'is', 'is', 'best', 'Gfg']\n"
          ]
        }
      ],
      "source": [
        "l=[\"Gfg\",\"is\",\"best\"]\n",
        "l2=[0, 1, 2, 1, 0, 0, 0, 2, 1, 1, 2, 0]\n",
        "l3=[]\n",
        "for i in l2:\n",
        "  l3.append(l[i])\n",
        "print(l3)"
      ]
    },
    {
      "cell_type": "markdown",
      "id": "af0f56e8",
      "metadata": {
        "id": "af0f56e8"
      },
      "source": [
        "**38- write python program to Retain records with N occurrences of K(Input : test_list = [(4, 5, 5, 4), (5, 4, 3)], K = 5, N = 2\n",
        "Output : [(4, 5, 5, 4)]\n",
        "Input : test_list = [(4, 5, 5, 4), (5, 4, 3)], K = 5, N = 3\n",
        "Output : [] )"
      ]
    },
    {
      "cell_type": "code",
      "execution_count": null,
      "id": "67b06671",
      "metadata": {
        "id": "67b06671",
        "colab": {
          "base_uri": "https://localhost:8080/"
        },
        "outputId": "bf9ccc24-ecb4-4387-be89-3a8f25848ad9"
      },
      "outputs": [
        {
          "output_type": "execute_result",
          "data": {
            "text/plain": [
              "[]"
            ]
          },
          "metadata": {},
          "execution_count": 4
        }
      ],
      "source": [
        "t=[(4, 5, 5, 4), (5, 4, 3)]\n",
        "k=5\n",
        "n=3\n",
        "f=[]\n",
        "for tuple_ in t:\n",
        "  if tuple_.count(k)==n:\n",
        "    f.append(tuple_)\n",
        "f"
      ]
    },
    {
      "cell_type": "markdown",
      "id": "de76f183",
      "metadata": {
        "id": "de76f183"
      },
      "source": [
        "**39-write a Python Program to Sort the list according to the column using lambda\n",
        "array = [[1, 3, 3], [2, 1, 2], [3, 2, 1]]\n",
        "Output :\n",
        "Sorted array specific to column 0, [[1, 3, 3], [2, 1, 2], [3, 2, 1]]\n",
        "Sorted array specific to column 1, [[2, 1, 2], [3, 2, 1], [1, 3, 3]]\n",
        "Sorted array specific to column 2, [[3, 2, 1], [2, 1, 2], [1, 3, 3]]"
      ]
    },
    {
      "cell_type": "code",
      "execution_count": null,
      "id": "dc883308",
      "metadata": {
        "id": "dc883308",
        "colab": {
          "base_uri": "https://localhost:8080/"
        },
        "outputId": "fb9f88ce-87cc-430f-accd-37d8453f07d4"
      },
      "outputs": [
        {
          "output_type": "stream",
          "name": "stdout",
          "text": [
            "[[1, 3, 3], [2, 1, 2], [3, 2, 1]]\n"
          ]
        }
      ],
      "source": [
        "\"\"\"\n",
        "l[0][1]=min(l[0])\n",
        "l[1][1]>l[0][1]\n",
        "f=[]\n",
        "col=2\n",
        "x=0\n",
        "m=min(l[0])\n",
        "idx=l[0].index(m)\n",
        "m2=0\n",
        "l[0][col],l[0][idx]=m,l[0][col]\n",
        "for i in range(len(l[1])):\n",
        "  if l[1][i]!=m:\n",
        "    f.append(l[1][i])\n",
        "m2=min(f)\n",
        "idx=l[1].index(m2)\n",
        "if idx==col:\n",
        "  l[1]=l[1]\n",
        "print(l[1])\n",
        "l[2][col],l[2][0]=3,l[2][2]\n",
        "print(l)\n",
        "\"\"\"\n",
        "l=[[1, 3, 3], [2, 1, 2], [3, 2, 1]]\n",
        "s=set(l[0])\n",
        "s1=set(l[1])\n",
        "s2=set(l[2])\n",
        "k=s1.union(s2)\n",
        "final=s.union(k)\n",
        "final=list(final)\n",
        "final.sort()\n",
        "col=0\n",
        "f.append(min(l[0]))\n",
        "for i in range(len(l)):\n",
        "  m=final[i]\n",
        "  idx=l[i].index(m)\n",
        "  if idx==col:\n",
        "    l[i]=l[i]\n",
        "  l[i][col],l[i][idx]=m,l[i][col]\n",
        "print(l)"
      ]
    },
    {
      "cell_type": "code",
      "execution_count": null,
      "id": "d2e7b31f",
      "metadata": {
        "id": "d2e7b31f"
      },
      "outputs": [],
      "source": [
        "**40- write a program to Sort Python Dictionaries by Key or Value\n",
        "Input:\n",
        "{'ravi': 10, 'rajnish': 9, 'sanjeev': 15, 'yash': 2, 'suraj': 32}\n",
        "\n",
        "Output:\n",
        "{'rajnish': 9, 'ravi': 10, 'sanjeev': 15, 'suraj': 32, 'yash': 2}"
      ]
    },
    {
      "cell_type": "code",
      "execution_count": null,
      "id": "a96db4a0",
      "metadata": {
        "id": "a96db4a0",
        "colab": {
          "base_uri": "https://localhost:8080/"
        },
        "outputId": "9d8783bc-ce13-4165-d6fb-685f3d9548e0"
      },
      "outputs": [
        {
          "output_type": "stream",
          "name": "stdout",
          "text": [
            "what do you want to sort dict by key or value: value\n",
            "{'yash': 2, 'rajnish': 9, 'ravi': 10, 'sanjeev': 15, 'suraj': 32}\n"
          ]
        }
      ],
      "source": [
        "user=input(\"what do you want to sort dict by key or value: \").lower()\n",
        "d={'ravi': 10, 'rajnish': 9, 'sanjeev': 15, 'yash': 2, 'suraj': 32}\n",
        "if user==\"key\":\n",
        "  for key in d.keys():\n",
        "    for key2 in d.keys():\n",
        "      if key[0]>key2[0]:\n",
        "        key,key2=key2,key\n",
        "  print(d)\n",
        "\n",
        "elif user==\"value\" :\n",
        "  d2={}\n",
        "  d3={}\n",
        "  l=[]\n",
        "  for value in d.values():\n",
        "    l.append(value)\n",
        "  l.sort()\n",
        "  for i in l:\n",
        "    for key in d.keys():\n",
        "      if d[key]==i:\n",
        "        d3[key]=i\n",
        "  print(d3)"
      ]
    },
    {
      "cell_type": "markdown",
      "id": "ec63c23a",
      "metadata": {
        "id": "ec63c23a"
      },
      "source": [
        "**41-write python program to Remove keys with Values Greater than K ( Including mixed values )\n",
        "nput : test_dict = {‘Gfg’ : 3, ‘is’ : 7, ‘best’ : 10, ‘for’ : 6, ‘geeks’ : ‘CS’},\n",
        "K = 7\n",
        "Output : {‘Gfg’ : 3, ‘for’ : 6, ‘geeks’ : ‘CS’}"
      ]
    },
    {
      "cell_type": "code",
      "execution_count": null,
      "id": "e39c3a40",
      "metadata": {
        "id": "e39c3a40",
        "colab": {
          "base_uri": "https://localhost:8080/"
        },
        "outputId": "29f7544d-51c5-4308-ba47-6990db2066d3"
      },
      "outputs": [
        {
          "output_type": "stream",
          "name": "stdout",
          "text": [
            "enter: 3\n",
            "{'a': 'cs'}\n"
          ]
        }
      ],
      "source": [
        "k=int(input(\"enter: \"))\n",
        "d={'a':'cs','for':6,'gfg':3,'best':10}\n",
        "d2={}\n",
        "for key,v in d.items():\n",
        "  if type(v)!=str and type(v)!=bool :\n",
        "    if v<k:\n",
        "      d2[key]=v\n",
        "  else:\n",
        "      d2[key]=v\n",
        "print(d2)"
      ]
    },
    {
      "cell_type": "markdown",
      "id": "f143f0fe",
      "metadata": {
        "id": "f143f0fe"
      },
      "source": [
        "**42-Write a Python program to concatenate the following dictionaries to create a new one\n",
        "\n",
        "Sample Dictionary :\n",
        "dic1={1:10, 2:20}\n",
        "dic2={3:30, 4:40}\n",
        "dic3={5:50,6:60}\n",
        "Expected Result : {1: 10, 2: 20, 3: 30, 4: 40, 5: 50, 6: 60}"
      ]
    },
    {
      "cell_type": "code",
      "execution_count": null,
      "id": "74ffdfea",
      "metadata": {
        "id": "74ffdfea",
        "colab": {
          "base_uri": "https://localhost:8080/"
        },
        "outputId": "3c86049d-028d-498d-8bb5-86655ff4cab3"
      },
      "outputs": [
        {
          "output_type": "stream",
          "name": "stdout",
          "text": [
            "{1: 10, 2: 20, 3: 30, 4: 40, 5: 50, 6: 60}\n"
          ]
        }
      ],
      "source": [
        "d1={1:10, 2:20}\n",
        "d2={3:30, 4:40}\n",
        "d3={5:50,6:60}\n",
        "d=[]\n",
        "d.append(d1)\n",
        "d.append(d2)\n",
        "d.append(d3)\n",
        "q={}\n",
        "for i in range(3):\n",
        " for k,v in d[i].items():\n",
        "  q[k]=v\n",
        "print(q)\n"
      ]
    },
    {
      "cell_type": "markdown",
      "id": "fb04c93c",
      "metadata": {
        "id": "fb04c93c"
      },
      "source": [
        "**43-Write a Python program to iterate over dictionaries using for loops"
      ]
    },
    {
      "cell_type": "code",
      "execution_count": null,
      "id": "6aebc470",
      "metadata": {
        "id": "6aebc470",
        "colab": {
          "base_uri": "https://localhost:8080/"
        },
        "outputId": "61462bed-aef8-441c-c864-6a1d119e08d8"
      },
      "outputs": [
        {
          "output_type": "stream",
          "name": "stdout",
          "text": [
            "1 100\n",
            "2 200\n",
            "3 300\n"
          ]
        }
      ],
      "source": [
        "d={1:100,2:200,3:300}\n",
        "for key,v in d.items():\n",
        "  print(key,v)"
      ]
    },
    {
      "cell_type": "markdown",
      "id": "5f491a9d",
      "metadata": {
        "id": "5f491a9d"
      },
      "source": [
        "**44- Write a Python script to merge two Python dictionaries"
      ]
    },
    {
      "cell_type": "code",
      "execution_count": null,
      "id": "b8a14028",
      "metadata": {
        "id": "b8a14028",
        "colab": {
          "base_uri": "https://localhost:8080/"
        },
        "outputId": "cc2ba35b-9343-430b-8542-52e56357925f"
      },
      "outputs": [
        {
          "output_type": "stream",
          "name": "stdout",
          "text": [
            "[{1: 100, 2: 200}, {3: 300, 4: 400}]\n"
          ]
        },
        {
          "output_type": "execute_result",
          "data": {
            "text/plain": [
              "{1: 100, 2: 200, 3: 300, 4: 400}"
            ]
          },
          "metadata": {},
          "execution_count": 74
        }
      ],
      "source": [
        "d={1:100,2:200}\n",
        "d2={3:300,4:400}\n",
        "def fun(*d):\n",
        "  my_d=[]\n",
        "  final_d={}\n",
        "  for i in d:\n",
        "    my_d.append(i)\n",
        "  print(my_d)\n",
        "  for i in range(len(my_d)):\n",
        "    for k,v in my_d[i].items():\n",
        "      final_d[k]=v\n",
        "  return final_d\n",
        "fun(d,d2)"
      ]
    },
    {
      "cell_type": "markdown",
      "id": "216fc72d",
      "metadata": {
        "id": "216fc72d"
      },
      "source": [
        "**45-Write a Python program to get the maximum and minimum values of a dictionary values"
      ]
    },
    {
      "cell_type": "code",
      "execution_count": null,
      "id": "d6883f5f",
      "metadata": {
        "id": "d6883f5f",
        "colab": {
          "base_uri": "https://localhost:8080/"
        },
        "outputId": "03547716-ccde-4eb7-8100-abfd8908b5d2"
      },
      "outputs": [
        {
          "output_type": "stream",
          "name": "stdout",
          "text": [
            "100\n",
            "400\n"
          ]
        }
      ],
      "source": [
        "d={1: 100, 2: 200, 3: 300, 4: 400}\n",
        "l=list(d.values())\n",
        "print(min(l))\n",
        "print(max(l))"
      ]
    },
    {
      "cell_type": "markdown",
      "id": "b6a53011",
      "metadata": {
        "id": "b6a53011"
      },
      "source": [
        "**46- Write a Python program to drop empty items from a given dictionary.\n",
        "Original Dictionary:\n",
        "{'c1': 'Red', 'c2': 'Green', 'c3': None}\n",
        "New Dictionary after dropping empty items:\n",
        "{'c1': 'Red', 'c2': 'Green'}"
      ]
    },
    {
      "cell_type": "code",
      "execution_count": null,
      "id": "b5c6fecf",
      "metadata": {
        "id": "b5c6fecf",
        "colab": {
          "base_uri": "https://localhost:8080/"
        },
        "outputId": "a8306494-12ff-4e06-c7a0-a96da254b362"
      },
      "outputs": [
        {
          "output_type": "stream",
          "name": "stdout",
          "text": [
            "{2: 200, 3: 300, 4: 400}\n"
          ]
        }
      ],
      "source": [
        "d={1: None, 2: 200,10:None, 3: 300, 4: 400,5:None}\n",
        "k=[]\n",
        "for keys,i in d.items():\n",
        "  if i==None:\n",
        "    k.append(keys)\n",
        "for i in k:\n",
        "  d.pop(i)\n",
        "print(d)"
      ]
    },
    {
      "cell_type": "markdown",
      "id": "46d718c7",
      "metadata": {
        "id": "46d718c7"
      },
      "source": [
        "**47-Write a Python program to create a tuple of numbers and print one item"
      ]
    },
    {
      "cell_type": "code",
      "execution_count": 105,
      "id": "13216ff5",
      "metadata": {
        "id": "13216ff5",
        "colab": {
          "base_uri": "https://localhost:8080/"
        },
        "outputId": "8e479648-bda0-4d69-cbc7-ddb1c38795ee"
      },
      "outputs": [
        {
          "output_type": "stream",
          "name": "stdout",
          "text": [
            "1\n"
          ]
        }
      ],
      "source": [
        "t=1,2,3,4,5\n",
        "print(t[0])"
      ]
    },
    {
      "cell_type": "markdown",
      "id": "2be5b56b",
      "metadata": {
        "id": "2be5b56b"
      },
      "source": [
        "**48-Write a Python program to unpack a tuple into several variables"
      ]
    },
    {
      "cell_type": "code",
      "execution_count": 106,
      "id": "595f44be",
      "metadata": {
        "id": "595f44be"
      },
      "outputs": [],
      "source": [
        "x,y,z=(1,2,3)"
      ]
    },
    {
      "cell_type": "markdown",
      "id": "392388a7",
      "metadata": {
        "id": "392388a7"
      },
      "source": [
        "**49-Write a Python program to add an item to a tuple"
      ]
    },
    {
      "cell_type": "code",
      "execution_count": 108,
      "id": "54cc092e",
      "metadata": {
        "id": "54cc092e",
        "colab": {
          "base_uri": "https://localhost:8080/"
        },
        "outputId": "0a133ecb-3ed1-4024-dc3a-44d83be44fad"
      },
      "outputs": [
        {
          "output_type": "execute_result",
          "data": {
            "text/plain": [
              "(1, 999)"
            ]
          },
          "metadata": {},
          "execution_count": 108
        }
      ],
      "source": [
        "t=1,\n",
        "t=list(t)\n",
        "t.append(999)\n",
        "t=tuple(t)\n",
        "t"
      ]
    },
    {
      "cell_type": "markdown",
      "id": "3e8fd124",
      "metadata": {
        "id": "3e8fd124"
      },
      "source": [
        "**50-Write a Python program to convert a tuple to a string"
      ]
    },
    {
      "cell_type": "code",
      "execution_count": 109,
      "id": "92a71ddc",
      "metadata": {
        "id": "92a71ddc",
        "colab": {
          "base_uri": "https://localhost:8080/",
          "height": 35
        },
        "outputId": "62a0ad85-049a-44e4-bf47-71cfb3d34f39"
      },
      "outputs": [
        {
          "output_type": "execute_result",
          "data": {
            "text/plain": [
              "'(1, 2, 3, 4, 5)'"
            ],
            "application/vnd.google.colaboratory.intrinsic+json": {
              "type": "string"
            }
          },
          "metadata": {},
          "execution_count": 109
        }
      ],
      "source": [
        "t=(1,2,3,4,5)\n",
        "t=str(t)\n",
        "t"
      ]
    },
    {
      "cell_type": "markdown",
      "id": "f4f64ef4",
      "metadata": {
        "id": "f4f64ef4"
      },
      "source": [
        "**51-Write a Python program to convert a list to a tuple"
      ]
    },
    {
      "cell_type": "code",
      "execution_count": 110,
      "id": "210d56d3",
      "metadata": {
        "id": "210d56d3",
        "colab": {
          "base_uri": "https://localhost:8080/"
        },
        "outputId": "1d82677a-cef8-45d8-8d16-e2ab82b960b2"
      },
      "outputs": [
        {
          "output_type": "execute_result",
          "data": {
            "text/plain": [
              "(1, 2, 3, 4)"
            ]
          },
          "metadata": {},
          "execution_count": 110
        }
      ],
      "source": [
        "l=[1,2,3,4]\n",
        "l=tuple(l)\n",
        "l"
      ]
    },
    {
      "cell_type": "markdown",
      "id": "b1e00ef7",
      "metadata": {
        "id": "b1e00ef7"
      },
      "source": [
        "**52-Write a Python program to reverse a tuple"
      ]
    },
    {
      "cell_type": "code",
      "execution_count": 111,
      "id": "f45bfdc7",
      "metadata": {
        "id": "f45bfdc7",
        "colab": {
          "base_uri": "https://localhost:8080/"
        },
        "outputId": "201d5ffb-432d-40f3-cd80-d82b19fc5c31"
      },
      "outputs": [
        {
          "output_type": "execute_result",
          "data": {
            "text/plain": [
              "(6, 5, 4, 3, 2, 1)"
            ]
          },
          "metadata": {},
          "execution_count": 111
        }
      ],
      "source": [
        "t=1,2,3,4,5,6\n",
        "l=list(t)\n",
        "l=l[::-1]\n",
        "t=tuple(l)\n",
        "t"
      ]
    },
    {
      "cell_type": "markdown",
      "id": "3cd347d1",
      "metadata": {
        "id": "3cd347d1"
      },
      "source": [
        "**53-Write a Python program to replace the last value of tuples in a list.\n",
        "Sample list: [(10, 20, 40), (40, 50, 60), (70, 80, 90)]\n",
        "Expected Output: [(10, 20, 100), (40, 50, 100), (70, 80, 100)]"
      ]
    },
    {
      "cell_type": "code",
      "execution_count": 115,
      "id": "3c4a2a4c",
      "metadata": {
        "id": "3c4a2a4c",
        "colab": {
          "base_uri": "https://localhost:8080/"
        },
        "outputId": "6c026c6b-2277-4ef7-8c41-303bf3a467fd"
      },
      "outputs": [
        {
          "output_type": "execute_result",
          "data": {
            "text/plain": [
              "[(10, 20, 100), (40, 50, 100), (70, 80, 100)]"
            ]
          },
          "metadata": {},
          "execution_count": 115
        }
      ],
      "source": [
        "l=[(10, 20, 40), (40, 50, 60), (70, 80, 90)]\n",
        "for i in range(len(l)):\n",
        "  l[i]=list(l[i])\n",
        "  l[i][-1]=100\n",
        "  l[i]=tuple(l[i])\n",
        "\n",
        "l"
      ]
    },
    {
      "cell_type": "markdown",
      "id": "76bb7b39",
      "metadata": {
        "id": "76bb7b39"
      },
      "source": [
        "**54-Write a Python program to convert a given string list to a tuple\n",
        "Original string: python 3.0\n",
        "<class 'str'>\n",
        "Convert the said string to a tuple:\n",
        "('p', 'y', 't', 'h', 'o', 'n', '3', '.', '0')"
      ]
    },
    {
      "cell_type": "code",
      "execution_count": 119,
      "id": "51951937",
      "metadata": {
        "id": "51951937",
        "colab": {
          "base_uri": "https://localhost:8080/"
        },
        "outputId": "2b05b5ef-d9f8-417d-fcc2-a1eae49ea56a"
      },
      "outputs": [
        {
          "output_type": "execute_result",
          "data": {
            "text/plain": [
              "('p', 'y', 't', 'h', 'o', 'n', ' ', '3', '.', '0')"
            ]
          },
          "metadata": {},
          "execution_count": 119
        }
      ],
      "source": [
        "string=\"python 3.0\"\n",
        "l=[]\n",
        "for i in string:\n",
        "  l.append(i)\n",
        "tuple(l)"
      ]
    },
    {
      "cell_type": "markdown",
      "id": "5a1d5d97",
      "metadata": {
        "id": "5a1d5d97"
      },
      "source": [
        "**55-Write a Python program to calculate the average value of the numbers in a given tuple of tuples"
      ]
    },
    {
      "cell_type": "code",
      "execution_count": 120,
      "id": "834e7992",
      "metadata": {
        "id": "834e7992",
        "colab": {
          "base_uri": "https://localhost:8080/"
        },
        "outputId": "0e3fba2e-51ab-426b-b957-ccea781025b0"
      },
      "outputs": [
        {
          "output_type": "execute_result",
          "data": {
            "text/plain": [
              "5.0"
            ]
          },
          "metadata": {},
          "execution_count": 120
        }
      ],
      "source": [
        "t=1,2,3,4,5,6,7,8,9\n",
        "sum=0\n",
        "avg=0\n",
        "length=len(t)\n",
        "for i in t:\n",
        "  sum+=i\n",
        "avg=sum/length\n",
        "avg"
      ]
    },
    {
      "cell_type": "markdown",
      "id": "51edab9c",
      "metadata": {
        "id": "51edab9c"
      },
      "source": [
        "**56-Write a Python program to add member(s) to a set."
      ]
    },
    {
      "cell_type": "code",
      "execution_count": 122,
      "id": "2b65df79",
      "metadata": {
        "id": "2b65df79",
        "colab": {
          "base_uri": "https://localhost:8080/"
        },
        "outputId": "62f00604-f34a-45ce-8207-918e9005a3a5"
      },
      "outputs": [
        {
          "output_type": "execute_result",
          "data": {
            "text/plain": [
              "{1, 2, 3, 4, 100}"
            ]
          },
          "metadata": {},
          "execution_count": 122
        }
      ],
      "source": [
        "s={1,2,3,4}\n",
        "s.add(100)\n",
        "s"
      ]
    },
    {
      "cell_type": "markdown",
      "id": "965590cc",
      "metadata": {
        "id": "965590cc"
      },
      "source": [
        "**57-Write a Python program to remove an item from a set if it is present in the set."
      ]
    },
    {
      "cell_type": "code",
      "execution_count": 127,
      "id": "866bab28",
      "metadata": {
        "id": "866bab28",
        "colab": {
          "base_uri": "https://localhost:8080/"
        },
        "outputId": "3a4b6299-3c5b-468d-f3c3-08e9aaa94c7a"
      },
      "outputs": [
        {
          "output_type": "stream",
          "name": "stdout",
          "text": [
            "not found in set\n"
          ]
        }
      ],
      "source": [
        "x=500\n",
        "s={1,2,3,100}\n",
        "if x in s:\n",
        "  s.remove(x)\n",
        "  print(s)\n",
        "else:\n",
        "  print(\"not found in set\")\n"
      ]
    },
    {
      "cell_type": "markdown",
      "id": "2b7cfed1",
      "metadata": {
        "id": "2b7cfed1"
      },
      "source": [
        "**58-Write a Python program to create an intersection,union,difference and symmetric difference of sets"
      ]
    },
    {
      "cell_type": "code",
      "execution_count": 128,
      "id": "7f94b7fe",
      "metadata": {
        "id": "7f94b7fe",
        "colab": {
          "base_uri": "https://localhost:8080/"
        },
        "outputId": "0e6d74af-119f-4128-e3a4-56304d2f1fa2"
      },
      "outputs": [
        {
          "output_type": "stream",
          "name": "stdout",
          "text": [
            "{1, 2, 3, 4, 5, 6, 10, 20, 30}\n",
            "{1, 2, 3}\n",
            "{4, 5, 6, 10, 20, 30}\n"
          ]
        }
      ],
      "source": [
        "s={1,2,3,4,5,6}\n",
        "s2={10,20,30,1,2,3}\n",
        "union=s.union(s2)\n",
        "intersticon=s.intersection(s2)\n",
        "symm_diff=s.symmetric_difference(s2)\n",
        "print(union)\n",
        "print(intersticon)\n",
        "print(symm_diff)"
      ]
    },
    {
      "cell_type": "markdown",
      "id": "b94931e2",
      "metadata": {
        "id": "b94931e2"
      },
      "source": [
        "**59-Write a Python program to find the maximum and minimum values in a set"
      ]
    },
    {
      "cell_type": "code",
      "execution_count": 130,
      "id": "203f9600",
      "metadata": {
        "id": "203f9600",
        "colab": {
          "base_uri": "https://localhost:8080/"
        },
        "outputId": "41506339-da7c-4906-ce66-cb4437a99b79"
      },
      "outputs": [
        {
          "output_type": "execute_result",
          "data": {
            "text/plain": [
              "4"
            ]
          },
          "metadata": {},
          "execution_count": 130
        }
      ],
      "source": [
        "s={1,2,3,4}\n",
        "min(s)\n",
        "max(s)"
      ]
    },
    {
      "cell_type": "markdown",
      "id": "255fd554",
      "metadata": {
        "id": "255fd554"
      },
      "source": [
        "**60- Write a Python program that finds all pairs of elements in a list whose sum is equal to a given value."
      ]
    },
    {
      "cell_type": "code",
      "execution_count": 138,
      "id": "c2d94e1f",
      "metadata": {
        "id": "c2d94e1f",
        "colab": {
          "base_uri": "https://localhost:8080/"
        },
        "outputId": "c1fefbd0-e6c3-474a-e140-65077d0452f7"
      },
      "outputs": [
        {
          "output_type": "execute_result",
          "data": {
            "text/plain": [
              "[(2, 3), (0, 5), (1, 4)]"
            ]
          },
          "metadata": {},
          "execution_count": 138
        }
      ],
      "source": [
        "l=[1,2,3,0,5,-2,1,4]\n",
        "num=5\n",
        "lf=[]\n",
        "for i in range(len(l)):\n",
        "  j=i+1\n",
        "  for j in range(len(l)):\n",
        "    if l[i]+l[j]==num and j-i==1:\n",
        "      t=l[i],l[j]\n",
        "      if t not in lf:\n",
        "          lf.append(t)\n",
        "\n",
        "\n",
        "lf"
      ]
    }
  ],
  "metadata": {
    "kernelspec": {
      "display_name": "Python 3 (ipykernel)",
      "language": "python",
      "name": "python3"
    },
    "language_info": {
      "codemirror_mode": {
        "name": "ipython",
        "version": 3
      },
      "file_extension": ".py",
      "mimetype": "text/x-python",
      "name": "python",
      "nbconvert_exporter": "python",
      "pygments_lexer": "ipython3",
      "version": "3.9.7"
    },
    "colab": {
      "provenance": [],
      "include_colab_link": true
    }
  },
  "nbformat": 4,
  "nbformat_minor": 5
}