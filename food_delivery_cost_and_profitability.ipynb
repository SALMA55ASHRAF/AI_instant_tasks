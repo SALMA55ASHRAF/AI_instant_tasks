{
  "nbformat": 4,
  "nbformat_minor": 0,
  "metadata": {
    "colab": {
      "provenance": []
    },
    "kernelspec": {
      "name": "python3",
      "display_name": "Python 3"
    },
    "language_info": {
      "name": "python"
    }
  },
  "cells": [
    {
      "cell_type": "code",
      "execution_count": 1,
      "metadata": {
        "id": "4pil2xM133k4"
      },
      "outputs": [],
      "source": [
        "import pandas as pd\n",
        "import numpy as np"
      ]
    },
    {
      "cell_type": "code",
      "source": [
        "df=pd.read_csv(\"/content/food_orders_new_delhi.csv\")\n",
        "df.head()"
      ],
      "metadata": {
        "colab": {
          "base_uri": "https://localhost:8080/",
          "height": 414
        },
        "id": "aoy-eGNr4My2",
        "outputId": "23e954eb-2c46-497b-8ee5-948c54a7cf1a"
      },
      "execution_count": 2,
      "outputs": [
        {
          "output_type": "execute_result",
          "data": {
            "text/plain": [
              "   Order ID Customer ID Restaurant ID  Order Date and Time  \\\n",
              "0         1       C8270         R2924  2024-02-01 01:11:52   \n",
              "1         2       C1860         R2054  2024-02-02 22:11:04   \n",
              "2         3       C6390         R2870  2024-01-31 05:54:35   \n",
              "3         4       C6191         R2642  2024-01-16 22:52:49   \n",
              "4         5       C6734         R2799  2024-01-29 01:19:30   \n",
              "\n",
              "  Delivery Date and Time  Order Value  Delivery Fee    Payment Method  \\\n",
              "0    2024-02-01 02:39:52         1914             0       Credit Card   \n",
              "1    2024-02-02 22:46:04          986            40    Digital Wallet   \n",
              "2    2024-01-31 06:52:35          937            30  Cash on Delivery   \n",
              "3    2024-01-16 23:38:49         1463            50  Cash on Delivery   \n",
              "4    2024-01-29 02:48:30         1992            30  Cash on Delivery   \n",
              "\n",
              "  Discounts and Offers  Commission Fee  Payment Processing Fee  \\\n",
              "0            5% on App             150                      47   \n",
              "1                  10%             198                      23   \n",
              "2         15% New User             195                      45   \n",
              "3                  NaN             146                      27   \n",
              "4         50 off Promo             130                      50   \n",
              "\n",
              "   Refunds/Chargebacks  \n",
              "0                    0  \n",
              "1                    0  \n",
              "2                    0  \n",
              "3                    0  \n",
              "4                    0  "
            ],
            "text/html": [
              "\n",
              "  <div id=\"df-736544cf-305d-45e3-b35f-79c2e29f025a\" class=\"colab-df-container\">\n",
              "    <div>\n",
              "<style scoped>\n",
              "    .dataframe tbody tr th:only-of-type {\n",
              "        vertical-align: middle;\n",
              "    }\n",
              "\n",
              "    .dataframe tbody tr th {\n",
              "        vertical-align: top;\n",
              "    }\n",
              "\n",
              "    .dataframe thead th {\n",
              "        text-align: right;\n",
              "    }\n",
              "</style>\n",
              "<table border=\"1\" class=\"dataframe\">\n",
              "  <thead>\n",
              "    <tr style=\"text-align: right;\">\n",
              "      <th></th>\n",
              "      <th>Order ID</th>\n",
              "      <th>Customer ID</th>\n",
              "      <th>Restaurant ID</th>\n",
              "      <th>Order Date and Time</th>\n",
              "      <th>Delivery Date and Time</th>\n",
              "      <th>Order Value</th>\n",
              "      <th>Delivery Fee</th>\n",
              "      <th>Payment Method</th>\n",
              "      <th>Discounts and Offers</th>\n",
              "      <th>Commission Fee</th>\n",
              "      <th>Payment Processing Fee</th>\n",
              "      <th>Refunds/Chargebacks</th>\n",
              "    </tr>\n",
              "  </thead>\n",
              "  <tbody>\n",
              "    <tr>\n",
              "      <th>0</th>\n",
              "      <td>1</td>\n",
              "      <td>C8270</td>\n",
              "      <td>R2924</td>\n",
              "      <td>2024-02-01 01:11:52</td>\n",
              "      <td>2024-02-01 02:39:52</td>\n",
              "      <td>1914</td>\n",
              "      <td>0</td>\n",
              "      <td>Credit Card</td>\n",
              "      <td>5% on App</td>\n",
              "      <td>150</td>\n",
              "      <td>47</td>\n",
              "      <td>0</td>\n",
              "    </tr>\n",
              "    <tr>\n",
              "      <th>1</th>\n",
              "      <td>2</td>\n",
              "      <td>C1860</td>\n",
              "      <td>R2054</td>\n",
              "      <td>2024-02-02 22:11:04</td>\n",
              "      <td>2024-02-02 22:46:04</td>\n",
              "      <td>986</td>\n",
              "      <td>40</td>\n",
              "      <td>Digital Wallet</td>\n",
              "      <td>10%</td>\n",
              "      <td>198</td>\n",
              "      <td>23</td>\n",
              "      <td>0</td>\n",
              "    </tr>\n",
              "    <tr>\n",
              "      <th>2</th>\n",
              "      <td>3</td>\n",
              "      <td>C6390</td>\n",
              "      <td>R2870</td>\n",
              "      <td>2024-01-31 05:54:35</td>\n",
              "      <td>2024-01-31 06:52:35</td>\n",
              "      <td>937</td>\n",
              "      <td>30</td>\n",
              "      <td>Cash on Delivery</td>\n",
              "      <td>15% New User</td>\n",
              "      <td>195</td>\n",
              "      <td>45</td>\n",
              "      <td>0</td>\n",
              "    </tr>\n",
              "    <tr>\n",
              "      <th>3</th>\n",
              "      <td>4</td>\n",
              "      <td>C6191</td>\n",
              "      <td>R2642</td>\n",
              "      <td>2024-01-16 22:52:49</td>\n",
              "      <td>2024-01-16 23:38:49</td>\n",
              "      <td>1463</td>\n",
              "      <td>50</td>\n",
              "      <td>Cash on Delivery</td>\n",
              "      <td>NaN</td>\n",
              "      <td>146</td>\n",
              "      <td>27</td>\n",
              "      <td>0</td>\n",
              "    </tr>\n",
              "    <tr>\n",
              "      <th>4</th>\n",
              "      <td>5</td>\n",
              "      <td>C6734</td>\n",
              "      <td>R2799</td>\n",
              "      <td>2024-01-29 01:19:30</td>\n",
              "      <td>2024-01-29 02:48:30</td>\n",
              "      <td>1992</td>\n",
              "      <td>30</td>\n",
              "      <td>Cash on Delivery</td>\n",
              "      <td>50 off Promo</td>\n",
              "      <td>130</td>\n",
              "      <td>50</td>\n",
              "      <td>0</td>\n",
              "    </tr>\n",
              "  </tbody>\n",
              "</table>\n",
              "</div>\n",
              "    <div class=\"colab-df-buttons\">\n",
              "\n",
              "  <div class=\"colab-df-container\">\n",
              "    <button class=\"colab-df-convert\" onclick=\"convertToInteractive('df-736544cf-305d-45e3-b35f-79c2e29f025a')\"\n",
              "            title=\"Convert this dataframe to an interactive table.\"\n",
              "            style=\"display:none;\">\n",
              "\n",
              "  <svg xmlns=\"http://www.w3.org/2000/svg\" height=\"24px\" viewBox=\"0 -960 960 960\">\n",
              "    <path d=\"M120-120v-720h720v720H120Zm60-500h600v-160H180v160Zm220 220h160v-160H400v160Zm0 220h160v-160H400v160ZM180-400h160v-160H180v160Zm440 0h160v-160H620v160ZM180-180h160v-160H180v160Zm440 0h160v-160H620v160Z\"/>\n",
              "  </svg>\n",
              "    </button>\n",
              "\n",
              "  <style>\n",
              "    .colab-df-container {\n",
              "      display:flex;\n",
              "      gap: 12px;\n",
              "    }\n",
              "\n",
              "    .colab-df-convert {\n",
              "      background-color: #E8F0FE;\n",
              "      border: none;\n",
              "      border-radius: 50%;\n",
              "      cursor: pointer;\n",
              "      display: none;\n",
              "      fill: #1967D2;\n",
              "      height: 32px;\n",
              "      padding: 0 0 0 0;\n",
              "      width: 32px;\n",
              "    }\n",
              "\n",
              "    .colab-df-convert:hover {\n",
              "      background-color: #E2EBFA;\n",
              "      box-shadow: 0px 1px 2px rgba(60, 64, 67, 0.3), 0px 1px 3px 1px rgba(60, 64, 67, 0.15);\n",
              "      fill: #174EA6;\n",
              "    }\n",
              "\n",
              "    .colab-df-buttons div {\n",
              "      margin-bottom: 4px;\n",
              "    }\n",
              "\n",
              "    [theme=dark] .colab-df-convert {\n",
              "      background-color: #3B4455;\n",
              "      fill: #D2E3FC;\n",
              "    }\n",
              "\n",
              "    [theme=dark] .colab-df-convert:hover {\n",
              "      background-color: #434B5C;\n",
              "      box-shadow: 0px 1px 3px 1px rgba(0, 0, 0, 0.15);\n",
              "      filter: drop-shadow(0px 1px 2px rgba(0, 0, 0, 0.3));\n",
              "      fill: #FFFFFF;\n",
              "    }\n",
              "  </style>\n",
              "\n",
              "    <script>\n",
              "      const buttonEl =\n",
              "        document.querySelector('#df-736544cf-305d-45e3-b35f-79c2e29f025a button.colab-df-convert');\n",
              "      buttonEl.style.display =\n",
              "        google.colab.kernel.accessAllowed ? 'block' : 'none';\n",
              "\n",
              "      async function convertToInteractive(key) {\n",
              "        const element = document.querySelector('#df-736544cf-305d-45e3-b35f-79c2e29f025a');\n",
              "        const dataTable =\n",
              "          await google.colab.kernel.invokeFunction('convertToInteractive',\n",
              "                                                    [key], {});\n",
              "        if (!dataTable) return;\n",
              "\n",
              "        const docLinkHtml = 'Like what you see? Visit the ' +\n",
              "          '<a target=\"_blank\" href=https://colab.research.google.com/notebooks/data_table.ipynb>data table notebook</a>'\n",
              "          + ' to learn more about interactive tables.';\n",
              "        element.innerHTML = '';\n",
              "        dataTable['output_type'] = 'display_data';\n",
              "        await google.colab.output.renderOutput(dataTable, element);\n",
              "        const docLink = document.createElement('div');\n",
              "        docLink.innerHTML = docLinkHtml;\n",
              "        element.appendChild(docLink);\n",
              "      }\n",
              "    </script>\n",
              "  </div>\n",
              "\n",
              "\n",
              "<div id=\"df-c128f508-2458-4b9e-a5ae-4f8c265ad021\">\n",
              "  <button class=\"colab-df-quickchart\" onclick=\"quickchart('df-c128f508-2458-4b9e-a5ae-4f8c265ad021')\"\n",
              "            title=\"Suggest charts\"\n",
              "            style=\"display:none;\">\n",
              "\n",
              "<svg xmlns=\"http://www.w3.org/2000/svg\" height=\"24px\"viewBox=\"0 0 24 24\"\n",
              "     width=\"24px\">\n",
              "    <g>\n",
              "        <path d=\"M19 3H5c-1.1 0-2 .9-2 2v14c0 1.1.9 2 2 2h14c1.1 0 2-.9 2-2V5c0-1.1-.9-2-2-2zM9 17H7v-7h2v7zm4 0h-2V7h2v10zm4 0h-2v-4h2v4z\"/>\n",
              "    </g>\n",
              "</svg>\n",
              "  </button>\n",
              "\n",
              "<style>\n",
              "  .colab-df-quickchart {\n",
              "      --bg-color: #E8F0FE;\n",
              "      --fill-color: #1967D2;\n",
              "      --hover-bg-color: #E2EBFA;\n",
              "      --hover-fill-color: #174EA6;\n",
              "      --disabled-fill-color: #AAA;\n",
              "      --disabled-bg-color: #DDD;\n",
              "  }\n",
              "\n",
              "  [theme=dark] .colab-df-quickchart {\n",
              "      --bg-color: #3B4455;\n",
              "      --fill-color: #D2E3FC;\n",
              "      --hover-bg-color: #434B5C;\n",
              "      --hover-fill-color: #FFFFFF;\n",
              "      --disabled-bg-color: #3B4455;\n",
              "      --disabled-fill-color: #666;\n",
              "  }\n",
              "\n",
              "  .colab-df-quickchart {\n",
              "    background-color: var(--bg-color);\n",
              "    border: none;\n",
              "    border-radius: 50%;\n",
              "    cursor: pointer;\n",
              "    display: none;\n",
              "    fill: var(--fill-color);\n",
              "    height: 32px;\n",
              "    padding: 0;\n",
              "    width: 32px;\n",
              "  }\n",
              "\n",
              "  .colab-df-quickchart:hover {\n",
              "    background-color: var(--hover-bg-color);\n",
              "    box-shadow: 0 1px 2px rgba(60, 64, 67, 0.3), 0 1px 3px 1px rgba(60, 64, 67, 0.15);\n",
              "    fill: var(--button-hover-fill-color);\n",
              "  }\n",
              "\n",
              "  .colab-df-quickchart-complete:disabled,\n",
              "  .colab-df-quickchart-complete:disabled:hover {\n",
              "    background-color: var(--disabled-bg-color);\n",
              "    fill: var(--disabled-fill-color);\n",
              "    box-shadow: none;\n",
              "  }\n",
              "\n",
              "  .colab-df-spinner {\n",
              "    border: 2px solid var(--fill-color);\n",
              "    border-color: transparent;\n",
              "    border-bottom-color: var(--fill-color);\n",
              "    animation:\n",
              "      spin 1s steps(1) infinite;\n",
              "  }\n",
              "\n",
              "  @keyframes spin {\n",
              "    0% {\n",
              "      border-color: transparent;\n",
              "      border-bottom-color: var(--fill-color);\n",
              "      border-left-color: var(--fill-color);\n",
              "    }\n",
              "    20% {\n",
              "      border-color: transparent;\n",
              "      border-left-color: var(--fill-color);\n",
              "      border-top-color: var(--fill-color);\n",
              "    }\n",
              "    30% {\n",
              "      border-color: transparent;\n",
              "      border-left-color: var(--fill-color);\n",
              "      border-top-color: var(--fill-color);\n",
              "      border-right-color: var(--fill-color);\n",
              "    }\n",
              "    40% {\n",
              "      border-color: transparent;\n",
              "      border-right-color: var(--fill-color);\n",
              "      border-top-color: var(--fill-color);\n",
              "    }\n",
              "    60% {\n",
              "      border-color: transparent;\n",
              "      border-right-color: var(--fill-color);\n",
              "    }\n",
              "    80% {\n",
              "      border-color: transparent;\n",
              "      border-right-color: var(--fill-color);\n",
              "      border-bottom-color: var(--fill-color);\n",
              "    }\n",
              "    90% {\n",
              "      border-color: transparent;\n",
              "      border-bottom-color: var(--fill-color);\n",
              "    }\n",
              "  }\n",
              "</style>\n",
              "\n",
              "  <script>\n",
              "    async function quickchart(key) {\n",
              "      const quickchartButtonEl =\n",
              "        document.querySelector('#' + key + ' button');\n",
              "      quickchartButtonEl.disabled = true;  // To prevent multiple clicks.\n",
              "      quickchartButtonEl.classList.add('colab-df-spinner');\n",
              "      try {\n",
              "        const charts = await google.colab.kernel.invokeFunction(\n",
              "            'suggestCharts', [key], {});\n",
              "      } catch (error) {\n",
              "        console.error('Error during call to suggestCharts:', error);\n",
              "      }\n",
              "      quickchartButtonEl.classList.remove('colab-df-spinner');\n",
              "      quickchartButtonEl.classList.add('colab-df-quickchart-complete');\n",
              "    }\n",
              "    (() => {\n",
              "      let quickchartButtonEl =\n",
              "        document.querySelector('#df-c128f508-2458-4b9e-a5ae-4f8c265ad021 button');\n",
              "      quickchartButtonEl.style.display =\n",
              "        google.colab.kernel.accessAllowed ? 'block' : 'none';\n",
              "    })();\n",
              "  </script>\n",
              "</div>\n",
              "\n",
              "    </div>\n",
              "  </div>\n"
            ],
            "application/vnd.google.colaboratory.intrinsic+json": {
              "type": "dataframe",
              "variable_name": "df",
              "summary": "{\n  \"name\": \"df\",\n  \"rows\": 1000,\n  \"fields\": [\n    {\n      \"column\": \"Order ID\",\n      \"properties\": {\n        \"dtype\": \"number\",\n        \"std\": 288,\n        \"min\": 1,\n        \"max\": 1000,\n        \"num_unique_values\": 1000,\n        \"samples\": [\n          522,\n          738,\n          741\n        ],\n        \"semantic_type\": \"\",\n        \"description\": \"\"\n      }\n    },\n    {\n      \"column\": \"Customer ID\",\n      \"properties\": {\n        \"dtype\": \"string\",\n        \"num_unique_values\": 947,\n        \"samples\": [\n          \"C2633\",\n          \"C9914\",\n          \"C2306\"\n        ],\n        \"semantic_type\": \"\",\n        \"description\": \"\"\n      }\n    },\n    {\n      \"column\": \"Restaurant ID\",\n      \"properties\": {\n        \"dtype\": \"string\",\n        \"num_unique_values\": 621,\n        \"samples\": [\n          \"R2181\",\n          \"R2351\",\n          \"R2531\"\n        ],\n        \"semantic_type\": \"\",\n        \"description\": \"\"\n      }\n    },\n    {\n      \"column\": \"Order Date and Time\",\n      \"properties\": {\n        \"dtype\": \"object\",\n        \"num_unique_values\": 1000,\n        \"samples\": [\n          \"2024-01-25 06:23:14\",\n          \"2024-01-21 06:19:00\",\n          \"2024-01-11 05:57:01\"\n        ],\n        \"semantic_type\": \"\",\n        \"description\": \"\"\n      }\n    },\n    {\n      \"column\": \"Delivery Date and Time\",\n      \"properties\": {\n        \"dtype\": \"object\",\n        \"num_unique_values\": 1000,\n        \"samples\": [\n          \"2024-01-25 07:20:14\",\n          \"2024-01-21 07:59:00\",\n          \"2024-01-11 06:52:01\"\n        ],\n        \"semantic_type\": \"\",\n        \"description\": \"\"\n      }\n    },\n    {\n      \"column\": \"Order Value\",\n      \"properties\": {\n        \"dtype\": \"number\",\n        \"std\": 530,\n        \"min\": 104,\n        \"max\": 1995,\n        \"num_unique_values\": 769,\n        \"samples\": [\n          1945,\n          1648,\n          1572\n        ],\n        \"semantic_type\": \"\",\n        \"description\": \"\"\n      }\n    },\n    {\n      \"column\": \"Delivery Fee\",\n      \"properties\": {\n        \"dtype\": \"number\",\n        \"std\": 16,\n        \"min\": 0,\n        \"max\": 50,\n        \"num_unique_values\": 5,\n        \"samples\": [\n          40,\n          20,\n          30\n        ],\n        \"semantic_type\": \"\",\n        \"description\": \"\"\n      }\n    },\n    {\n      \"column\": \"Payment Method\",\n      \"properties\": {\n        \"dtype\": \"category\",\n        \"num_unique_values\": 3,\n        \"samples\": [\n          \"Credit Card\",\n          \"Digital Wallet\",\n          \"Cash on Delivery\"\n        ],\n        \"semantic_type\": \"\",\n        \"description\": \"\"\n      }\n    },\n    {\n      \"column\": \"Discounts and Offers\",\n      \"properties\": {\n        \"dtype\": \"category\",\n        \"num_unique_values\": 4,\n        \"samples\": [\n          \"10%\",\n          \"50 off Promo\",\n          \"5% on App\"\n        ],\n        \"semantic_type\": \"\",\n        \"description\": \"\"\n      }\n    },\n    {\n      \"column\": \"Commission Fee\",\n      \"properties\": {\n        \"dtype\": \"number\",\n        \"std\": 43,\n        \"min\": 50,\n        \"max\": 200,\n        \"num_unique_values\": 151,\n        \"samples\": [\n          123,\n          119,\n          103\n        ],\n        \"semantic_type\": \"\",\n        \"description\": \"\"\n      }\n    },\n    {\n      \"column\": \"Payment Processing Fee\",\n      \"properties\": {\n        \"dtype\": \"number\",\n        \"std\": 11,\n        \"min\": 10,\n        \"max\": 50,\n        \"num_unique_values\": 41,\n        \"samples\": [\n          32,\n          28,\n          10\n        ],\n        \"semantic_type\": \"\",\n        \"description\": \"\"\n      }\n    },\n    {\n      \"column\": \"Refunds/Chargebacks\",\n      \"properties\": {\n        \"dtype\": \"number\",\n        \"std\": 49,\n        \"min\": 0,\n        \"max\": 150,\n        \"num_unique_values\": 4,\n        \"samples\": [\n          150,\n          100,\n          0\n        ],\n        \"semantic_type\": \"\",\n        \"description\": \"\"\n      }\n    }\n  ]\n}"
            }
          },
          "metadata": {},
          "execution_count": 2
        }
      ]
    },
    {
      "cell_type": "code",
      "source": [
        "df.info()"
      ],
      "metadata": {
        "colab": {
          "base_uri": "https://localhost:8080/"
        },
        "id": "okwTPfR94YaI",
        "outputId": "49c61cc2-8165-4f1c-bc3e-8385d8997212"
      },
      "execution_count": 3,
      "outputs": [
        {
          "output_type": "stream",
          "name": "stdout",
          "text": [
            "<class 'pandas.core.frame.DataFrame'>\n",
            "RangeIndex: 1000 entries, 0 to 999\n",
            "Data columns (total 12 columns):\n",
            " #   Column                  Non-Null Count  Dtype \n",
            "---  ------                  --------------  ----- \n",
            " 0   Order ID                1000 non-null   int64 \n",
            " 1   Customer ID             1000 non-null   object\n",
            " 2   Restaurant ID           1000 non-null   object\n",
            " 3   Order Date and Time     1000 non-null   object\n",
            " 4   Delivery Date and Time  1000 non-null   object\n",
            " 5   Order Value             1000 non-null   int64 \n",
            " 6   Delivery Fee            1000 non-null   int64 \n",
            " 7   Payment Method          1000 non-null   object\n",
            " 8   Discounts and Offers    815 non-null    object\n",
            " 9   Commission Fee          1000 non-null   int64 \n",
            " 10  Payment Processing Fee  1000 non-null   int64 \n",
            " 11  Refunds/Chargebacks     1000 non-null   int64 \n",
            "dtypes: int64(6), object(6)\n",
            "memory usage: 93.9+ KB\n"
          ]
        }
      ]
    },
    {
      "cell_type": "code",
      "source": [
        "from datetime import datetime"
      ],
      "metadata": {
        "id": "tOyRN68C4Yhk"
      },
      "execution_count": 4,
      "outputs": []
    },
    {
      "cell_type": "code",
      "source": [
        "df['Order Date and Time']=pd.to_datetime(df['Order Date and Time'])\n",
        "df[\"Delivery Date and Time\"]=pd.to_datetime(df[\"Delivery Date and Time\"])"
      ],
      "metadata": {
        "id": "TFKcaKVv4Yix"
      },
      "execution_count": 5,
      "outputs": []
    },
    {
      "cell_type": "code",
      "source": [
        "df.info()"
      ],
      "metadata": {
        "colab": {
          "base_uri": "https://localhost:8080/"
        },
        "id": "fj1MrKVBEBdI",
        "outputId": "d0e01a31-1198-4bf4-f1a0-764ef05ed38f"
      },
      "execution_count": 6,
      "outputs": [
        {
          "output_type": "stream",
          "name": "stdout",
          "text": [
            "<class 'pandas.core.frame.DataFrame'>\n",
            "RangeIndex: 1000 entries, 0 to 999\n",
            "Data columns (total 12 columns):\n",
            " #   Column                  Non-Null Count  Dtype         \n",
            "---  ------                  --------------  -----         \n",
            " 0   Order ID                1000 non-null   int64         \n",
            " 1   Customer ID             1000 non-null   object        \n",
            " 2   Restaurant ID           1000 non-null   object        \n",
            " 3   Order Date and Time     1000 non-null   datetime64[ns]\n",
            " 4   Delivery Date and Time  1000 non-null   datetime64[ns]\n",
            " 5   Order Value             1000 non-null   int64         \n",
            " 6   Delivery Fee            1000 non-null   int64         \n",
            " 7   Payment Method          1000 non-null   object        \n",
            " 8   Discounts and Offers    815 non-null    object        \n",
            " 9   Commission Fee          1000 non-null   int64         \n",
            " 10  Payment Processing Fee  1000 non-null   int64         \n",
            " 11  Refunds/Chargebacks     1000 non-null   int64         \n",
            "dtypes: datetime64[ns](2), int64(6), object(4)\n",
            "memory usage: 93.9+ KB\n"
          ]
        }
      ]
    },
    {
      "cell_type": "code",
      "source": [
        "df['Discounts and Offers']=df['Discounts and Offers'].str.split(\" \",expand=True)[0].str.split(\"%\",expand=True)[0]\n",
        "df['Discounts and Offers'].fillna(0,inplace=True)"
      ],
      "metadata": {
        "id": "AgBi9lxQ4Y0U"
      },
      "execution_count": 7,
      "outputs": []
    },
    {
      "cell_type": "code",
      "source": [
        "df['discount percentage']=df['Discounts and Offers'].astype(float)\n",
        "df.drop(columns=['Discounts and Offers'],inplace=True)"
      ],
      "metadata": {
        "id": "Dk-Vc0YlHsGj"
      },
      "execution_count": 8,
      "outputs": []
    },
    {
      "cell_type": "code",
      "source": [
        "df['dicount amount']=(df['Order Value']*df['discount percentage'])/100"
      ],
      "metadata": {
        "id": "SuvV8DafILUF"
      },
      "execution_count": 9,
      "outputs": []
    },
    {
      "cell_type": "code",
      "source": [
        "df['total cost']=df['Delivery Fee']+df['Payment Processing Fee']+df['dicount amount']\n",
        "df['revenue']=df['Commission Fee']\n",
        "df['profit']=df['revenue']-df['total cost']"
      ],
      "metadata": {
        "id": "ga63Ju2G9pi7"
      },
      "execution_count": 10,
      "outputs": []
    },
    {
      "cell_type": "code",
      "source": [
        "df.head()"
      ],
      "metadata": {
        "colab": {
          "base_uri": "https://localhost:8080/",
          "height": 451
        },
        "id": "_MzGPc2o9pkM",
        "outputId": "6f99a413-0110-4f60-aa1a-761aea3b4498"
      },
      "execution_count": 11,
      "outputs": [
        {
          "output_type": "execute_result",
          "data": {
            "text/plain": [
              "   Order ID Customer ID Restaurant ID Order Date and Time  \\\n",
              "0         1       C8270         R2924 2024-02-01 01:11:52   \n",
              "1         2       C1860         R2054 2024-02-02 22:11:04   \n",
              "2         3       C6390         R2870 2024-01-31 05:54:35   \n",
              "3         4       C6191         R2642 2024-01-16 22:52:49   \n",
              "4         5       C6734         R2799 2024-01-29 01:19:30   \n",
              "\n",
              "  Delivery Date and Time  Order Value  Delivery Fee    Payment Method  \\\n",
              "0    2024-02-01 02:39:52         1914             0       Credit Card   \n",
              "1    2024-02-02 22:46:04          986            40    Digital Wallet   \n",
              "2    2024-01-31 06:52:35          937            30  Cash on Delivery   \n",
              "3    2024-01-16 23:38:49         1463            50  Cash on Delivery   \n",
              "4    2024-01-29 02:48:30         1992            30  Cash on Delivery   \n",
              "\n",
              "   Commission Fee  Payment Processing Fee  Refunds/Chargebacks  \\\n",
              "0             150                      47                    0   \n",
              "1             198                      23                    0   \n",
              "2             195                      45                    0   \n",
              "3             146                      27                    0   \n",
              "4             130                      50                    0   \n",
              "\n",
              "   discount percentage  dicount amount  total cost  revenue  profit  \n",
              "0                  5.0           95.70      142.70      150    7.30  \n",
              "1                 10.0           98.60      161.60      198   36.40  \n",
              "2                 15.0          140.55      215.55      195  -20.55  \n",
              "3                  0.0            0.00       77.00      146   69.00  \n",
              "4                 50.0          996.00     1076.00      130 -946.00  "
            ],
            "text/html": [
              "\n",
              "  <div id=\"df-74bad898-2a77-4c42-8daf-6fce51074efa\" class=\"colab-df-container\">\n",
              "    <div>\n",
              "<style scoped>\n",
              "    .dataframe tbody tr th:only-of-type {\n",
              "        vertical-align: middle;\n",
              "    }\n",
              "\n",
              "    .dataframe tbody tr th {\n",
              "        vertical-align: top;\n",
              "    }\n",
              "\n",
              "    .dataframe thead th {\n",
              "        text-align: right;\n",
              "    }\n",
              "</style>\n",
              "<table border=\"1\" class=\"dataframe\">\n",
              "  <thead>\n",
              "    <tr style=\"text-align: right;\">\n",
              "      <th></th>\n",
              "      <th>Order ID</th>\n",
              "      <th>Customer ID</th>\n",
              "      <th>Restaurant ID</th>\n",
              "      <th>Order Date and Time</th>\n",
              "      <th>Delivery Date and Time</th>\n",
              "      <th>Order Value</th>\n",
              "      <th>Delivery Fee</th>\n",
              "      <th>Payment Method</th>\n",
              "      <th>Commission Fee</th>\n",
              "      <th>Payment Processing Fee</th>\n",
              "      <th>Refunds/Chargebacks</th>\n",
              "      <th>discount percentage</th>\n",
              "      <th>dicount amount</th>\n",
              "      <th>total cost</th>\n",
              "      <th>revenue</th>\n",
              "      <th>profit</th>\n",
              "    </tr>\n",
              "  </thead>\n",
              "  <tbody>\n",
              "    <tr>\n",
              "      <th>0</th>\n",
              "      <td>1</td>\n",
              "      <td>C8270</td>\n",
              "      <td>R2924</td>\n",
              "      <td>2024-02-01 01:11:52</td>\n",
              "      <td>2024-02-01 02:39:52</td>\n",
              "      <td>1914</td>\n",
              "      <td>0</td>\n",
              "      <td>Credit Card</td>\n",
              "      <td>150</td>\n",
              "      <td>47</td>\n",
              "      <td>0</td>\n",
              "      <td>5.0</td>\n",
              "      <td>95.70</td>\n",
              "      <td>142.70</td>\n",
              "      <td>150</td>\n",
              "      <td>7.30</td>\n",
              "    </tr>\n",
              "    <tr>\n",
              "      <th>1</th>\n",
              "      <td>2</td>\n",
              "      <td>C1860</td>\n",
              "      <td>R2054</td>\n",
              "      <td>2024-02-02 22:11:04</td>\n",
              "      <td>2024-02-02 22:46:04</td>\n",
              "      <td>986</td>\n",
              "      <td>40</td>\n",
              "      <td>Digital Wallet</td>\n",
              "      <td>198</td>\n",
              "      <td>23</td>\n",
              "      <td>0</td>\n",
              "      <td>10.0</td>\n",
              "      <td>98.60</td>\n",
              "      <td>161.60</td>\n",
              "      <td>198</td>\n",
              "      <td>36.40</td>\n",
              "    </tr>\n",
              "    <tr>\n",
              "      <th>2</th>\n",
              "      <td>3</td>\n",
              "      <td>C6390</td>\n",
              "      <td>R2870</td>\n",
              "      <td>2024-01-31 05:54:35</td>\n",
              "      <td>2024-01-31 06:52:35</td>\n",
              "      <td>937</td>\n",
              "      <td>30</td>\n",
              "      <td>Cash on Delivery</td>\n",
              "      <td>195</td>\n",
              "      <td>45</td>\n",
              "      <td>0</td>\n",
              "      <td>15.0</td>\n",
              "      <td>140.55</td>\n",
              "      <td>215.55</td>\n",
              "      <td>195</td>\n",
              "      <td>-20.55</td>\n",
              "    </tr>\n",
              "    <tr>\n",
              "      <th>3</th>\n",
              "      <td>4</td>\n",
              "      <td>C6191</td>\n",
              "      <td>R2642</td>\n",
              "      <td>2024-01-16 22:52:49</td>\n",
              "      <td>2024-01-16 23:38:49</td>\n",
              "      <td>1463</td>\n",
              "      <td>50</td>\n",
              "      <td>Cash on Delivery</td>\n",
              "      <td>146</td>\n",
              "      <td>27</td>\n",
              "      <td>0</td>\n",
              "      <td>0.0</td>\n",
              "      <td>0.00</td>\n",
              "      <td>77.00</td>\n",
              "      <td>146</td>\n",
              "      <td>69.00</td>\n",
              "    </tr>\n",
              "    <tr>\n",
              "      <th>4</th>\n",
              "      <td>5</td>\n",
              "      <td>C6734</td>\n",
              "      <td>R2799</td>\n",
              "      <td>2024-01-29 01:19:30</td>\n",
              "      <td>2024-01-29 02:48:30</td>\n",
              "      <td>1992</td>\n",
              "      <td>30</td>\n",
              "      <td>Cash on Delivery</td>\n",
              "      <td>130</td>\n",
              "      <td>50</td>\n",
              "      <td>0</td>\n",
              "      <td>50.0</td>\n",
              "      <td>996.00</td>\n",
              "      <td>1076.00</td>\n",
              "      <td>130</td>\n",
              "      <td>-946.00</td>\n",
              "    </tr>\n",
              "  </tbody>\n",
              "</table>\n",
              "</div>\n",
              "    <div class=\"colab-df-buttons\">\n",
              "\n",
              "  <div class=\"colab-df-container\">\n",
              "    <button class=\"colab-df-convert\" onclick=\"convertToInteractive('df-74bad898-2a77-4c42-8daf-6fce51074efa')\"\n",
              "            title=\"Convert this dataframe to an interactive table.\"\n",
              "            style=\"display:none;\">\n",
              "\n",
              "  <svg xmlns=\"http://www.w3.org/2000/svg\" height=\"24px\" viewBox=\"0 -960 960 960\">\n",
              "    <path d=\"M120-120v-720h720v720H120Zm60-500h600v-160H180v160Zm220 220h160v-160H400v160Zm0 220h160v-160H400v160ZM180-400h160v-160H180v160Zm440 0h160v-160H620v160ZM180-180h160v-160H180v160Zm440 0h160v-160H620v160Z\"/>\n",
              "  </svg>\n",
              "    </button>\n",
              "\n",
              "  <style>\n",
              "    .colab-df-container {\n",
              "      display:flex;\n",
              "      gap: 12px;\n",
              "    }\n",
              "\n",
              "    .colab-df-convert {\n",
              "      background-color: #E8F0FE;\n",
              "      border: none;\n",
              "      border-radius: 50%;\n",
              "      cursor: pointer;\n",
              "      display: none;\n",
              "      fill: #1967D2;\n",
              "      height: 32px;\n",
              "      padding: 0 0 0 0;\n",
              "      width: 32px;\n",
              "    }\n",
              "\n",
              "    .colab-df-convert:hover {\n",
              "      background-color: #E2EBFA;\n",
              "      box-shadow: 0px 1px 2px rgba(60, 64, 67, 0.3), 0px 1px 3px 1px rgba(60, 64, 67, 0.15);\n",
              "      fill: #174EA6;\n",
              "    }\n",
              "\n",
              "    .colab-df-buttons div {\n",
              "      margin-bottom: 4px;\n",
              "    }\n",
              "\n",
              "    [theme=dark] .colab-df-convert {\n",
              "      background-color: #3B4455;\n",
              "      fill: #D2E3FC;\n",
              "    }\n",
              "\n",
              "    [theme=dark] .colab-df-convert:hover {\n",
              "      background-color: #434B5C;\n",
              "      box-shadow: 0px 1px 3px 1px rgba(0, 0, 0, 0.15);\n",
              "      filter: drop-shadow(0px 1px 2px rgba(0, 0, 0, 0.3));\n",
              "      fill: #FFFFFF;\n",
              "    }\n",
              "  </style>\n",
              "\n",
              "    <script>\n",
              "      const buttonEl =\n",
              "        document.querySelector('#df-74bad898-2a77-4c42-8daf-6fce51074efa button.colab-df-convert');\n",
              "      buttonEl.style.display =\n",
              "        google.colab.kernel.accessAllowed ? 'block' : 'none';\n",
              "\n",
              "      async function convertToInteractive(key) {\n",
              "        const element = document.querySelector('#df-74bad898-2a77-4c42-8daf-6fce51074efa');\n",
              "        const dataTable =\n",
              "          await google.colab.kernel.invokeFunction('convertToInteractive',\n",
              "                                                    [key], {});\n",
              "        if (!dataTable) return;\n",
              "\n",
              "        const docLinkHtml = 'Like what you see? Visit the ' +\n",
              "          '<a target=\"_blank\" href=https://colab.research.google.com/notebooks/data_table.ipynb>data table notebook</a>'\n",
              "          + ' to learn more about interactive tables.';\n",
              "        element.innerHTML = '';\n",
              "        dataTable['output_type'] = 'display_data';\n",
              "        await google.colab.output.renderOutput(dataTable, element);\n",
              "        const docLink = document.createElement('div');\n",
              "        docLink.innerHTML = docLinkHtml;\n",
              "        element.appendChild(docLink);\n",
              "      }\n",
              "    </script>\n",
              "  </div>\n",
              "\n",
              "\n",
              "<div id=\"df-1997e154-4ee6-4355-ba4a-383ed443abad\">\n",
              "  <button class=\"colab-df-quickchart\" onclick=\"quickchart('df-1997e154-4ee6-4355-ba4a-383ed443abad')\"\n",
              "            title=\"Suggest charts\"\n",
              "            style=\"display:none;\">\n",
              "\n",
              "<svg xmlns=\"http://www.w3.org/2000/svg\" height=\"24px\"viewBox=\"0 0 24 24\"\n",
              "     width=\"24px\">\n",
              "    <g>\n",
              "        <path d=\"M19 3H5c-1.1 0-2 .9-2 2v14c0 1.1.9 2 2 2h14c1.1 0 2-.9 2-2V5c0-1.1-.9-2-2-2zM9 17H7v-7h2v7zm4 0h-2V7h2v10zm4 0h-2v-4h2v4z\"/>\n",
              "    </g>\n",
              "</svg>\n",
              "  </button>\n",
              "\n",
              "<style>\n",
              "  .colab-df-quickchart {\n",
              "      --bg-color: #E8F0FE;\n",
              "      --fill-color: #1967D2;\n",
              "      --hover-bg-color: #E2EBFA;\n",
              "      --hover-fill-color: #174EA6;\n",
              "      --disabled-fill-color: #AAA;\n",
              "      --disabled-bg-color: #DDD;\n",
              "  }\n",
              "\n",
              "  [theme=dark] .colab-df-quickchart {\n",
              "      --bg-color: #3B4455;\n",
              "      --fill-color: #D2E3FC;\n",
              "      --hover-bg-color: #434B5C;\n",
              "      --hover-fill-color: #FFFFFF;\n",
              "      --disabled-bg-color: #3B4455;\n",
              "      --disabled-fill-color: #666;\n",
              "  }\n",
              "\n",
              "  .colab-df-quickchart {\n",
              "    background-color: var(--bg-color);\n",
              "    border: none;\n",
              "    border-radius: 50%;\n",
              "    cursor: pointer;\n",
              "    display: none;\n",
              "    fill: var(--fill-color);\n",
              "    height: 32px;\n",
              "    padding: 0;\n",
              "    width: 32px;\n",
              "  }\n",
              "\n",
              "  .colab-df-quickchart:hover {\n",
              "    background-color: var(--hover-bg-color);\n",
              "    box-shadow: 0 1px 2px rgba(60, 64, 67, 0.3), 0 1px 3px 1px rgba(60, 64, 67, 0.15);\n",
              "    fill: var(--button-hover-fill-color);\n",
              "  }\n",
              "\n",
              "  .colab-df-quickchart-complete:disabled,\n",
              "  .colab-df-quickchart-complete:disabled:hover {\n",
              "    background-color: var(--disabled-bg-color);\n",
              "    fill: var(--disabled-fill-color);\n",
              "    box-shadow: none;\n",
              "  }\n",
              "\n",
              "  .colab-df-spinner {\n",
              "    border: 2px solid var(--fill-color);\n",
              "    border-color: transparent;\n",
              "    border-bottom-color: var(--fill-color);\n",
              "    animation:\n",
              "      spin 1s steps(1) infinite;\n",
              "  }\n",
              "\n",
              "  @keyframes spin {\n",
              "    0% {\n",
              "      border-color: transparent;\n",
              "      border-bottom-color: var(--fill-color);\n",
              "      border-left-color: var(--fill-color);\n",
              "    }\n",
              "    20% {\n",
              "      border-color: transparent;\n",
              "      border-left-color: var(--fill-color);\n",
              "      border-top-color: var(--fill-color);\n",
              "    }\n",
              "    30% {\n",
              "      border-color: transparent;\n",
              "      border-left-color: var(--fill-color);\n",
              "      border-top-color: var(--fill-color);\n",
              "      border-right-color: var(--fill-color);\n",
              "    }\n",
              "    40% {\n",
              "      border-color: transparent;\n",
              "      border-right-color: var(--fill-color);\n",
              "      border-top-color: var(--fill-color);\n",
              "    }\n",
              "    60% {\n",
              "      border-color: transparent;\n",
              "      border-right-color: var(--fill-color);\n",
              "    }\n",
              "    80% {\n",
              "      border-color: transparent;\n",
              "      border-right-color: var(--fill-color);\n",
              "      border-bottom-color: var(--fill-color);\n",
              "    }\n",
              "    90% {\n",
              "      border-color: transparent;\n",
              "      border-bottom-color: var(--fill-color);\n",
              "    }\n",
              "  }\n",
              "</style>\n",
              "\n",
              "  <script>\n",
              "    async function quickchart(key) {\n",
              "      const quickchartButtonEl =\n",
              "        document.querySelector('#' + key + ' button');\n",
              "      quickchartButtonEl.disabled = true;  // To prevent multiple clicks.\n",
              "      quickchartButtonEl.classList.add('colab-df-spinner');\n",
              "      try {\n",
              "        const charts = await google.colab.kernel.invokeFunction(\n",
              "            'suggestCharts', [key], {});\n",
              "      } catch (error) {\n",
              "        console.error('Error during call to suggestCharts:', error);\n",
              "      }\n",
              "      quickchartButtonEl.classList.remove('colab-df-spinner');\n",
              "      quickchartButtonEl.classList.add('colab-df-quickchart-complete');\n",
              "    }\n",
              "    (() => {\n",
              "      let quickchartButtonEl =\n",
              "        document.querySelector('#df-1997e154-4ee6-4355-ba4a-383ed443abad button');\n",
              "      quickchartButtonEl.style.display =\n",
              "        google.colab.kernel.accessAllowed ? 'block' : 'none';\n",
              "    })();\n",
              "  </script>\n",
              "</div>\n",
              "\n",
              "    </div>\n",
              "  </div>\n"
            ],
            "application/vnd.google.colaboratory.intrinsic+json": {
              "type": "dataframe",
              "variable_name": "df",
              "summary": "{\n  \"name\": \"df\",\n  \"rows\": 1000,\n  \"fields\": [\n    {\n      \"column\": \"Order ID\",\n      \"properties\": {\n        \"dtype\": \"number\",\n        \"std\": 288,\n        \"min\": 1,\n        \"max\": 1000,\n        \"num_unique_values\": 1000,\n        \"samples\": [\n          522,\n          738,\n          741\n        ],\n        \"semantic_type\": \"\",\n        \"description\": \"\"\n      }\n    },\n    {\n      \"column\": \"Customer ID\",\n      \"properties\": {\n        \"dtype\": \"string\",\n        \"num_unique_values\": 947,\n        \"samples\": [\n          \"C2633\",\n          \"C9914\",\n          \"C2306\"\n        ],\n        \"semantic_type\": \"\",\n        \"description\": \"\"\n      }\n    },\n    {\n      \"column\": \"Restaurant ID\",\n      \"properties\": {\n        \"dtype\": \"string\",\n        \"num_unique_values\": 621,\n        \"samples\": [\n          \"R2181\",\n          \"R2351\",\n          \"R2531\"\n        ],\n        \"semantic_type\": \"\",\n        \"description\": \"\"\n      }\n    },\n    {\n      \"column\": \"Order Date and Time\",\n      \"properties\": {\n        \"dtype\": \"date\",\n        \"min\": \"2024-01-01 02:12:47\",\n        \"max\": \"2024-02-07 23:56:12\",\n        \"num_unique_values\": 1000,\n        \"samples\": [\n          \"2024-01-25 06:23:14\",\n          \"2024-01-21 06:19:00\",\n          \"2024-01-11 05:57:01\"\n        ],\n        \"semantic_type\": \"\",\n        \"description\": \"\"\n      }\n    },\n    {\n      \"column\": \"Delivery Date and Time\",\n      \"properties\": {\n        \"dtype\": \"date\",\n        \"min\": \"2024-01-01 03:59:47\",\n        \"max\": \"2024-02-08 01:45:12\",\n        \"num_unique_values\": 1000,\n        \"samples\": [\n          \"2024-01-25 07:20:14\",\n          \"2024-01-21 07:59:00\",\n          \"2024-01-11 06:52:01\"\n        ],\n        \"semantic_type\": \"\",\n        \"description\": \"\"\n      }\n    },\n    {\n      \"column\": \"Order Value\",\n      \"properties\": {\n        \"dtype\": \"number\",\n        \"std\": 530,\n        \"min\": 104,\n        \"max\": 1995,\n        \"num_unique_values\": 769,\n        \"samples\": [\n          1945,\n          1648,\n          1572\n        ],\n        \"semantic_type\": \"\",\n        \"description\": \"\"\n      }\n    },\n    {\n      \"column\": \"Delivery Fee\",\n      \"properties\": {\n        \"dtype\": \"number\",\n        \"std\": 16,\n        \"min\": 0,\n        \"max\": 50,\n        \"num_unique_values\": 5,\n        \"samples\": [\n          40,\n          20,\n          30\n        ],\n        \"semantic_type\": \"\",\n        \"description\": \"\"\n      }\n    },\n    {\n      \"column\": \"Payment Method\",\n      \"properties\": {\n        \"dtype\": \"category\",\n        \"num_unique_values\": 3,\n        \"samples\": [\n          \"Credit Card\",\n          \"Digital Wallet\",\n          \"Cash on Delivery\"\n        ],\n        \"semantic_type\": \"\",\n        \"description\": \"\"\n      }\n    },\n    {\n      \"column\": \"Commission Fee\",\n      \"properties\": {\n        \"dtype\": \"number\",\n        \"std\": 43,\n        \"min\": 50,\n        \"max\": 200,\n        \"num_unique_values\": 151,\n        \"samples\": [\n          123,\n          119,\n          103\n        ],\n        \"semantic_type\": \"\",\n        \"description\": \"\"\n      }\n    },\n    {\n      \"column\": \"Payment Processing Fee\",\n      \"properties\": {\n        \"dtype\": \"number\",\n        \"std\": 11,\n        \"min\": 10,\n        \"max\": 50,\n        \"num_unique_values\": 41,\n        \"samples\": [\n          32,\n          28,\n          10\n        ],\n        \"semantic_type\": \"\",\n        \"description\": \"\"\n      }\n    },\n    {\n      \"column\": \"Refunds/Chargebacks\",\n      \"properties\": {\n        \"dtype\": \"number\",\n        \"std\": 49,\n        \"min\": 0,\n        \"max\": 150,\n        \"num_unique_values\": 4,\n        \"samples\": [\n          150,\n          100,\n          0\n        ],\n        \"semantic_type\": \"\",\n        \"description\": \"\"\n      }\n    },\n    {\n      \"column\": \"discount percentage\",\n      \"properties\": {\n        \"dtype\": \"number\",\n        \"std\": 17.626271882064582,\n        \"min\": 0.0,\n        \"max\": 50.0,\n        \"num_unique_values\": 5,\n        \"samples\": [\n          10.0,\n          50.0,\n          15.0\n        ],\n        \"semantic_type\": \"\",\n        \"description\": \"\"\n      }\n    },\n    {\n      \"column\": \"dicount amount\",\n      \"properties\": {\n        \"dtype\": \"number\",\n        \"std\": 230.15922721183318,\n        \"min\": 0.0,\n        \"max\": 996.0,\n        \"num_unique_values\": 745,\n        \"samples\": [\n          954.0,\n          276.0,\n          183.2\n        ],\n        \"semantic_type\": \"\",\n        \"description\": \"\"\n      }\n    },\n    {\n      \"column\": \"total cost\",\n      \"properties\": {\n        \"dtype\": \"number\",\n        \"std\": 231.30918905529657,\n        \"min\": 10.0,\n        \"max\": 1076.0,\n        \"num_unique_values\": 820,\n        \"samples\": [\n          228.0,\n          47.95,\n          155.1\n        ],\n        \"semantic_type\": \"\",\n        \"description\": \"\"\n      }\n    },\n    {\n      \"column\": \"revenue\",\n      \"properties\": {\n        \"dtype\": \"number\",\n        \"std\": 43,\n        \"min\": 50,\n        \"max\": 200,\n        \"num_unique_values\": 151,\n        \"samples\": [\n          123,\n          119,\n          103\n        ],\n        \"semantic_type\": \"\",\n        \"description\": \"\"\n      }\n    },\n    {\n      \"column\": \"profit\",\n      \"properties\": {\n        \"dtype\": \"number\",\n        \"std\": 234.9189809936792,\n        \"min\": -966.0,\n        \"max\": 180.0,\n        \"num_unique_values\": 872,\n        \"samples\": [\n          -30.75,\n          -658.0,\n          13.5\n        ],\n        \"semantic_type\": \"\",\n        \"description\": \"\"\n      }\n    }\n  ]\n}"
            }
          },
          "metadata": {},
          "execution_count": 11
        }
      ]
    },
    {
      "cell_type": "code",
      "source": [
        "total_orders=df.shape[0]\n",
        "total_revenue=df['revenue'].sum()\n",
        "total_costs=df['total cost'].sum()\n",
        "total_profit=df['profit'].sum()\n",
        "overall_metrics = {\n",
        "    \"Total Orders\": total_orders,\n",
        "    \"Total Revenue\": total_revenue,\n",
        "    \"Total Costs\": total_costs,\n",
        "    \"Total Profit\": total_profit\n",
        "}"
      ],
      "metadata": {
        "id": "TzeEdCbj9pov"
      },
      "execution_count": 12,
      "outputs": []
    },
    {
      "cell_type": "code",
      "source": [
        "overall_metrics"
      ],
      "metadata": {
        "colab": {
          "base_uri": "https://localhost:8080/"
        },
        "id": "0NH6KVSc9pqP",
        "outputId": "cb02d2d8-5eec-4cb8-869d-df8ce5029e76"
      },
      "execution_count": 13,
      "outputs": [
        {
          "output_type": "execute_result",
          "data": {
            "text/plain": [
              "{'Total Orders': 1000,\n",
              " 'Total Revenue': 126990,\n",
              " 'Total Costs': 232709.85,\n",
              " 'Total Profit': -105719.85}"
            ]
          },
          "metadata": {},
          "execution_count": 13
        }
      ]
    },
    {
      "cell_type": "code",
      "source": [
        "import matplotlib.pyplot as plt"
      ],
      "metadata": {
        "id": "2AA-Gqpx9pvP"
      },
      "execution_count": 14,
      "outputs": []
    },
    {
      "cell_type": "code",
      "source": [
        "# histogram of profits per order\n",
        "plt.figure(figsize=(10, 6))\n",
        "plt.hist(df['profit'], bins=50, color='skyblue', edgecolor='black')\n",
        "plt.title('Profit Distribution per Order in Food Delivery')\n",
        "plt.xlabel('Profit')\n",
        "plt.ylabel('Number of Orders')\n",
        "plt.axvline(df['profit'].mean(), color='red', linestyle='dashed', linewidth=1) # draw vertical line at the mean of profit\n",
        "plt.show()"
      ],
      "metadata": {
        "colab": {
          "base_uri": "https://localhost:8080/",
          "height": 564
        },
        "id": "xo2avuMcKM9_",
        "outputId": "0468f036-e724-443b-c89e-42982059c15e"
      },
      "execution_count": 15,
      "outputs": [
        {
          "output_type": "display_data",
          "data": {
            "text/plain": [
              "<Figure size 1000x600 with 1 Axes>"
            ],
            "image/png": "[encoded data removed]"
          },
          "metadata": {}
        }
      ]
    },
    {
      "cell_type": "code",
      "source": [
        "costs_breakdown = df[['Delivery Fee', 'Payment Processing Fee', 'dicount amount']].sum()\n",
        "plt.figure(figsize=(7, 7))\n",
        "plt.pie(costs_breakdown, labels=costs_breakdown.index, autopct='%1.1f%%', startangle=140, colors=['tomato', 'gold', 'lightblue'])\n",
        "plt.title('Proportion of Total Costs in Food Delivery')\n",
        "plt.show()"
      ],
      "metadata": {
        "colab": {
          "base_uri": "https://localhost:8080/",
          "height": 598
        },
        "id": "KziPRGt2KM_R",
        "outputId": "585a8741-437c-46d5-f0a8-ee8eb3086c51"
      },
      "execution_count": 16,
      "outputs": [
        {
          "output_type": "display_data",
          "data": {
            "text/plain": [
              "<Figure size 700x700 with 1 Axes>"
            ],
            "image/png": "[encoded data removed]"
          },
          "metadata": {}
        }
      ]
    },
    {
      "cell_type": "code",
      "source": [
        "totals = ['Total Revenue', 'Total Costs', 'Total Profit']\n",
        "values = [total_revenue, total_costs, total_profit]\n",
        "\n",
        "plt.figure(figsize=(8, 6))\n",
        "plt.bar(totals, values, color=['green', 'red', 'blue'])\n",
        "plt.title('Total Revenue, Costs, and Profit')\n",
        "plt.ylabel('Amount (INR)')\n",
        "plt.show()"
      ],
      "metadata": {
        "colab": {
          "base_uri": "https://localhost:8080/",
          "height": 545
        },
        "id": "LU1ygjNRKNEP",
        "outputId": "76d30a38-2aba-43db-d556-8b53c9baf7c7"
      },
      "execution_count": 17,
      "outputs": [
        {
          "output_type": "display_data",
          "data": {
            "text/plain": [
              "<Figure size 800x600 with 1 Axes>"
            ],
            "image/png": "[encoded data removed]"
          },
          "metadata": {}
        }
      ]
    },
    {
      "cell_type": "code",
      "source": [
        "profitable_orders=df[df['profit']>0]"
      ],
      "metadata": {
        "id": "08Tn_TJKKNGR"
      },
      "execution_count": 18,
      "outputs": []
    },
    {
      "cell_type": "code",
      "source": [
        "profitable_orders['commission perctange']=(profitable_orders['Commission Fee'] / profitable_orders['Order Value']) * 100"
      ],
      "metadata": {
        "colab": {
          "base_uri": "https://localhost:8080/"
        },
        "id": "UMU5dOFYKNKf",
        "outputId": "7e51f7cb-baa1-4292-e492-2e3ead6cddb1"
      },
      "execution_count": 19,
      "outputs": [
        {
          "output_type": "stream",
          "name": "stderr",
          "text": [
            "<ipython-input-19-f2870e0f3333>:1: SettingWithCopyWarning: \n",
            "A value is trying to be set on a copy of a slice from a DataFrame.\n",
            "Try using .loc[row_indexer,col_indexer] = value instead\n",
            "\n",
            "See the caveats in the documentation: https://pandas.pydata.org/pandas-docs/stable/user_guide/indexing.html#returning-a-view-versus-a-copy\n",
            "  profitable_orders['commission perctange']=(profitable_orders['Commission Fee'] / profitable_orders['Order Value']) * 100\n"
          ]
        }
      ]
    },
    {
      "cell_type": "code",
      "source": [
        "profitable_orders['Effective Discount Percentage'] = (profitable_orders['dicount amount'] / profitable_orders['Order Value']) * 100"
      ],
      "metadata": {
        "colab": {
          "base_uri": "https://localhost:8080/"
        },
        "id": "Y38R71keKNMD",
        "outputId": "e4d041bb-7139-4aca-9b5b-f422d9143ab3"
      },
      "execution_count": 20,
      "outputs": [
        {
          "output_type": "stream",
          "name": "stderr",
          "text": [
            "<ipython-input-20-6e94147ccbc1>:1: SettingWithCopyWarning: \n",
            "A value is trying to be set on a copy of a slice from a DataFrame.\n",
            "Try using .loc[row_indexer,col_indexer] = value instead\n",
            "\n",
            "See the caveats in the documentation: https://pandas.pydata.org/pandas-docs/stable/user_guide/indexing.html#returning-a-view-versus-a-copy\n",
            "  profitable_orders['Effective Discount Percentage'] = (profitable_orders['dicount amount'] / profitable_orders['Order Value']) * 100\n"
          ]
        }
      ]
    },
    {
      "cell_type": "code",
      "source": [
        "# calculate the new averages\n",
        "new_avg_commission_percentage = profitable_orders['commission perctange'].mean()\n",
        "new_avg_discount_percentage = profitable_orders['Effective Discount Percentage'].mean()\n",
        "new_avg_commission_percentage,new_avg_discount_percentage"
      ],
      "metadata": {
        "colab": {
          "base_uri": "https://localhost:8080/"
        },
        "id": "FHmcs79uKNQk",
        "outputId": "98f4b600-5496-4b9e-8042-eea07d8c88f3"
      },
      "execution_count": 21,
      "outputs": [
        {
          "output_type": "execute_result",
          "data": {
            "text/plain": [
              "(30.508436145149435, 5.867469879518072)"
            ]
          },
          "metadata": {},
          "execution_count": 21
        }
      ]
    },
    {
      "cell_type": "code",
      "source": [
        "recommend_commission_rate=30.0\n",
        "recommend_discount_rate=6.0\n",
        "df[\"simulted commission fee\"]=df['Order Value']*(recommend_commission_rate/100) # commosion after new commosion rate\n",
        "df[\"simulated discount amount\"]=df['Order Value']*(recommend_discount_rate/100) # discount amount after new discount\n",
        "df[\"simulated total cost\"]=(df['Delivery Fee']+df['Payment Processing Fee']+df['simulated discount amount'])\n",
        "df['simulated profit']=df['simulted commission fee']-df['simulated total cost']"
      ],
      "metadata": {
        "id": "3PSslYePKNSJ"
      },
      "execution_count": 22,
      "outputs": []
    },
    {
      "cell_type": "code",
      "source": [
        "# visualizing the comparison\n",
        "import seaborn as sns\n",
        "\n",
        "plt.figure(figsize=(14, 7))\n",
        "\n",
        "# actual profitability\n",
        "sns.kdeplot(df['profit'], label='Actual Profitability', fill=True, alpha=0.5, linewidth=2)\n",
        "\n",
        "# simulated profitability\n",
        "sns.kdeplot(df['simulated profit'], label='Estimated Profitability with Recommended Rates', fill=True, alpha=0.5, linewidth=2)\n",
        "\n",
        "plt.title('Comparison of Profitability in Food Delivery: Actual vs. Recommended Discounts and Commissions')\n",
        "plt.xlabel('Profit')\n",
        "plt.ylabel('Density')\n",
        "plt.legend(loc='upper left')\n",
        "plt.show()"
      ],
      "metadata": {
        "colab": {
          "base_uri": "https://localhost:8080/",
          "height": 623
        },
        "id": "K3zWi3M9kpZP",
        "outputId": "2bbcfa4d-2a0c-4ffd-992a-6950ca72f2fb"
      },
      "execution_count": 25,
      "outputs": [
        {
          "output_type": "display_data",
          "data": {
            "text/plain": [
              "<Figure size 1400x700 with 1 Axes>"
            ],
            "image/png": "[encoded data removed]"
          },
          "metadata": {}
        }
      ]
    }
  ]
}