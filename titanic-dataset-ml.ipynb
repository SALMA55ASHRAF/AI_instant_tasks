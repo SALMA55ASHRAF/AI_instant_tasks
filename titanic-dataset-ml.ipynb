{
 "cells": [
  {
   "cell_type": "code",
   "execution_count": 1,
   "id": "e567262d",
   "metadata": {
    "_cell_guid": "b1076dfc-b9ad-4769-8c92-a6c4dae69d19",
    "_uuid": "8f2839f25d086af736a60e9eeb907d3b93b6e0e5",
    "execution": {
     "iopub.execute_input": "2024-03-07T17:11:25.668020Z",
     "iopub.status.busy": "2024-03-07T17:11:25.667159Z",
     "iopub.status.idle": "2024-03-07T17:11:26.589852Z",
     "shell.execute_reply": "2024-03-07T17:11:26.588291Z"
    },
    "papermill": {
     "duration": 0.93959,
     "end_time": "2024-03-07T17:11:26.592358",
     "exception": false,
     "start_time": "2024-03-07T17:11:25.652768",
     "status": "completed"
    },
    "tags": []
   },
   "outputs": [
    {
     "name": "stdout",
     "output_type": "stream",
     "text": [
      "/kaggle/input/test-file/tested.csv\n"
     ]
    }
   ],
   "source": [
    "# This Python 3 environment comes with many helpful analytics libraries installed\n",
    "# It is defined by the kaggle/python Docker image: https://github.com/kaggle/docker-python\n",
    "# For example, here's several helpful packages to load\n",
    "\n",
    "import numpy as np # linear algebra\n",
    "import pandas as pd # data processing, CSV file I/O (e.g. pd.read_csv)\n",
    "\n",
    "# Input data files are available in the read-only \"../input/\" directory\n",
    "# For example, running this (by clicking run or pressing Shift+Enter) will list all files under the input directory\n",
    "\n",
    "import os\n",
    "for dirname, _, filenames in os.walk('/kaggle/input'):\n",
    "    for filename in filenames:\n",
    "        print(os.path.join(dirname, filename))\n",
    "\n",
    "# You can write up to 20GB to the current directory (/kaggle/working/) that gets preserved as output when you create a version using \"Save & Run All\" \n",
    "# You can also write temporary files to /kaggle/temp/, but they won't be saved outside of the current session"
   ]
  },
  {
   "cell_type": "code",
   "execution_count": 2,
   "id": "07d99104",
   "metadata": {
    "execution": {
     "iopub.execute_input": "2024-03-07T17:11:26.618665Z",
     "iopub.status.busy": "2024-03-07T17:11:26.617825Z",
     "iopub.status.idle": "2024-03-07T17:11:26.656238Z",
     "shell.execute_reply": "2024-03-07T17:11:26.655162Z"
    },
    "papermill": {
     "duration": 0.0545,
     "end_time": "2024-03-07T17:11:26.658987",
     "exception": false,
     "start_time": "2024-03-07T17:11:26.604487",
     "status": "completed"
    },
    "tags": []
   },
   "outputs": [
    {
     "data": {
      "text/html": [
       "<div>\n",
       "<style scoped>\n",
       "    .dataframe tbody tr th:only-of-type {\n",
       "        vertical-align: middle;\n",
       "    }\n",
       "\n",
       "    .dataframe tbody tr th {\n",
       "        vertical-align: top;\n",
       "    }\n",
       "\n",
       "    .dataframe thead th {\n",
       "        text-align: right;\n",
       "    }\n",
       "</style>\n",
       "<table border=\"1\" class=\"dataframe\">\n",
       "  <thead>\n",
       "    <tr style=\"text-align: right;\">\n",
       "      <th></th>\n",
       "      <th>PassengerId</th>\n",
       "      <th>Survived</th>\n",
       "      <th>Pclass</th>\n",
       "      <th>Name</th>\n",
       "      <th>Sex</th>\n",
       "      <th>Age</th>\n",
       "      <th>SibSp</th>\n",
       "      <th>Parch</th>\n",
       "      <th>Ticket</th>\n",
       "      <th>Fare</th>\n",
       "      <th>Cabin</th>\n",
       "      <th>Embarked</th>\n",
       "    </tr>\n",
       "  </thead>\n",
       "  <tbody>\n",
       "    <tr>\n",
       "      <th>0</th>\n",
       "      <td>892</td>\n",
       "      <td>0</td>\n",
       "      <td>3</td>\n",
       "      <td>Kelly, Mr. James</td>\n",
       "      <td>male</td>\n",
       "      <td>34.5</td>\n",
       "      <td>0</td>\n",
       "      <td>0</td>\n",
       "      <td>330911</td>\n",
       "      <td>7.8292</td>\n",
       "      <td>NaN</td>\n",
       "      <td>Q</td>\n",
       "    </tr>\n",
       "    <tr>\n",
       "      <th>1</th>\n",
       "      <td>893</td>\n",
       "      <td>1</td>\n",
       "      <td>3</td>\n",
       "      <td>Wilkes, Mrs. James (Ellen Needs)</td>\n",
       "      <td>female</td>\n",
       "      <td>47.0</td>\n",
       "      <td>1</td>\n",
       "      <td>0</td>\n",
       "      <td>363272</td>\n",
       "      <td>7.0000</td>\n",
       "      <td>NaN</td>\n",
       "      <td>S</td>\n",
       "    </tr>\n",
       "    <tr>\n",
       "      <th>2</th>\n",
       "      <td>894</td>\n",
       "      <td>0</td>\n",
       "      <td>2</td>\n",
       "      <td>Myles, Mr. Thomas Francis</td>\n",
       "      <td>male</td>\n",
       "      <td>62.0</td>\n",
       "      <td>0</td>\n",
       "      <td>0</td>\n",
       "      <td>240276</td>\n",
       "      <td>9.6875</td>\n",
       "      <td>NaN</td>\n",
       "      <td>Q</td>\n",
       "    </tr>\n",
       "    <tr>\n",
       "      <th>3</th>\n",
       "      <td>895</td>\n",
       "      <td>0</td>\n",
       "      <td>3</td>\n",
       "      <td>Wirz, Mr. Albert</td>\n",
       "      <td>male</td>\n",
       "      <td>27.0</td>\n",
       "      <td>0</td>\n",
       "      <td>0</td>\n",
       "      <td>315154</td>\n",
       "      <td>8.6625</td>\n",
       "      <td>NaN</td>\n",
       "      <td>S</td>\n",
       "    </tr>\n",
       "    <tr>\n",
       "      <th>4</th>\n",
       "      <td>896</td>\n",
       "      <td>1</td>\n",
       "      <td>3</td>\n",
       "      <td>Hirvonen, Mrs. Alexander (Helga E Lindqvist)</td>\n",
       "      <td>female</td>\n",
       "      <td>22.0</td>\n",
       "      <td>1</td>\n",
       "      <td>1</td>\n",
       "      <td>3101298</td>\n",
       "      <td>12.2875</td>\n",
       "      <td>NaN</td>\n",
       "      <td>S</td>\n",
       "    </tr>\n",
       "  </tbody>\n",
       "</table>\n",
       "</div>"
      ],
      "text/plain": [
       "   PassengerId  Survived  Pclass  \\\n",
       "0          892         0       3   \n",
       "1          893         1       3   \n",
       "2          894         0       2   \n",
       "3          895         0       3   \n",
       "4          896         1       3   \n",
       "\n",
       "                                           Name     Sex   Age  SibSp  Parch  \\\n",
       "0                              Kelly, Mr. James    male  34.5      0      0   \n",
       "1              Wilkes, Mrs. James (Ellen Needs)  female  47.0      1      0   \n",
       "2                     Myles, Mr. Thomas Francis    male  62.0      0      0   \n",
       "3                              Wirz, Mr. Albert    male  27.0      0      0   \n",
       "4  Hirvonen, Mrs. Alexander (Helga E Lindqvist)  female  22.0      1      1   \n",
       "\n",
       "    Ticket     Fare Cabin Embarked  \n",
       "0   330911   7.8292   NaN        Q  \n",
       "1   363272   7.0000   NaN        S  \n",
       "2   240276   9.6875   NaN        Q  \n",
       "3   315154   8.6625   NaN        S  \n",
       "4  3101298  12.2875   NaN        S  "
      ]
     },
     "execution_count": 2,
     "metadata": {},
     "output_type": "execute_result"
    }
   ],
   "source": [
    "df=pd.read_csv(\"/kaggle/input/test-file/tested.csv\")\n",
    "df.head()"
   ]
  },
  {
   "cell_type": "code",
   "execution_count": 3,
   "id": "88f3f50d",
   "metadata": {
    "execution": {
     "iopub.execute_input": "2024-03-07T17:11:26.685934Z",
     "iopub.status.busy": "2024-03-07T17:11:26.684855Z",
     "iopub.status.idle": "2024-03-07T17:11:26.695713Z",
     "shell.execute_reply": "2024-03-07T17:11:26.694792Z"
    },
    "papermill": {
     "duration": 0.026655,
     "end_time": "2024-03-07T17:11:26.698022",
     "exception": false,
     "start_time": "2024-03-07T17:11:26.671367",
     "status": "completed"
    },
    "tags": []
   },
   "outputs": [],
   "source": [
    "df.drop(columns=[\"PassengerId\"],inplace=True)"
   ]
  },
  {
   "cell_type": "code",
   "execution_count": 4,
   "id": "49b1d401",
   "metadata": {
    "execution": {
     "iopub.execute_input": "2024-03-07T17:11:26.725183Z",
     "iopub.status.busy": "2024-03-07T17:11:26.724807Z",
     "iopub.status.idle": "2024-03-07T17:11:26.747894Z",
     "shell.execute_reply": "2024-03-07T17:11:26.746773Z"
    },
    "papermill": {
     "duration": 0.039561,
     "end_time": "2024-03-07T17:11:26.750323",
     "exception": false,
     "start_time": "2024-03-07T17:11:26.710762",
     "status": "completed"
    },
    "tags": []
   },
   "outputs": [
    {
     "name": "stdout",
     "output_type": "stream",
     "text": [
      "<class 'pandas.core.frame.DataFrame'>\n",
      "RangeIndex: 418 entries, 0 to 417\n",
      "Data columns (total 11 columns):\n",
      " #   Column    Non-Null Count  Dtype  \n",
      "---  ------    --------------  -----  \n",
      " 0   Survived  418 non-null    int64  \n",
      " 1   Pclass    418 non-null    int64  \n",
      " 2   Name      418 non-null    object \n",
      " 3   Sex       418 non-null    object \n",
      " 4   Age       332 non-null    float64\n",
      " 5   SibSp     418 non-null    int64  \n",
      " 6   Parch     418 non-null    int64  \n",
      " 7   Ticket    418 non-null    object \n",
      " 8   Fare      417 non-null    float64\n",
      " 9   Cabin     91 non-null     object \n",
      " 10  Embarked  418 non-null    object \n",
      "dtypes: float64(2), int64(4), object(5)\n",
      "memory usage: 36.0+ KB\n"
     ]
    }
   ],
   "source": [
    "df.info()"
   ]
  },
  {
   "cell_type": "code",
   "execution_count": 5,
   "id": "12b82eef",
   "metadata": {
    "execution": {
     "iopub.execute_input": "2024-03-07T17:11:26.777862Z",
     "iopub.status.busy": "2024-03-07T17:11:26.776800Z",
     "iopub.status.idle": "2024-03-07T17:11:26.782203Z",
     "shell.execute_reply": "2024-03-07T17:11:26.781467Z"
    },
    "papermill": {
     "duration": 0.021307,
     "end_time": "2024-03-07T17:11:26.784236",
     "exception": false,
     "start_time": "2024-03-07T17:11:26.762929",
     "status": "completed"
    },
    "tags": []
   },
   "outputs": [],
   "source": [
    "# if null values is 50% or more we drop it \n",
    "df.drop(columns=['Cabin'],inplace=True)"
   ]
  },
  {
   "cell_type": "code",
   "execution_count": 6,
   "id": "87d18776",
   "metadata": {
    "execution": {
     "iopub.execute_input": "2024-03-07T17:11:26.813685Z",
     "iopub.status.busy": "2024-03-07T17:11:26.812330Z",
     "iopub.status.idle": "2024-03-07T17:11:26.845537Z",
     "shell.execute_reply": "2024-03-07T17:11:26.844479Z"
    },
    "papermill": {
     "duration": 0.050012,
     "end_time": "2024-03-07T17:11:26.847974",
     "exception": false,
     "start_time": "2024-03-07T17:11:26.797962",
     "status": "completed"
    },
    "tags": []
   },
   "outputs": [
    {
     "data": {
      "text/html": [
       "<div>\n",
       "<style scoped>\n",
       "    .dataframe tbody tr th:only-of-type {\n",
       "        vertical-align: middle;\n",
       "    }\n",
       "\n",
       "    .dataframe tbody tr th {\n",
       "        vertical-align: top;\n",
       "    }\n",
       "\n",
       "    .dataframe thead th {\n",
       "        text-align: right;\n",
       "    }\n",
       "</style>\n",
       "<table border=\"1\" class=\"dataframe\">\n",
       "  <thead>\n",
       "    <tr style=\"text-align: right;\">\n",
       "      <th></th>\n",
       "      <th>Survived</th>\n",
       "      <th>Pclass</th>\n",
       "      <th>Age</th>\n",
       "      <th>SibSp</th>\n",
       "      <th>Parch</th>\n",
       "      <th>Fare</th>\n",
       "    </tr>\n",
       "  </thead>\n",
       "  <tbody>\n",
       "    <tr>\n",
       "      <th>count</th>\n",
       "      <td>418.000000</td>\n",
       "      <td>418.000000</td>\n",
       "      <td>332.000000</td>\n",
       "      <td>418.000000</td>\n",
       "      <td>418.000000</td>\n",
       "      <td>417.000000</td>\n",
       "    </tr>\n",
       "    <tr>\n",
       "      <th>mean</th>\n",
       "      <td>0.363636</td>\n",
       "      <td>2.265550</td>\n",
       "      <td>30.272590</td>\n",
       "      <td>0.447368</td>\n",
       "      <td>0.392344</td>\n",
       "      <td>35.627188</td>\n",
       "    </tr>\n",
       "    <tr>\n",
       "      <th>std</th>\n",
       "      <td>0.481622</td>\n",
       "      <td>0.841838</td>\n",
       "      <td>14.181209</td>\n",
       "      <td>0.896760</td>\n",
       "      <td>0.981429</td>\n",
       "      <td>55.907576</td>\n",
       "    </tr>\n",
       "    <tr>\n",
       "      <th>min</th>\n",
       "      <td>0.000000</td>\n",
       "      <td>1.000000</td>\n",
       "      <td>0.170000</td>\n",
       "      <td>0.000000</td>\n",
       "      <td>0.000000</td>\n",
       "      <td>0.000000</td>\n",
       "    </tr>\n",
       "    <tr>\n",
       "      <th>25%</th>\n",
       "      <td>0.000000</td>\n",
       "      <td>1.000000</td>\n",
       "      <td>21.000000</td>\n",
       "      <td>0.000000</td>\n",
       "      <td>0.000000</td>\n",
       "      <td>7.895800</td>\n",
       "    </tr>\n",
       "    <tr>\n",
       "      <th>50%</th>\n",
       "      <td>0.000000</td>\n",
       "      <td>3.000000</td>\n",
       "      <td>27.000000</td>\n",
       "      <td>0.000000</td>\n",
       "      <td>0.000000</td>\n",
       "      <td>14.454200</td>\n",
       "    </tr>\n",
       "    <tr>\n",
       "      <th>75%</th>\n",
       "      <td>1.000000</td>\n",
       "      <td>3.000000</td>\n",
       "      <td>39.000000</td>\n",
       "      <td>1.000000</td>\n",
       "      <td>0.000000</td>\n",
       "      <td>31.500000</td>\n",
       "    </tr>\n",
       "    <tr>\n",
       "      <th>max</th>\n",
       "      <td>1.000000</td>\n",
       "      <td>3.000000</td>\n",
       "      <td>76.000000</td>\n",
       "      <td>8.000000</td>\n",
       "      <td>9.000000</td>\n",
       "      <td>512.329200</td>\n",
       "    </tr>\n",
       "  </tbody>\n",
       "</table>\n",
       "</div>"
      ],
      "text/plain": [
       "         Survived      Pclass         Age       SibSp       Parch        Fare\n",
       "count  418.000000  418.000000  332.000000  418.000000  418.000000  417.000000\n",
       "mean     0.363636    2.265550   30.272590    0.447368    0.392344   35.627188\n",
       "std      0.481622    0.841838   14.181209    0.896760    0.981429   55.907576\n",
       "min      0.000000    1.000000    0.170000    0.000000    0.000000    0.000000\n",
       "25%      0.000000    1.000000   21.000000    0.000000    0.000000    7.895800\n",
       "50%      0.000000    3.000000   27.000000    0.000000    0.000000   14.454200\n",
       "75%      1.000000    3.000000   39.000000    1.000000    0.000000   31.500000\n",
       "max      1.000000    3.000000   76.000000    8.000000    9.000000  512.329200"
      ]
     },
     "execution_count": 6,
     "metadata": {},
     "output_type": "execute_result"
    }
   ],
   "source": [
    "df.describe()"
   ]
  },
  {
   "cell_type": "code",
   "execution_count": 7,
   "id": "f6b47b9f",
   "metadata": {
    "execution": {
     "iopub.execute_input": "2024-03-07T17:11:26.875910Z",
     "iopub.status.busy": "2024-03-07T17:11:26.875536Z",
     "iopub.status.idle": "2024-03-07T17:11:28.679091Z",
     "shell.execute_reply": "2024-03-07T17:11:28.677919Z"
    },
    "papermill": {
     "duration": 1.820568,
     "end_time": "2024-03-07T17:11:28.681524",
     "exception": false,
     "start_time": "2024-03-07T17:11:26.860956",
     "status": "completed"
    },
    "tags": []
   },
   "outputs": [
    {
     "data": {
      "image/png": "[encoded data removed]",
      "text/plain": [
       "<Figure size 640x480 with 1 Axes>"
      ]
     },
     "metadata": {},
     "output_type": "display_data"
    }
   ],
   "source": [
    "import matplotlib.pyplot as plt\n",
    "import seaborn as sns \n",
    "df['Survived'].value_counts(normalize=True).rename({0:'unservivd',1:'survived'}).plot(kind=\"bar\")\n",
    "plt.xlabel(\"catogry of surviving people\")\n",
    "plt.ylabel(\"freq\")\n",
    "plt.title(\"distrubtion of both survives and not survived peoples\")\n",
    "plt.show();"
   ]
  },
  {
   "cell_type": "markdown",
   "id": "726f75ee",
   "metadata": {
    "papermill": {
     "duration": 0.013365,
     "end_time": "2024-03-07T17:11:28.708306",
     "exception": false,
     "start_time": "2024-03-07T17:11:28.694941",
     "status": "completed"
    },
    "tags": []
   },
   "source": [
    "as we see most of people unsurvived from titanic about 60% or more  unsurvived "
   ]
  },
  {
   "cell_type": "code",
   "execution_count": 8,
   "id": "dd9890cd",
   "metadata": {
    "execution": {
     "iopub.execute_input": "2024-03-07T17:11:28.737952Z",
     "iopub.status.busy": "2024-03-07T17:11:28.737226Z",
     "iopub.status.idle": "2024-03-07T17:11:29.038011Z",
     "shell.execute_reply": "2024-03-07T17:11:29.036622Z"
    },
    "papermill": {
     "duration": 0.318867,
     "end_time": "2024-03-07T17:11:29.040602",
     "exception": false,
     "start_time": "2024-03-07T17:11:28.721735",
     "status": "completed"
    },
    "tags": []
   },
   "outputs": [
    {
     "data": {
      "image/png": "[encoded data removed]",
      "text/plain": [
       "<Figure size 640x480 with 1 Axes>"
      ]
     },
     "metadata": {},
     "output_type": "display_data"
    }
   ],
   "source": [
    "df['Age'].hist()\n",
    "plt.xlabel(\"ages\")\n",
    "plt.ylabel(\"freq\")\n",
    "plt.title(\"distrubtion of ages\")\n",
    "plt.show()"
   ]
  },
  {
   "cell_type": "markdown",
   "id": "a46e89b6",
   "metadata": {
    "papermill": {
     "duration": 0.013266,
     "end_time": "2024-03-07T17:11:29.067553",
     "exception": false,
     "start_time": "2024-03-07T17:11:29.054287",
     "status": "completed"
    },
    "tags": []
   },
   "source": [
    "as we see age is normal distrubtion so we can fillna of missing values in age with mean (avg) of age \n",
    "remark: if age was having outilers which is mean is senstive we would use median instead "
   ]
  },
  {
   "cell_type": "code",
   "execution_count": 9,
   "id": "456116a4",
   "metadata": {
    "execution": {
     "iopub.execute_input": "2024-03-07T17:11:29.097060Z",
     "iopub.status.busy": "2024-03-07T17:11:29.096260Z",
     "iopub.status.idle": "2024-03-07T17:11:29.101985Z",
     "shell.execute_reply": "2024-03-07T17:11:29.100934Z"
    },
    "papermill": {
     "duration": 0.023442,
     "end_time": "2024-03-07T17:11:29.104622",
     "exception": false,
     "start_time": "2024-03-07T17:11:29.081180",
     "status": "completed"
    },
    "tags": []
   },
   "outputs": [],
   "source": [
    "df['Age']=df['Age'].fillna(df['Age'].mean())"
   ]
  },
  {
   "cell_type": "code",
   "execution_count": 10,
   "id": "13b1244b",
   "metadata": {
    "execution": {
     "iopub.execute_input": "2024-03-07T17:11:29.133681Z",
     "iopub.status.busy": "2024-03-07T17:11:29.133262Z",
     "iopub.status.idle": "2024-03-07T17:11:29.144257Z",
     "shell.execute_reply": "2024-03-07T17:11:29.143242Z"
    },
    "papermill": {
     "duration": 0.028524,
     "end_time": "2024-03-07T17:11:29.146845",
     "exception": false,
     "start_time": "2024-03-07T17:11:29.118321",
     "status": "completed"
    },
    "tags": []
   },
   "outputs": [
    {
     "name": "stdout",
     "output_type": "stream",
     "text": [
      "<class 'pandas.core.frame.DataFrame'>\n",
      "RangeIndex: 418 entries, 0 to 417\n",
      "Data columns (total 10 columns):\n",
      " #   Column    Non-Null Count  Dtype  \n",
      "---  ------    --------------  -----  \n",
      " 0   Survived  418 non-null    int64  \n",
      " 1   Pclass    418 non-null    int64  \n",
      " 2   Name      418 non-null    object \n",
      " 3   Sex       418 non-null    object \n",
      " 4   Age       418 non-null    float64\n",
      " 5   SibSp     418 non-null    int64  \n",
      " 6   Parch     418 non-null    int64  \n",
      " 7   Ticket    418 non-null    object \n",
      " 8   Fare      417 non-null    float64\n",
      " 9   Embarked  418 non-null    object \n",
      "dtypes: float64(2), int64(4), object(4)\n",
      "memory usage: 32.8+ KB\n"
     ]
    }
   ],
   "source": [
    "df.info()"
   ]
  },
  {
   "cell_type": "code",
   "execution_count": 11,
   "id": "d7193142",
   "metadata": {
    "execution": {
     "iopub.execute_input": "2024-03-07T17:11:29.176627Z",
     "iopub.status.busy": "2024-03-07T17:11:29.176214Z",
     "iopub.status.idle": "2024-03-07T17:11:29.444732Z",
     "shell.execute_reply": "2024-03-07T17:11:29.443514Z"
    },
    "papermill": {
     "duration": 0.286421,
     "end_time": "2024-03-07T17:11:29.447056",
     "exception": false,
     "start_time": "2024-03-07T17:11:29.160635",
     "status": "completed"
    },
    "tags": []
   },
   "outputs": [
    {
     "data": {
      "image/png": "[encoded data removed]",
      "text/plain": [
       "<Figure size 640x480 with 1 Axes>"
      ]
     },
     "metadata": {},
     "output_type": "display_data"
    }
   ],
   "source": [
    "df['Embarked'].value_counts(normalize=True).plot(kind='bar')\n",
    "plt.xlabel(\"types of embark\")\n",
    "plt.ylabel(\"normalized freq\")\n",
    "plt.title(\"distrubtion of embark\")\n",
    "plt.show()"
   ]
  },
  {
   "cell_type": "markdown",
   "id": "d4ce1e93",
   "metadata": {
    "papermill": {
     "duration": 0.013799,
     "end_time": "2024-03-07T17:11:29.475013",
     "exception": false,
     "start_time": "2024-03-07T17:11:29.461214",
     "status": "completed"
    },
    "tags": []
   },
   "source": [
    "as we see most types was s embark about 60% or more"
   ]
  },
  {
   "cell_type": "code",
   "execution_count": 12,
   "id": "a317ac66",
   "metadata": {
    "execution": {
     "iopub.execute_input": "2024-03-07T17:11:29.505186Z",
     "iopub.status.busy": "2024-03-07T17:11:29.504816Z",
     "iopub.status.idle": "2024-03-07T17:11:29.520045Z",
     "shell.execute_reply": "2024-03-07T17:11:29.519240Z"
    },
    "papermill": {
     "duration": 0.032861,
     "end_time": "2024-03-07T17:11:29.522019",
     "exception": false,
     "start_time": "2024-03-07T17:11:29.489158",
     "status": "completed"
    },
    "tags": []
   },
   "outputs": [
    {
     "data": {
      "text/html": [
       "<div>\n",
       "<style scoped>\n",
       "    .dataframe tbody tr th:only-of-type {\n",
       "        vertical-align: middle;\n",
       "    }\n",
       "\n",
       "    .dataframe tbody tr th {\n",
       "        vertical-align: top;\n",
       "    }\n",
       "\n",
       "    .dataframe thead th {\n",
       "        text-align: right;\n",
       "    }\n",
       "</style>\n",
       "<table border=\"1\" class=\"dataframe\">\n",
       "  <thead>\n",
       "    <tr style=\"text-align: right;\">\n",
       "      <th></th>\n",
       "      <th>Survived</th>\n",
       "      <th>Pclass</th>\n",
       "      <th>Name</th>\n",
       "      <th>Sex</th>\n",
       "      <th>Age</th>\n",
       "      <th>SibSp</th>\n",
       "      <th>Parch</th>\n",
       "      <th>Ticket</th>\n",
       "      <th>Fare</th>\n",
       "      <th>Embarked</th>\n",
       "    </tr>\n",
       "  </thead>\n",
       "  <tbody>\n",
       "    <tr>\n",
       "      <th>0</th>\n",
       "      <td>0</td>\n",
       "      <td>3</td>\n",
       "      <td>Kelly, Mr. James</td>\n",
       "      <td>male</td>\n",
       "      <td>34.5</td>\n",
       "      <td>0</td>\n",
       "      <td>0</td>\n",
       "      <td>330911</td>\n",
       "      <td>7.8292</td>\n",
       "      <td>Q</td>\n",
       "    </tr>\n",
       "    <tr>\n",
       "      <th>1</th>\n",
       "      <td>1</td>\n",
       "      <td>3</td>\n",
       "      <td>Wilkes, Mrs. James (Ellen Needs)</td>\n",
       "      <td>female</td>\n",
       "      <td>47.0</td>\n",
       "      <td>1</td>\n",
       "      <td>0</td>\n",
       "      <td>363272</td>\n",
       "      <td>7.0000</td>\n",
       "      <td>S</td>\n",
       "    </tr>\n",
       "    <tr>\n",
       "      <th>2</th>\n",
       "      <td>0</td>\n",
       "      <td>2</td>\n",
       "      <td>Myles, Mr. Thomas Francis</td>\n",
       "      <td>male</td>\n",
       "      <td>62.0</td>\n",
       "      <td>0</td>\n",
       "      <td>0</td>\n",
       "      <td>240276</td>\n",
       "      <td>9.6875</td>\n",
       "      <td>Q</td>\n",
       "    </tr>\n",
       "    <tr>\n",
       "      <th>3</th>\n",
       "      <td>0</td>\n",
       "      <td>3</td>\n",
       "      <td>Wirz, Mr. Albert</td>\n",
       "      <td>male</td>\n",
       "      <td>27.0</td>\n",
       "      <td>0</td>\n",
       "      <td>0</td>\n",
       "      <td>315154</td>\n",
       "      <td>8.6625</td>\n",
       "      <td>S</td>\n",
       "    </tr>\n",
       "    <tr>\n",
       "      <th>4</th>\n",
       "      <td>1</td>\n",
       "      <td>3</td>\n",
       "      <td>Hirvonen, Mrs. Alexander (Helga E Lindqvist)</td>\n",
       "      <td>female</td>\n",
       "      <td>22.0</td>\n",
       "      <td>1</td>\n",
       "      <td>1</td>\n",
       "      <td>3101298</td>\n",
       "      <td>12.2875</td>\n",
       "      <td>S</td>\n",
       "    </tr>\n",
       "  </tbody>\n",
       "</table>\n",
       "</div>"
      ],
      "text/plain": [
       "   Survived  Pclass                                          Name     Sex  \\\n",
       "0         0       3                              Kelly, Mr. James    male   \n",
       "1         1       3              Wilkes, Mrs. James (Ellen Needs)  female   \n",
       "2         0       2                     Myles, Mr. Thomas Francis    male   \n",
       "3         0       3                              Wirz, Mr. Albert    male   \n",
       "4         1       3  Hirvonen, Mrs. Alexander (Helga E Lindqvist)  female   \n",
       "\n",
       "    Age  SibSp  Parch   Ticket     Fare Embarked  \n",
       "0  34.5      0      0   330911   7.8292        Q  \n",
       "1  47.0      1      0   363272   7.0000        S  \n",
       "2  62.0      0      0   240276   9.6875        Q  \n",
       "3  27.0      0      0   315154   8.6625        S  \n",
       "4  22.0      1      1  3101298  12.2875        S  "
      ]
     },
     "execution_count": 12,
     "metadata": {},
     "output_type": "execute_result"
    }
   ],
   "source": [
    "df.head()"
   ]
  },
  {
   "cell_type": "code",
   "execution_count": 13,
   "id": "f34c3b3f",
   "metadata": {
    "execution": {
     "iopub.execute_input": "2024-03-07T17:11:29.552793Z",
     "iopub.status.busy": "2024-03-07T17:11:29.552372Z",
     "iopub.status.idle": "2024-03-07T17:11:29.691990Z",
     "shell.execute_reply": "2024-03-07T17:11:29.690490Z"
    },
    "papermill": {
     "duration": 0.158072,
     "end_time": "2024-03-07T17:11:29.694392",
     "exception": false,
     "start_time": "2024-03-07T17:11:29.536320",
     "status": "completed"
    },
    "tags": []
   },
   "outputs": [
    {
     "data": {
      "image/png": "[encoded data removed]",
      "text/plain": [
       "<Figure size 640x480 with 1 Axes>"
      ]
     },
     "metadata": {},
     "output_type": "display_data"
    }
   ],
   "source": [
    "df['Sex'].value_counts(normalize=True).plot(kind=\"pie\")\n",
    "plt.title(\"perctange % of gender\")\n",
    "plt.show()"
   ]
  },
  {
   "cell_type": "markdown",
   "id": "bcecb7ae",
   "metadata": {
    "papermill": {
     "duration": 0.014656,
     "end_time": "2024-03-07T17:11:29.724297",
     "exception": false,
     "start_time": "2024-03-07T17:11:29.709641",
     "status": "completed"
    },
    "tags": []
   },
   "source": [
    "as we see most of gender is male "
   ]
  },
  {
   "cell_type": "code",
   "execution_count": 14,
   "id": "e802118e",
   "metadata": {
    "execution": {
     "iopub.execute_input": "2024-03-07T17:11:29.757688Z",
     "iopub.status.busy": "2024-03-07T17:11:29.756882Z",
     "iopub.status.idle": "2024-03-07T17:11:30.027026Z",
     "shell.execute_reply": "2024-03-07T17:11:30.025747Z"
    },
    "papermill": {
     "duration": 0.29015,
     "end_time": "2024-03-07T17:11:30.030526",
     "exception": false,
     "start_time": "2024-03-07T17:11:29.740376",
     "status": "completed"
    },
    "tags": []
   },
   "outputs": [
    {
     "data": {
      "image/png": "[encoded data removed]",
      "text/plain": [
       "<Figure size 640x480 with 1 Axes>"
      ]
     },
     "metadata": {},
     "output_type": "display_data"
    }
   ],
   "source": [
    "df['Parch'].value_counts(normalize=True).plot(kind=\"barh\")\n",
    "plt.title(\"distrbution of parch\")\n",
    "plt.xlabel(\"freq\")\n",
    "plt.ylabel(\"kinds of parch\");"
   ]
  },
  {
   "cell_type": "code",
   "execution_count": 15,
   "id": "33685f7c",
   "metadata": {
    "execution": {
     "iopub.execute_input": "2024-03-07T17:11:30.062023Z",
     "iopub.status.busy": "2024-03-07T17:11:30.061636Z",
     "iopub.status.idle": "2024-03-07T17:11:30.315314Z",
     "shell.execute_reply": "2024-03-07T17:11:30.314132Z"
    },
    "papermill": {
     "duration": 0.272238,
     "end_time": "2024-03-07T17:11:30.317755",
     "exception": false,
     "start_time": "2024-03-07T17:11:30.045517",
     "status": "completed"
    },
    "tags": []
   },
   "outputs": [
    {
     "data": {
      "image/png": "[encoded data removed]",
      "text/plain": [
       "<Figure size 640x480 with 1 Axes>"
      ]
     },
     "metadata": {},
     "output_type": "display_data"
    }
   ],
   "source": [
    "df['SibSp'].value_counts(normalize=True).plot(kind=\"barh\")\n",
    "plt.title(\"distrbution of sibsp\")\n",
    "plt.xlabel(\"freq\")\n",
    "plt.ylabel(\"kinds of sibsp\");"
   ]
  },
  {
   "cell_type": "markdown",
   "id": "21828f60",
   "metadata": {
    "papermill": {
     "duration": 0.014966,
     "end_time": "2024-03-07T17:11:30.347965",
     "exception": false,
     "start_time": "2024-03-07T17:11:30.332999",
     "status": "completed"
    },
    "tags": []
   },
   "source": []
  },
  {
   "cell_type": "code",
   "execution_count": 16,
   "id": "c43b3dc2",
   "metadata": {
    "execution": {
     "iopub.execute_input": "2024-03-07T17:11:30.380790Z",
     "iopub.status.busy": "2024-03-07T17:11:30.380370Z",
     "iopub.status.idle": "2024-03-07T17:11:30.397142Z",
     "shell.execute_reply": "2024-03-07T17:11:30.396136Z"
    },
    "papermill": {
     "duration": 0.036065,
     "end_time": "2024-03-07T17:11:30.399336",
     "exception": false,
     "start_time": "2024-03-07T17:11:30.363271",
     "status": "completed"
    },
    "tags": []
   },
   "outputs": [
    {
     "data": {
      "text/html": [
       "<div>\n",
       "<style scoped>\n",
       "    .dataframe tbody tr th:only-of-type {\n",
       "        vertical-align: middle;\n",
       "    }\n",
       "\n",
       "    .dataframe tbody tr th {\n",
       "        vertical-align: top;\n",
       "    }\n",
       "\n",
       "    .dataframe thead th {\n",
       "        text-align: right;\n",
       "    }\n",
       "</style>\n",
       "<table border=\"1\" class=\"dataframe\">\n",
       "  <thead>\n",
       "    <tr style=\"text-align: right;\">\n",
       "      <th></th>\n",
       "      <th>Survived</th>\n",
       "      <th>Pclass</th>\n",
       "      <th>Name</th>\n",
       "      <th>Sex</th>\n",
       "      <th>Age</th>\n",
       "      <th>SibSp</th>\n",
       "      <th>Parch</th>\n",
       "      <th>Ticket</th>\n",
       "      <th>Fare</th>\n",
       "      <th>Embarked</th>\n",
       "    </tr>\n",
       "  </thead>\n",
       "  <tbody>\n",
       "    <tr>\n",
       "      <th>0</th>\n",
       "      <td>0</td>\n",
       "      <td>3</td>\n",
       "      <td>Kelly, Mr. James</td>\n",
       "      <td>male</td>\n",
       "      <td>34.5</td>\n",
       "      <td>0</td>\n",
       "      <td>0</td>\n",
       "      <td>330911</td>\n",
       "      <td>7.8292</td>\n",
       "      <td>Q</td>\n",
       "    </tr>\n",
       "    <tr>\n",
       "      <th>1</th>\n",
       "      <td>1</td>\n",
       "      <td>3</td>\n",
       "      <td>Wilkes, Mrs. James (Ellen Needs)</td>\n",
       "      <td>female</td>\n",
       "      <td>47.0</td>\n",
       "      <td>1</td>\n",
       "      <td>0</td>\n",
       "      <td>363272</td>\n",
       "      <td>7.0000</td>\n",
       "      <td>S</td>\n",
       "    </tr>\n",
       "    <tr>\n",
       "      <th>2</th>\n",
       "      <td>0</td>\n",
       "      <td>2</td>\n",
       "      <td>Myles, Mr. Thomas Francis</td>\n",
       "      <td>male</td>\n",
       "      <td>62.0</td>\n",
       "      <td>0</td>\n",
       "      <td>0</td>\n",
       "      <td>240276</td>\n",
       "      <td>9.6875</td>\n",
       "      <td>Q</td>\n",
       "    </tr>\n",
       "    <tr>\n",
       "      <th>3</th>\n",
       "      <td>0</td>\n",
       "      <td>3</td>\n",
       "      <td>Wirz, Mr. Albert</td>\n",
       "      <td>male</td>\n",
       "      <td>27.0</td>\n",
       "      <td>0</td>\n",
       "      <td>0</td>\n",
       "      <td>315154</td>\n",
       "      <td>8.6625</td>\n",
       "      <td>S</td>\n",
       "    </tr>\n",
       "    <tr>\n",
       "      <th>4</th>\n",
       "      <td>1</td>\n",
       "      <td>3</td>\n",
       "      <td>Hirvonen, Mrs. Alexander (Helga E Lindqvist)</td>\n",
       "      <td>female</td>\n",
       "      <td>22.0</td>\n",
       "      <td>1</td>\n",
       "      <td>1</td>\n",
       "      <td>3101298</td>\n",
       "      <td>12.2875</td>\n",
       "      <td>S</td>\n",
       "    </tr>\n",
       "  </tbody>\n",
       "</table>\n",
       "</div>"
      ],
      "text/plain": [
       "   Survived  Pclass                                          Name     Sex  \\\n",
       "0         0       3                              Kelly, Mr. James    male   \n",
       "1         1       3              Wilkes, Mrs. James (Ellen Needs)  female   \n",
       "2         0       2                     Myles, Mr. Thomas Francis    male   \n",
       "3         0       3                              Wirz, Mr. Albert    male   \n",
       "4         1       3  Hirvonen, Mrs. Alexander (Helga E Lindqvist)  female   \n",
       "\n",
       "    Age  SibSp  Parch   Ticket     Fare Embarked  \n",
       "0  34.5      0      0   330911   7.8292        Q  \n",
       "1  47.0      1      0   363272   7.0000        S  \n",
       "2  62.0      0      0   240276   9.6875        Q  \n",
       "3  27.0      0      0   315154   8.6625        S  \n",
       "4  22.0      1      1  3101298  12.2875        S  "
      ]
     },
     "execution_count": 16,
     "metadata": {},
     "output_type": "execute_result"
    }
   ],
   "source": [
    "df.head()"
   ]
  },
  {
   "cell_type": "code",
   "execution_count": 17,
   "id": "4729a9ce",
   "metadata": {
    "execution": {
     "iopub.execute_input": "2024-03-07T17:11:30.432709Z",
     "iopub.status.busy": "2024-03-07T17:11:30.431958Z",
     "iopub.status.idle": "2024-03-07T17:11:30.442687Z",
     "shell.execute_reply": "2024-03-07T17:11:30.441697Z"
    },
    "papermill": {
     "duration": 0.029946,
     "end_time": "2024-03-07T17:11:30.444902",
     "exception": false,
     "start_time": "2024-03-07T17:11:30.414956",
     "status": "completed"
    },
    "tags": []
   },
   "outputs": [
    {
     "data": {
      "text/plain": [
       "Survived\n",
       "0    27.527877\n",
       "1    49.747699\n",
       "Name: Fare, dtype: float64"
      ]
     },
     "execution_count": 17,
     "metadata": {},
     "output_type": "execute_result"
    }
   ],
   "source": [
    "df.groupby('Survived')['Fare'].mean()"
   ]
  },
  {
   "cell_type": "code",
   "execution_count": 18,
   "id": "3250ddda",
   "metadata": {
    "execution": {
     "iopub.execute_input": "2024-03-07T17:11:30.478649Z",
     "iopub.status.busy": "2024-03-07T17:11:30.477897Z",
     "iopub.status.idle": "2024-03-07T17:11:30.486731Z",
     "shell.execute_reply": "2024-03-07T17:11:30.485657Z"
    },
    "papermill": {
     "duration": 0.02817,
     "end_time": "2024-03-07T17:11:30.488949",
     "exception": false,
     "start_time": "2024-03-07T17:11:30.460779",
     "status": "completed"
    },
    "tags": []
   },
   "outputs": [
    {
     "data": {
      "text/plain": [
       "Survived\n",
       "0    30.272699\n",
       "1    30.272400\n",
       "Name: Age, dtype: float64"
      ]
     },
     "execution_count": 18,
     "metadata": {},
     "output_type": "execute_result"
    }
   ],
   "source": [
    "df.groupby('Survived')['Age'].mean()"
   ]
  },
  {
   "cell_type": "code",
   "execution_count": 19,
   "id": "0345e118",
   "metadata": {
    "execution": {
     "iopub.execute_input": "2024-03-07T17:11:30.523757Z",
     "iopub.status.busy": "2024-03-07T17:11:30.522978Z",
     "iopub.status.idle": "2024-03-07T17:11:30.528937Z",
     "shell.execute_reply": "2024-03-07T17:11:30.528216Z"
    },
    "papermill": {
     "duration": 0.025718,
     "end_time": "2024-03-07T17:11:30.531122",
     "exception": false,
     "start_time": "2024-03-07T17:11:30.505404",
     "status": "completed"
    },
    "tags": []
   },
   "outputs": [],
   "source": [
    "sex=pd.get_dummies(df['Sex'],drop_first=True)"
   ]
  },
  {
   "cell_type": "code",
   "execution_count": 20,
   "id": "d3fc212d",
   "metadata": {
    "execution": {
     "iopub.execute_input": "2024-03-07T17:11:30.565474Z",
     "iopub.status.busy": "2024-03-07T17:11:30.564709Z",
     "iopub.status.idle": "2024-03-07T17:11:30.570664Z",
     "shell.execute_reply": "2024-03-07T17:11:30.569782Z"
    },
    "papermill": {
     "duration": 0.025841,
     "end_time": "2024-03-07T17:11:30.572974",
     "exception": false,
     "start_time": "2024-03-07T17:11:30.547133",
     "status": "completed"
    },
    "tags": []
   },
   "outputs": [],
   "source": [
    "emb=pd.get_dummies(df['Embarked'])"
   ]
  },
  {
   "cell_type": "code",
   "execution_count": 21,
   "id": "8ddee3f1",
   "metadata": {
    "execution": {
     "iopub.execute_input": "2024-03-07T17:11:30.607445Z",
     "iopub.status.busy": "2024-03-07T17:11:30.606673Z",
     "iopub.status.idle": "2024-03-07T17:11:30.611642Z",
     "shell.execute_reply": "2024-03-07T17:11:30.610874Z"
    },
    "papermill": {
     "duration": 0.024884,
     "end_time": "2024-03-07T17:11:30.613842",
     "exception": false,
     "start_time": "2024-03-07T17:11:30.588958",
     "status": "completed"
    },
    "tags": []
   },
   "outputs": [],
   "source": [
    "emb=emb.astype(int)"
   ]
  },
  {
   "cell_type": "code",
   "execution_count": 22,
   "id": "a86f3429",
   "metadata": {
    "execution": {
     "iopub.execute_input": "2024-03-07T17:11:30.648347Z",
     "iopub.status.busy": "2024-03-07T17:11:30.647582Z",
     "iopub.status.idle": "2024-03-07T17:11:30.652546Z",
     "shell.execute_reply": "2024-03-07T17:11:30.651772Z"
    },
    "papermill": {
     "duration": 0.025038,
     "end_time": "2024-03-07T17:11:30.654827",
     "exception": false,
     "start_time": "2024-03-07T17:11:30.629789",
     "status": "completed"
    },
    "tags": []
   },
   "outputs": [],
   "source": [
    "sex=sex.astype(int)"
   ]
  },
  {
   "cell_type": "code",
   "execution_count": 23,
   "id": "702c025c",
   "metadata": {
    "execution": {
     "iopub.execute_input": "2024-03-07T17:11:30.691063Z",
     "iopub.status.busy": "2024-03-07T17:11:30.690109Z",
     "iopub.status.idle": "2024-03-07T17:11:30.696385Z",
     "shell.execute_reply": "2024-03-07T17:11:30.695595Z"
    },
    "papermill": {
     "duration": 0.027765,
     "end_time": "2024-03-07T17:11:30.698650",
     "exception": false,
     "start_time": "2024-03-07T17:11:30.670885",
     "status": "completed"
    },
    "tags": []
   },
   "outputs": [],
   "source": [
    "df=pd.concat([df,sex,emb],axis=1)"
   ]
  },
  {
   "cell_type": "code",
   "execution_count": 24,
   "id": "022509df",
   "metadata": {
    "execution": {
     "iopub.execute_input": "2024-03-07T17:11:30.732889Z",
     "iopub.status.busy": "2024-03-07T17:11:30.732489Z",
     "iopub.status.idle": "2024-03-07T17:11:30.749960Z",
     "shell.execute_reply": "2024-03-07T17:11:30.748931Z"
    },
    "papermill": {
     "duration": 0.037591,
     "end_time": "2024-03-07T17:11:30.752457",
     "exception": false,
     "start_time": "2024-03-07T17:11:30.714866",
     "status": "completed"
    },
    "tags": []
   },
   "outputs": [
    {
     "data": {
      "text/html": [
       "<div>\n",
       "<style scoped>\n",
       "    .dataframe tbody tr th:only-of-type {\n",
       "        vertical-align: middle;\n",
       "    }\n",
       "\n",
       "    .dataframe tbody tr th {\n",
       "        vertical-align: top;\n",
       "    }\n",
       "\n",
       "    .dataframe thead th {\n",
       "        text-align: right;\n",
       "    }\n",
       "</style>\n",
       "<table border=\"1\" class=\"dataframe\">\n",
       "  <thead>\n",
       "    <tr style=\"text-align: right;\">\n",
       "      <th></th>\n",
       "      <th>Survived</th>\n",
       "      <th>Pclass</th>\n",
       "      <th>Name</th>\n",
       "      <th>Sex</th>\n",
       "      <th>Age</th>\n",
       "      <th>SibSp</th>\n",
       "      <th>Parch</th>\n",
       "      <th>Ticket</th>\n",
       "      <th>Fare</th>\n",
       "      <th>Embarked</th>\n",
       "      <th>male</th>\n",
       "      <th>C</th>\n",
       "      <th>Q</th>\n",
       "      <th>S</th>\n",
       "    </tr>\n",
       "  </thead>\n",
       "  <tbody>\n",
       "    <tr>\n",
       "      <th>0</th>\n",
       "      <td>0</td>\n",
       "      <td>3</td>\n",
       "      <td>Kelly, Mr. James</td>\n",
       "      <td>male</td>\n",
       "      <td>34.5</td>\n",
       "      <td>0</td>\n",
       "      <td>0</td>\n",
       "      <td>330911</td>\n",
       "      <td>7.8292</td>\n",
       "      <td>Q</td>\n",
       "      <td>1</td>\n",
       "      <td>0</td>\n",
       "      <td>1</td>\n",
       "      <td>0</td>\n",
       "    </tr>\n",
       "    <tr>\n",
       "      <th>1</th>\n",
       "      <td>1</td>\n",
       "      <td>3</td>\n",
       "      <td>Wilkes, Mrs. James (Ellen Needs)</td>\n",
       "      <td>female</td>\n",
       "      <td>47.0</td>\n",
       "      <td>1</td>\n",
       "      <td>0</td>\n",
       "      <td>363272</td>\n",
       "      <td>7.0000</td>\n",
       "      <td>S</td>\n",
       "      <td>0</td>\n",
       "      <td>0</td>\n",
       "      <td>0</td>\n",
       "      <td>1</td>\n",
       "    </tr>\n",
       "    <tr>\n",
       "      <th>2</th>\n",
       "      <td>0</td>\n",
       "      <td>2</td>\n",
       "      <td>Myles, Mr. Thomas Francis</td>\n",
       "      <td>male</td>\n",
       "      <td>62.0</td>\n",
       "      <td>0</td>\n",
       "      <td>0</td>\n",
       "      <td>240276</td>\n",
       "      <td>9.6875</td>\n",
       "      <td>Q</td>\n",
       "      <td>1</td>\n",
       "      <td>0</td>\n",
       "      <td>1</td>\n",
       "      <td>0</td>\n",
       "    </tr>\n",
       "    <tr>\n",
       "      <th>3</th>\n",
       "      <td>0</td>\n",
       "      <td>3</td>\n",
       "      <td>Wirz, Mr. Albert</td>\n",
       "      <td>male</td>\n",
       "      <td>27.0</td>\n",
       "      <td>0</td>\n",
       "      <td>0</td>\n",
       "      <td>315154</td>\n",
       "      <td>8.6625</td>\n",
       "      <td>S</td>\n",
       "      <td>1</td>\n",
       "      <td>0</td>\n",
       "      <td>0</td>\n",
       "      <td>1</td>\n",
       "    </tr>\n",
       "    <tr>\n",
       "      <th>4</th>\n",
       "      <td>1</td>\n",
       "      <td>3</td>\n",
       "      <td>Hirvonen, Mrs. Alexander (Helga E Lindqvist)</td>\n",
       "      <td>female</td>\n",
       "      <td>22.0</td>\n",
       "      <td>1</td>\n",
       "      <td>1</td>\n",
       "      <td>3101298</td>\n",
       "      <td>12.2875</td>\n",
       "      <td>S</td>\n",
       "      <td>0</td>\n",
       "      <td>0</td>\n",
       "      <td>0</td>\n",
       "      <td>1</td>\n",
       "    </tr>\n",
       "  </tbody>\n",
       "</table>\n",
       "</div>"
      ],
      "text/plain": [
       "   Survived  Pclass                                          Name     Sex  \\\n",
       "0         0       3                              Kelly, Mr. James    male   \n",
       "1         1       3              Wilkes, Mrs. James (Ellen Needs)  female   \n",
       "2         0       2                     Myles, Mr. Thomas Francis    male   \n",
       "3         0       3                              Wirz, Mr. Albert    male   \n",
       "4         1       3  Hirvonen, Mrs. Alexander (Helga E Lindqvist)  female   \n",
       "\n",
       "    Age  SibSp  Parch   Ticket     Fare Embarked  male  C  Q  S  \n",
       "0  34.5      0      0   330911   7.8292        Q     1  0  1  0  \n",
       "1  47.0      1      0   363272   7.0000        S     0  0  0  1  \n",
       "2  62.0      0      0   240276   9.6875        Q     1  0  1  0  \n",
       "3  27.0      0      0   315154   8.6625        S     1  0  0  1  \n",
       "4  22.0      1      1  3101298  12.2875        S     0  0  0  1  "
      ]
     },
     "execution_count": 24,
     "metadata": {},
     "output_type": "execute_result"
    }
   ],
   "source": [
    "df.head()"
   ]
  },
  {
   "cell_type": "code",
   "execution_count": 25,
   "id": "62f8cdd1",
   "metadata": {
    "execution": {
     "iopub.execute_input": "2024-03-07T17:11:30.786856Z",
     "iopub.status.busy": "2024-03-07T17:11:30.786482Z",
     "iopub.status.idle": "2024-03-07T17:11:30.792780Z",
     "shell.execute_reply": "2024-03-07T17:11:30.791720Z"
    },
    "papermill": {
     "duration": 0.026132,
     "end_time": "2024-03-07T17:11:30.794952",
     "exception": false,
     "start_time": "2024-03-07T17:11:30.768820",
     "status": "completed"
    },
    "tags": []
   },
   "outputs": [],
   "source": [
    "df.drop(columns=['Name','Sex','Ticket','Embarked'],axis=1,inplace=True)"
   ]
  },
  {
   "cell_type": "code",
   "execution_count": 26,
   "id": "b8037af2",
   "metadata": {
    "execution": {
     "iopub.execute_input": "2024-03-07T17:11:30.830366Z",
     "iopub.status.busy": "2024-03-07T17:11:30.829312Z",
     "iopub.status.idle": "2024-03-07T17:11:30.835815Z",
     "shell.execute_reply": "2024-03-07T17:11:30.834766Z"
    },
    "papermill": {
     "duration": 0.026691,
     "end_time": "2024-03-07T17:11:30.838040",
     "exception": false,
     "start_time": "2024-03-07T17:11:30.811349",
     "status": "completed"
    },
    "tags": []
   },
   "outputs": [],
   "source": [
    "df.head()\n",
    "df=df.rename({'male':'gender','C':'emb_c','Q':'emb_q','S':'emb_s'},axis=1)"
   ]
  },
  {
   "cell_type": "code",
   "execution_count": 27,
   "id": "4862dbaf",
   "metadata": {
    "execution": {
     "iopub.execute_input": "2024-03-07T17:11:30.872185Z",
     "iopub.status.busy": "2024-03-07T17:11:30.871786Z",
     "iopub.status.idle": "2024-03-07T17:11:30.877811Z",
     "shell.execute_reply": "2024-03-07T17:11:30.876780Z"
    },
    "papermill": {
     "duration": 0.025804,
     "end_time": "2024-03-07T17:11:30.880149",
     "exception": false,
     "start_time": "2024-03-07T17:11:30.854345",
     "status": "completed"
    },
    "tags": []
   },
   "outputs": [],
   "source": [
    "df.dropna(inplace=True)"
   ]
  },
  {
   "cell_type": "code",
   "execution_count": 28,
   "id": "98ddb1d2",
   "metadata": {
    "execution": {
     "iopub.execute_input": "2024-03-07T17:11:30.917070Z",
     "iopub.status.busy": "2024-03-07T17:11:30.915999Z",
     "iopub.status.idle": "2024-03-07T17:11:31.121805Z",
     "shell.execute_reply": "2024-03-07T17:11:31.120604Z"
    },
    "papermill": {
     "duration": 0.226013,
     "end_time": "2024-03-07T17:11:31.124283",
     "exception": false,
     "start_time": "2024-03-07T17:11:30.898270",
     "status": "completed"
    },
    "tags": []
   },
   "outputs": [
    {
     "data": {
      "image/png": "[encoded data removed]",
      "text/plain": [
       "<Figure size 640x480 with 1 Axes>"
      ]
     },
     "metadata": {},
     "output_type": "display_data"
    }
   ],
   "source": [
    "sns.countplot(x='Survived',data=df,hue='gender',palette='coolwarm');"
   ]
  },
  {
   "cell_type": "code",
   "execution_count": 29,
   "id": "fff3f054",
   "metadata": {
    "execution": {
     "iopub.execute_input": "2024-03-07T17:11:31.159949Z",
     "iopub.status.busy": "2024-03-07T17:11:31.159232Z",
     "iopub.status.idle": "2024-03-07T17:11:31.167759Z",
     "shell.execute_reply": "2024-03-07T17:11:31.166754Z"
    },
    "papermill": {
     "duration": 0.028998,
     "end_time": "2024-03-07T17:11:31.169967",
     "exception": false,
     "start_time": "2024-03-07T17:11:31.140969",
     "status": "completed"
    },
    "tags": []
   },
   "outputs": [
    {
     "data": {
      "text/plain": [
       "Survived\n",
       "0    265\n",
       "1    152\n",
       "Name: count, dtype: int64"
      ]
     },
     "execution_count": 29,
     "metadata": {},
     "output_type": "execute_result"
    }
   ],
   "source": [
    "df['Survived'].value_counts()"
   ]
  },
  {
   "cell_type": "code",
   "execution_count": 30,
   "id": "788e66bd",
   "metadata": {
    "execution": {
     "iopub.execute_input": "2024-03-07T17:11:31.205459Z",
     "iopub.status.busy": "2024-03-07T17:11:31.205064Z",
     "iopub.status.idle": "2024-03-07T17:11:31.454759Z",
     "shell.execute_reply": "2024-03-07T17:11:31.453718Z"
    },
    "papermill": {
     "duration": 0.270602,
     "end_time": "2024-03-07T17:11:31.457527",
     "exception": false,
     "start_time": "2024-03-07T17:11:31.186925",
     "status": "completed"
    },
    "tags": []
   },
   "outputs": [],
   "source": [
    "from sklearn.model_selection import train_test_split\n",
    "X=df.drop(columns=['Survived'])\n",
    "y=df['Survived']\n",
    "X_train,X_test,y_train,y_test=train_test_split(X,y,test_size=0.2,random_state=42)"
   ]
  },
  {
   "cell_type": "code",
   "execution_count": 31,
   "id": "be8da024",
   "metadata": {
    "execution": {
     "iopub.execute_input": "2024-03-07T17:11:31.493227Z",
     "iopub.status.busy": "2024-03-07T17:11:31.492838Z",
     "iopub.status.idle": "2024-03-07T17:11:31.616549Z",
     "shell.execute_reply": "2024-03-07T17:11:31.614500Z"
    },
    "papermill": {
     "duration": 0.144621,
     "end_time": "2024-03-07T17:11:31.619153",
     "exception": false,
     "start_time": "2024-03-07T17:11:31.474532",
     "status": "completed"
    },
    "tags": []
   },
   "outputs": [
    {
     "name": "stderr",
     "output_type": "stream",
     "text": [
      "/opt/conda/lib/python3.10/site-packages/sklearn/linear_model/_logistic.py:458: ConvergenceWarning: lbfgs failed to converge (status=1):\n",
      "STOP: TOTAL NO. of ITERATIONS REACHED LIMIT.\n",
      "\n",
      "Increase the number of iterations (max_iter) or scale the data as shown in:\n",
      "    https://scikit-learn.org/stable/modules/preprocessing.html\n",
      "Please also refer to the documentation for alternative solver options:\n",
      "    https://scikit-learn.org/stable/modules/linear_model.html#logistic-regression\n",
      "  n_iter_i = _check_optimize_result(\n"
     ]
    }
   ],
   "source": [
    "from sklearn.linear_model import LogisticRegression\n",
    "model=LogisticRegression()\n",
    "model.fit(X_train,y_train)\n",
    "y_pred=model.predict(X_test)"
   ]
  },
  {
   "cell_type": "code",
   "execution_count": 32,
   "id": "a9ab9ad6",
   "metadata": {
    "execution": {
     "iopub.execute_input": "2024-03-07T17:11:31.655892Z",
     "iopub.status.busy": "2024-03-07T17:11:31.655503Z",
     "iopub.status.idle": "2024-03-07T17:11:31.661789Z",
     "shell.execute_reply": "2024-03-07T17:11:31.660647Z"
    },
    "papermill": {
     "duration": 0.027303,
     "end_time": "2024-03-07T17:11:31.664297",
     "exception": false,
     "start_time": "2024-03-07T17:11:31.636994",
     "status": "completed"
    },
    "tags": []
   },
   "outputs": [
    {
     "name": "stdout",
     "output_type": "stream",
     "text": [
      "[1 0 1 0 1 0 0 0 0 0 1 0 0 0 0 0 0 1 1 1 0 0 0 0 1 1 0 1 0 0 0 1 0 0 1 0 0\n",
      " 0 1 1 0 0 0 1 1 0 1 0 1 0 0 0 1 0 1 1 1 0 0 0 0 0 1 0 0 1 0 1 1 1 1 1 0 0\n",
      " 1 0 1 0 0 1 0 1 1 0]\n",
      "[1 0 1 0 1 0 0 0 0 0 1 0 0 0 0 0 0 1 1 1 0 0 0 0 1 1 0 1 0 0 0 1 0 0 1 0 0\n",
      " 0 1 1 0 0 0 1 1 0 1 0 1 0 0 0 1 0 1 1 1 0 0 0 0 0 1 0 0 1 0 1 1 1 1 1 0 0\n",
      " 1 0 1 0 0 1 0 1 1 0]\n"
     ]
    }
   ],
   "source": [
    "print(y_pred)\n",
    "print(y_test.values)"
   ]
  },
  {
   "cell_type": "code",
   "execution_count": 33,
   "id": "1d83535a",
   "metadata": {
    "execution": {
     "iopub.execute_input": "2024-03-07T17:11:31.756536Z",
     "iopub.status.busy": "2024-03-07T17:11:31.756105Z",
     "iopub.status.idle": "2024-03-07T17:11:31.765521Z",
     "shell.execute_reply": "2024-03-07T17:11:31.764689Z"
    },
    "papermill": {
     "duration": 0.086132,
     "end_time": "2024-03-07T17:11:31.767519",
     "exception": false,
     "start_time": "2024-03-07T17:11:31.681387",
     "status": "completed"
    },
    "tags": []
   },
   "outputs": [
    {
     "data": {
      "text/plain": [
       "array([[50,  0],\n",
       "       [ 0, 34]])"
      ]
     },
     "execution_count": 33,
     "metadata": {},
     "output_type": "execute_result"
    }
   ],
   "source": [
    "from sklearn.metrics import confusion_matrix,classification_report\n",
    "confusion_matrix(y_test,y_pred)"
   ]
  },
  {
   "cell_type": "code",
   "execution_count": 34,
   "id": "e0061366",
   "metadata": {
    "execution": {
     "iopub.execute_input": "2024-03-07T17:11:31.804066Z",
     "iopub.status.busy": "2024-03-07T17:11:31.802880Z",
     "iopub.status.idle": "2024-03-07T17:11:31.817213Z",
     "shell.execute_reply": "2024-03-07T17:11:31.815787Z"
    },
    "papermill": {
     "duration": 0.035144,
     "end_time": "2024-03-07T17:11:31.819861",
     "exception": false,
     "start_time": "2024-03-07T17:11:31.784717",
     "status": "completed"
    },
    "tags": []
   },
   "outputs": [
    {
     "name": "stdout",
     "output_type": "stream",
     "text": [
      "              precision    recall  f1-score   support\n",
      "\n",
      "           0       1.00      1.00      1.00        50\n",
      "           1       1.00      1.00      1.00        34\n",
      "\n",
      "    accuracy                           1.00        84\n",
      "   macro avg       1.00      1.00      1.00        84\n",
      "weighted avg       1.00      1.00      1.00        84\n",
      "\n"
     ]
    }
   ],
   "source": [
    "print(classification_report(y_test,y_pred))"
   ]
  }
 ],
 "metadata": {
  "kaggle": {
   "accelerator": "none",
   "dataSources": [
    {
     "datasetId": 826163,
     "sourceId": 2879186,
     "sourceType": "datasetVersion"
    }
   ],
   "dockerImageVersionId": 30664,
   "isGpuEnabled": false,
   "isInternetEnabled": true,
   "language": "python",
   "sourceType": "notebook"
  },
  "kernelspec": {
   "display_name": "Python 3",
   "language": "python",
   "name": "python3"
  },
  "language_info": {
   "codemirror_mode": {
    "name": "ipython",
    "version": 3
   },
   "file_extension": ".py",
   "mimetype": "text/x-python",
   "name": "python",
   "nbconvert_exporter": "python",
   "pygments_lexer": "ipython3",
   "version": "3.10.13"
  },
  "papermill": {
   "default_parameters": {},
   "duration": 9.800994,
   "end_time": "2024-03-07T17:11:32.458225",
   "environment_variables": {},
   "exception": null,
   "input_path": "__notebook__.ipynb",
   "output_path": "__notebook__.ipynb",
   "parameters": {},
   "start_time": "2024-03-07T17:11:22.657231",
   "version": "2.5.0"
  }
 },
 "nbformat": 4,
 "nbformat_minor": 5
}
