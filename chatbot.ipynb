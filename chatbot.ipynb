{
  "nbformat": 4,
  "nbformat_minor": 0,
  "metadata": {
    "colab": {
      "provenance": [],
      "authorship_tag": "ABX9TyNL2ZiN72I1N1b5WnflQkTd",
      "include_colab_link": true
    },
    "kernelspec": {
      "name": "python3",
      "display_name": "Python 3"
    },
    "language_info": {
      "name": "python"
    }
  },
  "cells": [
    {
      "cell_type": "markdown",
      "metadata": {
        "id": "view-in-github",
        "colab_type": "text"
      },
      "source": [
        "<a href=\"https://colab.research.google.com/github/SALMA55ASHRAF/AI_instant_tasks/blob/master/chatbot.ipynb\" target=\"_parent\"><img src=\"https://colab.research.google.com/assets/colab-badge.svg\" alt=\"Open In Colab\"/></a>"
      ]
    },
    {
      "cell_type": "code",
      "source": [
        "import re\n",
        "import json\n",
        "from difflib import get_close_matches"
      ],
      "metadata": {
        "id": "MdIFcOymQXyo"
      },
      "execution_count": 2,
      "outputs": []
    },
    {
      "cell_type": "code",
      "source": [
        "def load_knowledge_base(file_path:str)->dict:\n",
        "  with open(file_path,'r') as file:\n",
        "    data:dict=json.load(file)\n",
        "  return data\n"
      ],
      "metadata": {
        "id": "nxlunMNmQX9J"
      },
      "execution_count": 3,
      "outputs": []
    },
    {
      "cell_type": "code",
      "source": [
        "def save_knowledge_base(file_path:str,data:dict):\n",
        "  with open(file_path,'w') as file:\n",
        "    json.dump(data,file,indent=2)"
      ],
      "metadata": {
        "id": "JQ9JVZMeQX-L"
      },
      "execution_count": 4,
      "outputs": []
    },
    {
      "cell_type": "code",
      "source": [
        "def find_best_match(user_question:str,questions:list[str])->str|None:\n",
        "  matches:list=get_close_matches(user_question,questions,n=1,cutoff=0.6)\n",
        "  return matches[0] if matches else None"
      ],
      "metadata": {
        "id": "jCw9RPyMQYDP"
      },
      "execution_count": 5,
      "outputs": []
    },
    {
      "cell_type": "code",
      "source": [
        "def get_answer_for_question(question:str,knowledge_base:dict)->str|None:\n",
        "  for q in knowledge_base['questions']:\n",
        "    if q[\"question\"]==question:\n",
        "      return q[\"answer\"]"
      ],
      "metadata": {
        "id": "x0uOCno2QYEg"
      },
      "execution_count": 6,
      "outputs": []
    },
    {
      "cell_type": "code",
      "source": [
        "def chat_bot():\n",
        "  knowledge_base:dict=load_knowledge_base(\"/content/knowledge_base.json\")\n",
        "  while True:\n",
        "    user_input:str=input(\"You : \")\n",
        "    if user_input.lower()=='quit':\n",
        "      break\n",
        "    best_match:str|None =find_best_match(user_input,[q['question']for q in knowledge_base['questions']])\n",
        "    if best_match:\n",
        "      answer:str=get_answer_for_question(best_match,knowledge_base)\n",
        "      print(f\"Bot : {answer}\")\n",
        "    else:\n",
        "      print(\"Bot : i dont know the answer can you teach me \")\n",
        "      new_answer=input(\"Type the answer or skip\")\n",
        "      if new_answer.lower()!=\"skip\":\n",
        "        knowledge_base[\"questions\"].append({\"question\":user_input,\"answer\":new_answer})\n",
        "        save_knowledge_base(\"/content/knowledge_base.json\",knowledge_base)\n",
        "        print(\"Bot thank you i have learned something new \")\n",
        "if __name__=='__main__':\n",
        "  chat_bot()\n",
        "\n"
      ],
      "metadata": {
        "colab": {
          "base_uri": "https://localhost:8080/"
        },
        "id": "cYsFeOVXQYJj",
        "outputId": "fd2f42ef-c119-48c6-e59d-ea7ea15bf211"
      },
      "execution_count": 7,
      "outputs": [
        {
          "name": "stdout",
          "output_type": "stream",
          "text": [
            "You : hello\n",
            "Bot : i dont know the answer can you teach me \n",
            "Type the answer or skiphey there\n",
            "Bot thank you i have learned something new \n",
            "You : hello\n",
            "Bot : hey there\n",
            "You : hey there\n",
            "Bot : i dont know the answer can you teach me \n",
            "Type the answer or skiphello again\n",
            "Bot thank you i have learned something new \n",
            "You : how are you \n",
            "Bot : i dont know the answer can you teach me \n",
            "Type the answer or skipiam fine thank you \n",
            "Bot thank you i have learned something new \n",
            "You : how are you kkkk\n",
            "Bot : iam fine thank you \n",
            "You : quit\n"
          ]
        }
      ]
    },
    {
      "cell_type": "code",
      "source": [],
      "metadata": {
        "id": "qHI4PnDyQYKr"
      },
      "execution_count": null,
      "outputs": []
    },
    {
      "cell_type": "code",
      "source": [],
      "metadata": {
        "id": "dJLSWBvQQYP0"
      },
      "execution_count": null,
      "outputs": []
    },
    {
      "cell_type": "code",
      "source": [],
      "metadata": {
        "id": "s4VZbg9JQYQ9"
      },
      "execution_count": null,
      "outputs": []
    },
    {
      "cell_type": "code",
      "source": [],
      "metadata": {
        "id": "7dUiPAiwQYWb"
      },
      "execution_count": null,
      "outputs": []
    },
    {
      "cell_type": "code",
      "source": [],
      "metadata": {
        "id": "y_oMx0wkQYXm"
      },
      "execution_count": null,
      "outputs": []
    },
    {
      "cell_type": "code",
      "source": [],
      "metadata": {
        "id": "KoJ4XWreQYca"
      },
      "execution_count": null,
      "outputs": []
    },
    {
      "cell_type": "code",
      "source": [],
      "metadata": {
        "id": "XeQytJnlQYdn"
      },
      "execution_count": null,
      "outputs": []
    },
    {
      "cell_type": "code",
      "source": [],
      "metadata": {
        "id": "MxKmiRMxQYi3"
      },
      "execution_count": null,
      "outputs": []
    },
    {
      "cell_type": "code",
      "source": [],
      "metadata": {
        "id": "--20ovdcQYkR"
      },
      "execution_count": null,
      "outputs": []
    }
  ]
}