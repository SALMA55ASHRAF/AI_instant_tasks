{
 "cells": [
  {
   "cell_type": "markdown",
   "id": "b309ce33-d32e-47f0-b3ea-554b6a33e427",
   "metadata": {},
   "source": [
    "<h1 >Automate Your EDA and Understand the Data Quickly</h1>"
   ]
  },
  {
   "cell_type": "markdown",
   "id": "245e3193-cd05-40d8-b163-a4bd05406f4c",
   "metadata": {},
   "source": [
    "### I will share five different Python-supported packages that will transform the way you analyze data. \n",
    "<h3> These packages automate your data-analyzing tasks and perform EDA with ease and speed.</h3>\n",
    "<h3> It also gives an overview of the data and delivers a thorough and comprehensive analysis that allows you to visualize the data easily and gain valuable insights</h3>"
   ]
  },
  {
   "cell_type": "markdown",
   "id": "dd364cf5-f970-4c9f-8c66-8cfa7240c9ce",
   "metadata": {},
   "source": [
    "### why we need to automate our data analysis and visulztion :\n",
    "#### We all know that manual exploratory data analysis (EDA) can be time-consuming, \n",
    "#### especially when we’re diving into new data. \n",
    "#### It eats up hours of our days to analyze and understand the data."
   ]
  },
  {
   "cell_type": "markdown",
   "id": "2e75fcba-931e-4441-bd4d-bfbbc96446a1",
   "metadata": {},
   "source": [
    "# Dtale"
   ]
  },
  {
   "cell_type": "code",
   "execution_count": null,
   "id": "d42f9416-099b-4b43-8747-5621448f52d2",
   "metadata": {},
   "outputs": [],
   "source": [
    "#I will be using the House price datasets its csv 'Housing.csv'\n",
    "# first we have to install dtale using pip install dtale\n",
    "!pip install dtale"
   ]
  },
  {
   "cell_type": "code",
   "execution_count": null,
   "id": "3a6287e6-f75e-46a3-81b5-99729247d5ba",
   "metadata": {},
   "outputs": [],
   "source": [
    "import dtale"
   ]
  },
  {
   "cell_type": "code",
   "execution_count": null,
   "id": "4d05c82c-4f51-4b09-a7de-a51661a633ae",
   "metadata": {},
   "outputs": [],
   "source": [
    "import pandas as pd\n",
    "from IPython.core.display import display, HTML\n",
    "display(HTML(\"<style>.container { width:90% !important; }</style>\"))\n",
    "\n",
    "# read the data \n",
    "data = pd.read_csv('Housing.csv')\n",
    "data.columns = data.columns.str.upper()   #convert the columns to uppercase \n",
    "data"
   ]
  },
  {
   "cell_type": "code",
   "execution_count": null,
   "id": "c8e8dacb-d60e-46e9-9e39-0054b52461dc",
   "metadata": {
    "scrolled": true
   },
   "outputs": [],
   "source": [
    "dtale.show(data)"
   ]
  },
  {
   "cell_type": "markdown",
   "id": "7ebe648a-f557-4286-97f6-9ffdc0f9a00a",
   "metadata": {},
   "source": [
    "<h3>i will show you some of what i do using Dtale</h3>"
   ]
  },
  {
   "cell_type": "markdown",
   "id": "c3742525-9198-4489-aa36-d7f6bc064b92",
   "metadata": {},
   "source": [
    "![Example Image](Screenshot.png)\n"
   ]
  },
  {
   "cell_type": "markdown",
   "id": "65a32097-3c73-4a26-932f-d38dc5a1a795",
   "metadata": {},
   "source": [
    "### after chossing specific columns for corr"
   ]
  },
  {
   "cell_type": "markdown",
   "id": "281f9aef-5b0b-45ca-8e16-2447502c56d7",
   "metadata": {},
   "source": [
    "![Example Image](Screenshot2.png)"
   ]
  },
  {
   "cell_type": "markdown",
   "id": "5b8b5d70-6819-4eee-8d00-99a8a79a29ea",
   "metadata": {},
   "source": [
    "![Example Image](Screenshot3.png)"
   ]
  },
  {
   "cell_type": "markdown",
   "id": "6452573c-2d29-43f5-a966-8c21cee986e9",
   "metadata": {},
   "source": [
    "# sweetviz"
   ]
  },
  {
   "cell_type": "code",
   "execution_count": null,
   "id": "ee504663-3ce7-4d55-9c06-c5db81bce6fb",
   "metadata": {},
   "outputs": [],
   "source": [
    "! pip install sweetviz"
   ]
  },
  {
   "cell_type": "code",
   "execution_count": null,
   "id": "3915af97-ece9-4574-80b8-b81123346b85",
   "metadata": {},
   "outputs": [],
   "source": [
    "import sweetviz as sv\n",
    "\n",
    "# make analysis and assign the target feature\n",
    "sweet_report = sv.analyze(data , target_feat='PRICE') \n",
    "\n",
    "# view the analysis result in browser \n",
    "# save the analysis result into html\n",
    "sweet_report.show_html('analysis_with_sweetviz.html', scale=0.92)"
   ]
  },
  {
   "cell_type": "markdown",
   "id": "e5a3dd1f-d812-4542-a185-54966d498d6c",
   "metadata": {},
   "source": [
    "![Example Image](Screenshot401.png)"
   ]
  },
  {
   "cell_type": "markdown",
   "id": "ad53dfb0-a2c4-4e1a-ae7d-e79500379365",
   "metadata": {},
   "source": [
    "# pandas profiling"
   ]
  },
  {
   "cell_type": "code",
   "execution_count": null,
   "id": "3f645691-9caa-4359-a011-53dbe0a73e38",
   "metadata": {},
   "outputs": [],
   "source": [
    "# install the package \n",
    "#(use ydata-profiling instead of pandas-profiling to avoid errors.)\n",
    "\n",
    "!pip install ydata-profiling"
   ]
  },
  {
   "cell_type": "code",
   "execution_count": null,
   "id": "985437ba-c6db-4709-877d-fd3151e4dd06",
   "metadata": {},
   "outputs": [],
   "source": [
    "from pandas_profiling import ProfileReport\n",
    "\n",
    "# view the analysis result inside jupyter\n",
    "prof = ProfileReport(data,  minimal=True, title=\"DATA ANALYSIS REPORT\")\n",
    "# save the analysis to html\n",
    "prof.to_file(output_file='PANDAS_PROFILING_ANALYSIS.html')"
   ]
  },
  {
   "cell_type": "markdown",
   "id": "a4928dbd-7856-4480-9b24-03d1a69567b2",
   "metadata": {},
   "source": [
    "![Example Image](Screenshot(403).png)"
   ]
  },
  {
   "cell_type": "markdown",
   "id": "a2b6bda5-b5d6-4340-b406-b6d8c6348ac7",
   "metadata": {},
   "source": [
    "![Example Image](Screenshot(402).png)"
   ]
  },
  {
   "cell_type": "markdown",
   "id": "89690056-5ba7-46ab-9d3b-b411746a541a",
   "metadata": {},
   "source": [
    "# pygwalker"
   ]
  },
  {
   "cell_type": "code",
   "execution_count": null,
   "id": "11195a44-5b7d-4287-b438-7396b41c4504",
   "metadata": {},
   "outputs": [],
   "source": [
    "!pip install pygwalker"
   ]
  },
  {
   "cell_type": "code",
   "execution_count": null,
   "id": "d06629f1-7cad-461c-aa06-08569792df6d",
   "metadata": {},
   "outputs": [],
   "source": [
    "# import the library\n",
    "import pygwalker as pyg\n",
    "\n",
    "# run the code\n",
    "pyg.walk(data)"
   ]
  },
  {
   "cell_type": "markdown",
   "id": "70128f68-77f7-4818-adef-3d6d2ddd2ade",
   "metadata": {},
   "source": [
    " # autoviz"
   ]
  },
  {
   "cell_type": "code",
   "execution_count": null,
   "id": "6c973a85-024f-473f-8834-52b51e2973fd",
   "metadata": {},
   "outputs": [],
   "source": [
    "!pip install autoviz"
   ]
  },
  {
   "cell_type": "code",
   "execution_count": null,
   "id": "30315445-f0e8-42ab-879f-af4a7dba4d2a",
   "metadata": {},
   "outputs": [],
   "source": [
    "# import the library\n",
    "from autoviz import AutoViz_Class\n",
    "\n",
    "#av = AutoViz_Class()\n",
    "avt = av.AutoViz(\"\",dfte = data,header = 0,verbose = 1,lowess = False,\n",
    "      chart_format = \"server\",max_rows_analyzed = 10000,max_cols_analyzed = 10,\n",
    "      save_plot_dir=None)"
   ]
  },
  {
   "cell_type": "markdown",
   "id": "bf2eba2d-a8ad-48b7-988a-4e3252fc6dea",
   "metadata": {},
   "source": [
    "\n",
    "![Example Image](Screenshot(404).png)"
   ]
  },
  {
   "cell_type": "markdown",
   "id": "2ab056cf-da05-47ed-be4e-f5af77740fb6",
   "metadata": {},
   "source": [
    "# Conclusion\n",
    "### I've shared important Python libraries that can help you streamline your EDA and significantly reduce the time you spend \n",
    "## while offering invaluable insights into your data swiftly. \n",
    "<br>\n",
    "<h3>Keep in mind that these libraries serve as an alternative for automated data analysis. </h3>\n",
    "But hey, there might be times when you have to roll up your sleeves and do manual data analysis for deeper visualization. \n",
    "Nonetheless, these libraries are absolutely worth incorporating into all your data analysis and visualization tasks!"
   ]
  },
  {
   "cell_type": "code",
   "execution_count": null,
   "id": "5a1fd38f-f175-40e2-9b22-3cb56eb69c9a",
   "metadata": {},
   "outputs": [],
   "source": []
  }
 ],
 "metadata": {
  "kernelspec": {
   "display_name": "Python 3 (ipykernel)",
   "language": "python",
   "name": "python3"
  },
  "language_info": {
   "codemirror_mode": {
    "name": "ipython",
    "version": 3
   },
   "file_extension": ".py",
   "mimetype": "text/x-python",
   "name": "python",
   "nbconvert_exporter": "python",
   "pygments_lexer": "ipython3",
   "version": "3.11.7"
  }
 },
 "nbformat": 4,
 "nbformat_minor": 5
}
